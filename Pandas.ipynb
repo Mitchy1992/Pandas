{
 "cells": [
  {
   "cell_type": "markdown",
   "id": "b2aae71f",
   "metadata": {},
   "source": [
    "# PANDAS"
   ]
  },
  {
   "cell_type": "markdown",
   "id": "3d802294",
   "metadata": {},
   "source": [
    "#### Designed to make data cleaning and analysis fast and easy in python. Designed to work with tabular and heterogenous data , unlike numpy which uses homogenous numerical data. \n"
   ]
  },
  {
   "cell_type": "code",
   "execution_count": 137,
   "id": "498e9e3a",
   "metadata": {},
   "outputs": [],
   "source": [
    "import numpy as np\n",
    "\n",
    "import pandas as pd\n",
    "\n",
    "from pandas import Series, DataFrame"
   ]
  },
  {
   "cell_type": "markdown",
   "id": "fada786b",
   "metadata": {},
   "source": [
    "Pandas has two main datastructures : \n",
    "1. Series\n",
    "2. Dataframe\n"
   ]
  },
  {
   "cell_type": "markdown",
   "id": "b1249f06",
   "metadata": {},
   "source": [
    "### Series  "
   ]
  },
  {
   "cell_type": "markdown",
   "id": "dc8852e6",
   "metadata": {},
   "source": [
    "A series is a one dimensional array like object containing a sequence of values , and its associated data labels called its index. "
   ]
  },
  {
   "cell_type": "code",
   "execution_count": 138,
   "id": "d76d8e28",
   "metadata": {},
   "outputs": [
    {
     "name": "stdout",
     "output_type": "stream",
     "text": [
      "0    1\n",
      "1    2\n",
      "2    3\n",
      "3    4\n",
      "4    5\n",
      "5    6\n",
      "6   -7\n",
      "dtype: int64\n"
     ]
    }
   ],
   "source": [
    "obj = pd.Series([1,2,3,4,5,6,-7]) # series is case sensitive , so whenever called its .Series()\n",
    "print(obj)"
   ]
  },
  {
   "cell_type": "code",
   "execution_count": 139,
   "id": "3efaba01",
   "metadata": {},
   "outputs": [
    {
     "data": {
      "text/plain": [
       "array([ 1,  2,  3,  4,  5,  6, -7])"
      ]
     },
     "execution_count": 139,
     "metadata": {},
     "output_type": "execute_result"
    }
   ],
   "source": [
    "obj.values # .values gets array representation"
   ]
  },
  {
   "cell_type": "code",
   "execution_count": 140,
   "id": "17daa6fd",
   "metadata": {},
   "outputs": [
    {
     "data": {
      "text/plain": [
       "RangeIndex(start=0, stop=7, step=1)"
      ]
     },
     "execution_count": 140,
     "metadata": {},
     "output_type": "execute_result"
    }
   ],
   "source": [
    "obj.index # .index gets the index object"
   ]
  },
  {
   "cell_type": "code",
   "execution_count": 141,
   "id": "39b20e09",
   "metadata": {},
   "outputs": [
    {
     "data": {
      "text/plain": [
       "b    1\n",
       "d    2\n",
       "e    3\n",
       "a    4\n",
       "c    5\n",
       "dtype: int64"
      ]
     },
     "execution_count": 141,
     "metadata": {},
     "output_type": "execute_result"
    }
   ],
   "source": [
    "# create a series with unique index \n",
    "\n",
    "obj2 = pd.Series([1,2,3,4,5], index = ['b','d','e','a','c'])\n",
    "obj2"
   ]
  },
  {
   "cell_type": "code",
   "execution_count": 142,
   "id": "731d0146",
   "metadata": {},
   "outputs": [
    {
     "data": {
      "text/plain": [
       "Index(['b', 'd', 'e', 'a', 'c'], dtype='object')"
      ]
     },
     "execution_count": 142,
     "metadata": {},
     "output_type": "execute_result"
    }
   ],
   "source": [
    "obj2.index"
   ]
  },
  {
   "cell_type": "code",
   "execution_count": 143,
   "id": "f9730677",
   "metadata": {},
   "outputs": [
    {
     "data": {
      "text/plain": [
       "3"
      ]
     },
     "execution_count": 143,
     "metadata": {},
     "output_type": "execute_result"
    }
   ],
   "source": [
    "#get values by calling out index\n",
    "\n",
    "obj2['e']\n"
   ]
  },
  {
   "cell_type": "code",
   "execution_count": 144,
   "id": "95a34b15",
   "metadata": {},
   "outputs": [
    {
     "data": {
      "text/plain": [
       "c    5\n",
       "a    4\n",
       "d    2\n",
       "dtype: int64"
      ]
     },
     "execution_count": 144,
     "metadata": {},
     "output_type": "execute_result"
    }
   ],
   "source": [
    "obj2[['c', 'a', 'd']]"
   ]
  },
  {
   "cell_type": "code",
   "execution_count": 145,
   "id": "4948f9ed",
   "metadata": {},
   "outputs": [
    {
     "data": {
      "text/plain": [
       "e    3\n",
       "a    4\n",
       "c    5\n",
       "dtype: int64"
      ]
     },
     "execution_count": 145,
     "metadata": {},
     "output_type": "execute_result"
    }
   ],
   "source": [
    "# Can perform maths on series , and boolean filtering ; preserving index values link\n",
    "\n",
    "obj2[obj2 > 2]"
   ]
  },
  {
   "cell_type": "code",
   "execution_count": 146,
   "id": "d240c3d1",
   "metadata": {},
   "outputs": [
    {
     "data": {
      "text/plain": [
       "b     2\n",
       "d     4\n",
       "e     6\n",
       "a     8\n",
       "c    10\n",
       "dtype: int64"
      ]
     },
     "execution_count": 146,
     "metadata": {},
     "output_type": "execute_result"
    }
   ],
   "source": [
    "obj2 * 2 "
   ]
  },
  {
   "cell_type": "code",
   "execution_count": 147,
   "id": "2ee30460",
   "metadata": {},
   "outputs": [
    {
     "data": {
      "text/plain": [
       "5"
      ]
     },
     "execution_count": 147,
     "metadata": {},
     "output_type": "execute_result"
    }
   ],
   "source": [
    "np.max(obj2)"
   ]
  },
  {
   "cell_type": "code",
   "execution_count": 148,
   "id": "6bcec469",
   "metadata": {},
   "outputs": [
    {
     "data": {
      "text/plain": [
       "b      2.718282\n",
       "d      7.389056\n",
       "e     20.085537\n",
       "a     54.598150\n",
       "c    148.413159\n",
       "dtype: float64"
      ]
     },
     "execution_count": 148,
     "metadata": {},
     "output_type": "execute_result"
    }
   ],
   "source": [
    "np.exp(obj2)"
   ]
  },
  {
   "cell_type": "code",
   "execution_count": 149,
   "id": "0c64921c",
   "metadata": {},
   "outputs": [
    {
     "data": {
      "text/plain": [
       "True"
      ]
     },
     "execution_count": 149,
     "metadata": {},
     "output_type": "execute_result"
    }
   ],
   "source": [
    "'a' in obj2"
   ]
  },
  {
   "cell_type": "code",
   "execution_count": 150,
   "id": "08cca517",
   "metadata": {},
   "outputs": [
    {
     "data": {
      "text/plain": [
       "False"
      ]
     },
     "execution_count": 150,
     "metadata": {},
     "output_type": "execute_result"
    }
   ],
   "source": [
    "2 in obj2"
   ]
  },
  {
   "cell_type": "markdown",
   "id": "054616d5",
   "metadata": {},
   "source": [
    "## Another way of thinking about series is , that it is a fixed length ordered dictionary , mapping the index values to data values !!"
   ]
  },
  {
   "cell_type": "markdown",
   "id": "c539b60a",
   "metadata": {},
   "source": [
    "### can also pass in a dict into a series "
   ]
  },
  {
   "cell_type": "code",
   "execution_count": 151,
   "id": "622ac3ff",
   "metadata": {},
   "outputs": [],
   "source": [
    "player_data = {'kohli': 'batsmen', 'bumrah':'bowler', 'pant':'keeper', 'chahal':'spinner', 'hardik':'all-rounder'}"
   ]
  },
  {
   "cell_type": "code",
   "execution_count": 152,
   "id": "e42b6c7c",
   "metadata": {},
   "outputs": [],
   "source": [
    "series_data = pd.Series(player_data)"
   ]
  },
  {
   "cell_type": "code",
   "execution_count": 153,
   "id": "371782da",
   "metadata": {},
   "outputs": [
    {
     "data": {
      "text/plain": [
       "kohli         batsmen\n",
       "bumrah         bowler\n",
       "pant           keeper\n",
       "chahal        spinner\n",
       "hardik    all-rounder\n",
       "dtype: object"
      ]
     },
     "execution_count": 153,
     "metadata": {},
     "output_type": "execute_result"
    }
   ],
   "source": [
    "series_data"
   ]
  },
  {
   "cell_type": "code",
   "execution_count": 154,
   "id": "8a592462",
   "metadata": {},
   "outputs": [],
   "source": [
    "# change the order of index , by choosing key order  # can aslo use .reindex() , check Index section\n",
    "\n",
    "my_index = ['kohli', 'pant', 'hardik', 'chahal', 'bumrah', 'shami']\n",
    "\n",
    "updated_data = pd.Series(player_data, index=my_index)"
   ]
  },
  {
   "cell_type": "code",
   "execution_count": 155,
   "id": "1208f7d4",
   "metadata": {},
   "outputs": [
    {
     "data": {
      "text/plain": [
       "kohli         batsmen\n",
       "pant           keeper\n",
       "hardik    all-rounder\n",
       "chahal        spinner\n",
       "bumrah         bowler\n",
       "shami             NaN\n",
       "dtype: object"
      ]
     },
     "execution_count": 155,
     "metadata": {},
     "output_type": "execute_result"
    }
   ],
   "source": [
    "updated_data"
   ]
  },
  {
   "cell_type": "code",
   "execution_count": 156,
   "id": "e9b4b787",
   "metadata": {},
   "outputs": [
    {
     "data": {
      "text/plain": [
       "kohli     False\n",
       "pant      False\n",
       "hardik    False\n",
       "chahal    False\n",
       "bumrah    False\n",
       "shami      True\n",
       "dtype: bool"
      ]
     },
     "execution_count": 156,
     "metadata": {},
     "output_type": "execute_result"
    }
   ],
   "source": [
    "pd.isnull(updated_data) #check for any missing values   "
   ]
  },
  {
   "cell_type": "code",
   "execution_count": 157,
   "id": "caacee1c",
   "metadata": {},
   "outputs": [
    {
     "data": {
      "text/plain": [
       "kohli      True\n",
       "pant       True\n",
       "hardik     True\n",
       "chahal     True\n",
       "bumrah     True\n",
       "shami     False\n",
       "dtype: bool"
      ]
     },
     "execution_count": 157,
     "metadata": {},
     "output_type": "execute_result"
    }
   ],
   "source": [
    "pd.notnull(updated_data) #check for no missing data "
   ]
  },
  {
   "cell_type": "code",
   "execution_count": 158,
   "id": "2176cedf",
   "metadata": {},
   "outputs": [
    {
     "data": {
      "text/plain": [
       "kohli     False\n",
       "pant      False\n",
       "hardik    False\n",
       "chahal    False\n",
       "bumrah    False\n",
       "shami      True\n",
       "dtype: bool"
      ]
     },
     "execution_count": 158,
     "metadata": {},
     "output_type": "execute_result"
    }
   ],
   "source": [
    "# isnull and notnull can be used as attributes or methods \n",
    "\n",
    "updated_data.isnull()"
   ]
  },
  {
   "cell_type": "code",
   "execution_count": 159,
   "id": "122d3f58",
   "metadata": {},
   "outputs": [
    {
     "data": {
      "text/plain": [
       "a    21\n",
       "c    33\n",
       "e     1\n",
       "f    61\n",
       "b    12\n",
       "d    99\n",
       "dtype: int64"
      ]
     },
     "execution_count": 159,
     "metadata": {},
     "output_type": "execute_result"
    }
   ],
   "source": [
    "sample_dict = {'a':21, 'c':33, 'e':1, 'f':61, 'b':12, 'd':99}\n",
    "\n",
    "sample_series = pd.Series(sample_dict)\n",
    "\n",
    "sample_series"
   ]
  },
  {
   "cell_type": "markdown",
   "id": "63ed4100",
   "metadata": {},
   "source": [
    "index and data values have an attribute name , useful in identifying variable names"
   ]
  },
  {
   "cell_type": "code",
   "execution_count": 160,
   "id": "cf032f31",
   "metadata": {},
   "outputs": [
    {
     "data": {
      "text/plain": [
       "key1    21\n",
       "key2    33\n",
       "key3     1\n",
       "key4    61\n",
       "key5    12\n",
       "key6    99\n",
       "dtype: int64"
      ]
     },
     "execution_count": 160,
     "metadata": {},
     "output_type": "execute_result"
    }
   ],
   "source": [
    "sample_series.index = ['key1','key2','key3','key4','key5','key6']\n",
    "\n",
    "sample_series"
   ]
  },
  {
   "cell_type": "markdown",
   "id": "a47ef2c3",
   "metadata": {},
   "source": [
    "### DataFrame"
   ]
  },
  {
   "cell_type": "markdown",
   "id": "ecc6df7a",
   "metadata": {},
   "source": [
    "A DataFrame represents a rectangular table of data and contains an order collection of columns each of which \n",
    "can be a different type(numeric, string, boolean). The DataFrame has both row and column index.\n",
    "DataFrame can be thought of as a dict of Series all sharing the same index."
   ]
  },
  {
   "cell_type": "code",
   "execution_count": 161,
   "id": "2de6166a",
   "metadata": {},
   "outputs": [
    {
     "data": {
      "text/html": [
       "<div>\n",
       "<style scoped>\n",
       "    .dataframe tbody tr th:only-of-type {\n",
       "        vertical-align: middle;\n",
       "    }\n",
       "\n",
       "    .dataframe tbody tr th {\n",
       "        vertical-align: top;\n",
       "    }\n",
       "\n",
       "    .dataframe thead th {\n",
       "        text-align: right;\n",
       "    }\n",
       "</style>\n",
       "<table border=\"1\" class=\"dataframe\">\n",
       "  <thead>\n",
       "    <tr style=\"text-align: right;\">\n",
       "      <th></th>\n",
       "      <th>country</th>\n",
       "      <th>continent</th>\n",
       "      <th>population</th>\n",
       "    </tr>\n",
       "  </thead>\n",
       "  <tbody>\n",
       "    <tr>\n",
       "      <th>0</th>\n",
       "      <td>India</td>\n",
       "      <td>Asia</td>\n",
       "      <td>120934523</td>\n",
       "    </tr>\n",
       "    <tr>\n",
       "      <th>1</th>\n",
       "      <td>Austria</td>\n",
       "      <td>Europe</td>\n",
       "      <td>2398762</td>\n",
       "    </tr>\n",
       "    <tr>\n",
       "      <th>2</th>\n",
       "      <td>Usa</td>\n",
       "      <td>North America</td>\n",
       "      <td>15000000</td>\n",
       "    </tr>\n",
       "    <tr>\n",
       "      <th>3</th>\n",
       "      <td>Iran</td>\n",
       "      <td>Middle East</td>\n",
       "      <td>54637263</td>\n",
       "    </tr>\n",
       "    <tr>\n",
       "      <th>4</th>\n",
       "      <td>Tasmania</td>\n",
       "      <td>Australia</td>\n",
       "      <td>309287</td>\n",
       "    </tr>\n",
       "    <tr>\n",
       "      <th>5</th>\n",
       "      <td>Angola</td>\n",
       "      <td>Africa</td>\n",
       "      <td>31092832</td>\n",
       "    </tr>\n",
       "    <tr>\n",
       "      <th>6</th>\n",
       "      <td>Chile</td>\n",
       "      <td>South America</td>\n",
       "      <td>27894562</td>\n",
       "    </tr>\n",
       "  </tbody>\n",
       "</table>\n",
       "</div>"
      ],
      "text/plain": [
       "    country      continent  population\n",
       "0     India           Asia   120934523\n",
       "1   Austria         Europe     2398762\n",
       "2       Usa  North America    15000000\n",
       "3      Iran    Middle East    54637263\n",
       "4  Tasmania      Australia      309287\n",
       "5    Angola         Africa    31092832\n",
       "6     Chile  South America    27894562"
      ]
     },
     "execution_count": 161,
     "metadata": {},
     "output_type": "execute_result"
    }
   ],
   "source": [
    "data = {'country': ['India', 'Austria', 'Usa', 'Iran', 'Tasmania', 'Angola', 'Chile'],\n",
    "        'continent': ['Asia', 'Europe', 'North America', 'Middle East', 'Australia', 'Africa', 'South America'],\n",
    "        'population':[120934523, 2398762, 15000000, 54637263, 309287, 31092832, 27894562]\n",
    "       }\n",
    "\n",
    "dataframe = pd.DataFrame(data)\n",
    "\n",
    "dataframe"
   ]
  },
  {
   "cell_type": "code",
   "execution_count": 162,
   "id": "59de9bf3",
   "metadata": {},
   "outputs": [
    {
     "data": {
      "text/html": [
       "<div>\n",
       "<style scoped>\n",
       "    .dataframe tbody tr th:only-of-type {\n",
       "        vertical-align: middle;\n",
       "    }\n",
       "\n",
       "    .dataframe tbody tr th {\n",
       "        vertical-align: top;\n",
       "    }\n",
       "\n",
       "    .dataframe thead th {\n",
       "        text-align: right;\n",
       "    }\n",
       "</style>\n",
       "<table border=\"1\" class=\"dataframe\">\n",
       "  <thead>\n",
       "    <tr style=\"text-align: right;\">\n",
       "      <th></th>\n",
       "      <th>continent</th>\n",
       "      <th>country</th>\n",
       "      <th>population</th>\n",
       "    </tr>\n",
       "  </thead>\n",
       "  <tbody>\n",
       "    <tr>\n",
       "      <th>0</th>\n",
       "      <td>Asia</td>\n",
       "      <td>India</td>\n",
       "      <td>120934523</td>\n",
       "    </tr>\n",
       "    <tr>\n",
       "      <th>1</th>\n",
       "      <td>Europe</td>\n",
       "      <td>Austria</td>\n",
       "      <td>2398762</td>\n",
       "    </tr>\n",
       "    <tr>\n",
       "      <th>2</th>\n",
       "      <td>North America</td>\n",
       "      <td>Usa</td>\n",
       "      <td>15000000</td>\n",
       "    </tr>\n",
       "    <tr>\n",
       "      <th>3</th>\n",
       "      <td>Middle East</td>\n",
       "      <td>Iran</td>\n",
       "      <td>54637263</td>\n",
       "    </tr>\n",
       "    <tr>\n",
       "      <th>4</th>\n",
       "      <td>Australia</td>\n",
       "      <td>Tasmania</td>\n",
       "      <td>309287</td>\n",
       "    </tr>\n",
       "    <tr>\n",
       "      <th>5</th>\n",
       "      <td>Africa</td>\n",
       "      <td>Angola</td>\n",
       "      <td>31092832</td>\n",
       "    </tr>\n",
       "    <tr>\n",
       "      <th>6</th>\n",
       "      <td>South America</td>\n",
       "      <td>Chile</td>\n",
       "      <td>27894562</td>\n",
       "    </tr>\n",
       "  </tbody>\n",
       "</table>\n",
       "</div>"
      ],
      "text/plain": [
       "       continent   country  population\n",
       "0           Asia     India   120934523\n",
       "1         Europe   Austria     2398762\n",
       "2  North America       Usa    15000000\n",
       "3    Middle East      Iran    54637263\n",
       "4      Australia  Tasmania      309287\n",
       "5         Africa    Angola    31092832\n",
       "6  South America     Chile    27894562"
      ]
     },
     "execution_count": 162,
     "metadata": {},
     "output_type": "execute_result"
    }
   ],
   "source": [
    "# can specify a sequence of column\n",
    "\n",
    "pd.DataFrame(data, columns =['continent', 'country', 'population'])"
   ]
  },
  {
   "cell_type": "code",
   "execution_count": 163,
   "id": "f0a920a5",
   "metadata": {},
   "outputs": [
    {
     "data": {
      "text/html": [
       "<div>\n",
       "<style scoped>\n",
       "    .dataframe tbody tr th:only-of-type {\n",
       "        vertical-align: middle;\n",
       "    }\n",
       "\n",
       "    .dataframe tbody tr th {\n",
       "        vertical-align: top;\n",
       "    }\n",
       "\n",
       "    .dataframe thead th {\n",
       "        text-align: right;\n",
       "    }\n",
       "</style>\n",
       "<table border=\"1\" class=\"dataframe\">\n",
       "  <thead>\n",
       "    <tr style=\"text-align: right;\">\n",
       "      <th></th>\n",
       "      <th>country</th>\n",
       "      <th>population</th>\n",
       "    </tr>\n",
       "  </thead>\n",
       "  <tbody>\n",
       "    <tr>\n",
       "      <th>0</th>\n",
       "      <td>India</td>\n",
       "      <td>120934523</td>\n",
       "    </tr>\n",
       "    <tr>\n",
       "      <th>1</th>\n",
       "      <td>Austria</td>\n",
       "      <td>2398762</td>\n",
       "    </tr>\n",
       "    <tr>\n",
       "      <th>2</th>\n",
       "      <td>Usa</td>\n",
       "      <td>15000000</td>\n",
       "    </tr>\n",
       "    <tr>\n",
       "      <th>3</th>\n",
       "      <td>Iran</td>\n",
       "      <td>54637263</td>\n",
       "    </tr>\n",
       "    <tr>\n",
       "      <th>4</th>\n",
       "      <td>Tasmania</td>\n",
       "      <td>309287</td>\n",
       "    </tr>\n",
       "    <tr>\n",
       "      <th>5</th>\n",
       "      <td>Angola</td>\n",
       "      <td>31092832</td>\n",
       "    </tr>\n",
       "    <tr>\n",
       "      <th>6</th>\n",
       "      <td>Chile</td>\n",
       "      <td>27894562</td>\n",
       "    </tr>\n",
       "  </tbody>\n",
       "</table>\n",
       "</div>"
      ],
      "text/plain": [
       "    country  population\n",
       "0     India   120934523\n",
       "1   Austria     2398762\n",
       "2       Usa    15000000\n",
       "3      Iran    54637263\n",
       "4  Tasmania      309287\n",
       "5    Angola    31092832\n",
       "6     Chile    27894562"
      ]
     },
     "execution_count": 163,
     "metadata": {},
     "output_type": "execute_result"
    }
   ],
   "source": [
    "dataframe[['country', 'population']]  # double square brackets if require more than one column"
   ]
  },
  {
   "cell_type": "code",
   "execution_count": 164,
   "id": "0f7eeabc",
   "metadata": {},
   "outputs": [
    {
     "data": {
      "text/html": [
       "<div>\n",
       "<style scoped>\n",
       "    .dataframe tbody tr th:only-of-type {\n",
       "        vertical-align: middle;\n",
       "    }\n",
       "\n",
       "    .dataframe tbody tr th {\n",
       "        vertical-align: top;\n",
       "    }\n",
       "\n",
       "    .dataframe thead th {\n",
       "        text-align: right;\n",
       "    }\n",
       "</style>\n",
       "<table border=\"1\" class=\"dataframe\">\n",
       "  <thead>\n",
       "    <tr style=\"text-align: right;\">\n",
       "      <th></th>\n",
       "      <th>country</th>\n",
       "      <th>continent</th>\n",
       "      <th>population</th>\n",
       "      <th>debt</th>\n",
       "    </tr>\n",
       "  </thead>\n",
       "  <tbody>\n",
       "    <tr>\n",
       "      <th>one</th>\n",
       "      <td>India</td>\n",
       "      <td>Asia</td>\n",
       "      <td>120934523</td>\n",
       "      <td>NaN</td>\n",
       "    </tr>\n",
       "    <tr>\n",
       "      <th>two</th>\n",
       "      <td>Austria</td>\n",
       "      <td>Europe</td>\n",
       "      <td>2398762</td>\n",
       "      <td>NaN</td>\n",
       "    </tr>\n",
       "    <tr>\n",
       "      <th>three</th>\n",
       "      <td>Usa</td>\n",
       "      <td>North America</td>\n",
       "      <td>15000000</td>\n",
       "      <td>NaN</td>\n",
       "    </tr>\n",
       "    <tr>\n",
       "      <th>four</th>\n",
       "      <td>Iran</td>\n",
       "      <td>Middle East</td>\n",
       "      <td>54637263</td>\n",
       "      <td>NaN</td>\n",
       "    </tr>\n",
       "    <tr>\n",
       "      <th>five</th>\n",
       "      <td>Tasmania</td>\n",
       "      <td>Australia</td>\n",
       "      <td>309287</td>\n",
       "      <td>NaN</td>\n",
       "    </tr>\n",
       "    <tr>\n",
       "      <th>six</th>\n",
       "      <td>Angola</td>\n",
       "      <td>Africa</td>\n",
       "      <td>31092832</td>\n",
       "      <td>NaN</td>\n",
       "    </tr>\n",
       "    <tr>\n",
       "      <th>seven</th>\n",
       "      <td>Chile</td>\n",
       "      <td>South America</td>\n",
       "      <td>27894562</td>\n",
       "      <td>NaN</td>\n",
       "    </tr>\n",
       "  </tbody>\n",
       "</table>\n",
       "</div>"
      ],
      "text/plain": [
       "        country      continent  population debt\n",
       "one       India           Asia   120934523  NaN\n",
       "two     Austria         Europe     2398762  NaN\n",
       "three       Usa  North America    15000000  NaN\n",
       "four       Iran    Middle East    54637263  NaN\n",
       "five   Tasmania      Australia      309287  NaN\n",
       "six      Angola         Africa    31092832  NaN\n",
       "seven     Chile  South America    27894562  NaN"
      ]
     },
     "execution_count": 164,
     "metadata": {},
     "output_type": "execute_result"
    }
   ],
   "source": [
    "frame2 = pd.DataFrame(data, columns = ['country', 'continent', 'population', 'debt'], index = ['one','two','three','four','five','six','seven'])\n",
    "\n",
    "frame2  #passed in a empty column will return NaN values in view"
   ]
  },
  {
   "cell_type": "code",
   "execution_count": 165,
   "id": "ca44aeb9",
   "metadata": {},
   "outputs": [
    {
     "data": {
      "text/plain": [
       "one         India\n",
       "two       Austria\n",
       "three         Usa\n",
       "four         Iran\n",
       "five     Tasmania\n",
       "six        Angola\n",
       "seven       Chile\n",
       "Name: country, dtype: object"
      ]
     },
     "execution_count": 165,
     "metadata": {},
     "output_type": "execute_result"
    }
   ],
   "source": [
    "# column data can be retrieved either using dict anotation or as an attribute \n",
    "\n",
    "frame2['country']"
   ]
  },
  {
   "cell_type": "code",
   "execution_count": 166,
   "id": "ad8e4ab1",
   "metadata": {},
   "outputs": [
    {
     "data": {
      "text/plain": [
       "one         India\n",
       "two       Austria\n",
       "three         Usa\n",
       "four         Iran\n",
       "five     Tasmania\n",
       "six        Angola\n",
       "seven       Chile\n",
       "Name: country, dtype: object"
      ]
     },
     "execution_count": 166,
     "metadata": {},
     "output_type": "execute_result"
    }
   ],
   "source": [
    "frame2.country"
   ]
  },
  {
   "cell_type": "code",
   "execution_count": 167,
   "id": "3649ed86",
   "metadata": {},
   "outputs": [
    {
     "data": {
      "text/html": [
       "<div>\n",
       "<style scoped>\n",
       "    .dataframe tbody tr th:only-of-type {\n",
       "        vertical-align: middle;\n",
       "    }\n",
       "\n",
       "    .dataframe tbody tr th {\n",
       "        vertical-align: top;\n",
       "    }\n",
       "\n",
       "    .dataframe thead th {\n",
       "        text-align: right;\n",
       "    }\n",
       "</style>\n",
       "<table border=\"1\" class=\"dataframe\">\n",
       "  <thead>\n",
       "    <tr style=\"text-align: right;\">\n",
       "      <th></th>\n",
       "      <th>country</th>\n",
       "      <th>continent</th>\n",
       "      <th>population</th>\n",
       "      <th>debt</th>\n",
       "    </tr>\n",
       "  </thead>\n",
       "  <tbody>\n",
       "    <tr>\n",
       "      <th>one</th>\n",
       "      <td>False</td>\n",
       "      <td>False</td>\n",
       "      <td>False</td>\n",
       "      <td>True</td>\n",
       "    </tr>\n",
       "    <tr>\n",
       "      <th>two</th>\n",
       "      <td>False</td>\n",
       "      <td>False</td>\n",
       "      <td>False</td>\n",
       "      <td>True</td>\n",
       "    </tr>\n",
       "    <tr>\n",
       "      <th>three</th>\n",
       "      <td>False</td>\n",
       "      <td>False</td>\n",
       "      <td>False</td>\n",
       "      <td>True</td>\n",
       "    </tr>\n",
       "    <tr>\n",
       "      <th>four</th>\n",
       "      <td>False</td>\n",
       "      <td>False</td>\n",
       "      <td>False</td>\n",
       "      <td>True</td>\n",
       "    </tr>\n",
       "    <tr>\n",
       "      <th>five</th>\n",
       "      <td>False</td>\n",
       "      <td>False</td>\n",
       "      <td>False</td>\n",
       "      <td>True</td>\n",
       "    </tr>\n",
       "    <tr>\n",
       "      <th>six</th>\n",
       "      <td>False</td>\n",
       "      <td>False</td>\n",
       "      <td>False</td>\n",
       "      <td>True</td>\n",
       "    </tr>\n",
       "    <tr>\n",
       "      <th>seven</th>\n",
       "      <td>False</td>\n",
       "      <td>False</td>\n",
       "      <td>False</td>\n",
       "      <td>True</td>\n",
       "    </tr>\n",
       "  </tbody>\n",
       "</table>\n",
       "</div>"
      ],
      "text/plain": [
       "       country  continent  population  debt\n",
       "one      False      False       False  True\n",
       "two      False      False       False  True\n",
       "three    False      False       False  True\n",
       "four     False      False       False  True\n",
       "five     False      False       False  True\n",
       "six      False      False       False  True\n",
       "seven    False      False       False  True"
      ]
     },
     "execution_count": 167,
     "metadata": {},
     "output_type": "execute_result"
    }
   ],
   "source": [
    "pd.isnull(frame2)"
   ]
  },
  {
   "cell_type": "code",
   "execution_count": 168,
   "id": "10562be9",
   "metadata": {},
   "outputs": [
    {
     "data": {
      "text/plain": [
       "country       Austria\n",
       "continent      Europe\n",
       "population    2398762\n",
       "debt              NaN\n",
       "Name: two, dtype: object"
      ]
     },
     "execution_count": 168,
     "metadata": {},
     "output_type": "execute_result"
    }
   ],
   "source": [
    "# rows are obtained by using the special loc attribute \n",
    "\n",
    "frame2.loc['two']"
   ]
  },
  {
   "cell_type": "code",
   "execution_count": 169,
   "id": "bf85bed9",
   "metadata": {},
   "outputs": [],
   "source": [
    "# empty columns can be assigned a value or an array of values \n",
    "\n",
    "frame2['debt'] = ['€32m', '€10m', '€1.2b', '€30k', '€420m', '€88m', '€2.3b']"
   ]
  },
  {
   "cell_type": "code",
   "execution_count": 170,
   "id": "3ecceed5",
   "metadata": {},
   "outputs": [
    {
     "data": {
      "text/html": [
       "<div>\n",
       "<style scoped>\n",
       "    .dataframe tbody tr th:only-of-type {\n",
       "        vertical-align: middle;\n",
       "    }\n",
       "\n",
       "    .dataframe tbody tr th {\n",
       "        vertical-align: top;\n",
       "    }\n",
       "\n",
       "    .dataframe thead th {\n",
       "        text-align: right;\n",
       "    }\n",
       "</style>\n",
       "<table border=\"1\" class=\"dataframe\">\n",
       "  <thead>\n",
       "    <tr style=\"text-align: right;\">\n",
       "      <th></th>\n",
       "      <th>country</th>\n",
       "      <th>continent</th>\n",
       "      <th>population</th>\n",
       "      <th>debt</th>\n",
       "    </tr>\n",
       "  </thead>\n",
       "  <tbody>\n",
       "    <tr>\n",
       "      <th>one</th>\n",
       "      <td>India</td>\n",
       "      <td>Asia</td>\n",
       "      <td>120934523</td>\n",
       "      <td>€32m</td>\n",
       "    </tr>\n",
       "    <tr>\n",
       "      <th>two</th>\n",
       "      <td>Austria</td>\n",
       "      <td>Europe</td>\n",
       "      <td>2398762</td>\n",
       "      <td>€10m</td>\n",
       "    </tr>\n",
       "    <tr>\n",
       "      <th>three</th>\n",
       "      <td>Usa</td>\n",
       "      <td>North America</td>\n",
       "      <td>15000000</td>\n",
       "      <td>€1.2b</td>\n",
       "    </tr>\n",
       "    <tr>\n",
       "      <th>four</th>\n",
       "      <td>Iran</td>\n",
       "      <td>Middle East</td>\n",
       "      <td>54637263</td>\n",
       "      <td>€30k</td>\n",
       "    </tr>\n",
       "    <tr>\n",
       "      <th>five</th>\n",
       "      <td>Tasmania</td>\n",
       "      <td>Australia</td>\n",
       "      <td>309287</td>\n",
       "      <td>€420m</td>\n",
       "    </tr>\n",
       "    <tr>\n",
       "      <th>six</th>\n",
       "      <td>Angola</td>\n",
       "      <td>Africa</td>\n",
       "      <td>31092832</td>\n",
       "      <td>€88m</td>\n",
       "    </tr>\n",
       "    <tr>\n",
       "      <th>seven</th>\n",
       "      <td>Chile</td>\n",
       "      <td>South America</td>\n",
       "      <td>27894562</td>\n",
       "      <td>€2.3b</td>\n",
       "    </tr>\n",
       "  </tbody>\n",
       "</table>\n",
       "</div>"
      ],
      "text/plain": [
       "        country      continent  population   debt\n",
       "one       India           Asia   120934523   €32m\n",
       "two     Austria         Europe     2398762   €10m\n",
       "three       Usa  North America    15000000  €1.2b\n",
       "four       Iran    Middle East    54637263   €30k\n",
       "five   Tasmania      Australia      309287  €420m\n",
       "six      Angola         Africa    31092832   €88m\n",
       "seven     Chile  South America    27894562  €2.3b"
      ]
     },
     "execution_count": 170,
     "metadata": {},
     "output_type": "execute_result"
    }
   ],
   "source": [
    "frame2"
   ]
  },
  {
   "cell_type": "code",
   "execution_count": 171,
   "id": "4fa581d3",
   "metadata": {},
   "outputs": [],
   "source": [
    "frame2.index = [1,2,3,4,5,6,7] # changed index values "
   ]
  },
  {
   "cell_type": "code",
   "execution_count": 172,
   "id": "ae902edd",
   "metadata": {},
   "outputs": [
    {
     "data": {
      "text/html": [
       "<div>\n",
       "<style scoped>\n",
       "    .dataframe tbody tr th:only-of-type {\n",
       "        vertical-align: middle;\n",
       "    }\n",
       "\n",
       "    .dataframe tbody tr th {\n",
       "        vertical-align: top;\n",
       "    }\n",
       "\n",
       "    .dataframe thead th {\n",
       "        text-align: right;\n",
       "    }\n",
       "</style>\n",
       "<table border=\"1\" class=\"dataframe\">\n",
       "  <thead>\n",
       "    <tr style=\"text-align: right;\">\n",
       "      <th></th>\n",
       "      <th>country</th>\n",
       "      <th>continent</th>\n",
       "      <th>population</th>\n",
       "      <th>debt</th>\n",
       "    </tr>\n",
       "  </thead>\n",
       "  <tbody>\n",
       "    <tr>\n",
       "      <th>1</th>\n",
       "      <td>India</td>\n",
       "      <td>Asia</td>\n",
       "      <td>120934523</td>\n",
       "      <td>€32m</td>\n",
       "    </tr>\n",
       "    <tr>\n",
       "      <th>2</th>\n",
       "      <td>Austria</td>\n",
       "      <td>Europe</td>\n",
       "      <td>2398762</td>\n",
       "      <td>€10m</td>\n",
       "    </tr>\n",
       "    <tr>\n",
       "      <th>3</th>\n",
       "      <td>Usa</td>\n",
       "      <td>North America</td>\n",
       "      <td>15000000</td>\n",
       "      <td>€1.2b</td>\n",
       "    </tr>\n",
       "    <tr>\n",
       "      <th>4</th>\n",
       "      <td>Iran</td>\n",
       "      <td>Middle East</td>\n",
       "      <td>54637263</td>\n",
       "      <td>€30k</td>\n",
       "    </tr>\n",
       "    <tr>\n",
       "      <th>5</th>\n",
       "      <td>Tasmania</td>\n",
       "      <td>Australia</td>\n",
       "      <td>309287</td>\n",
       "      <td>€420m</td>\n",
       "    </tr>\n",
       "    <tr>\n",
       "      <th>6</th>\n",
       "      <td>Angola</td>\n",
       "      <td>Africa</td>\n",
       "      <td>31092832</td>\n",
       "      <td>€88m</td>\n",
       "    </tr>\n",
       "    <tr>\n",
       "      <th>7</th>\n",
       "      <td>Chile</td>\n",
       "      <td>South America</td>\n",
       "      <td>27894562</td>\n",
       "      <td>€2.3b</td>\n",
       "    </tr>\n",
       "  </tbody>\n",
       "</table>\n",
       "</div>"
      ],
      "text/plain": [
       "    country      continent  population   debt\n",
       "1     India           Asia   120934523   €32m\n",
       "2   Austria         Europe     2398762   €10m\n",
       "3       Usa  North America    15000000  €1.2b\n",
       "4      Iran    Middle East    54637263   €30k\n",
       "5  Tasmania      Australia      309287  €420m\n",
       "6    Angola         Africa    31092832   €88m\n",
       "7     Chile  South America    27894562  €2.3b"
      ]
     },
     "execution_count": 172,
     "metadata": {},
     "output_type": "execute_result"
    }
   ],
   "source": [
    "frame2"
   ]
  },
  {
   "cell_type": "code",
   "execution_count": 173,
   "id": "4484aa4d",
   "metadata": {},
   "outputs": [],
   "source": [
    "frame3 = pd.DataFrame(frame2, columns = ['country', 'continent', 'population','debt','literacy rate'])"
   ]
  },
  {
   "cell_type": "code",
   "execution_count": 174,
   "id": "c9e05c37",
   "metadata": {},
   "outputs": [
    {
     "data": {
      "text/html": [
       "<div>\n",
       "<style scoped>\n",
       "    .dataframe tbody tr th:only-of-type {\n",
       "        vertical-align: middle;\n",
       "    }\n",
       "\n",
       "    .dataframe tbody tr th {\n",
       "        vertical-align: top;\n",
       "    }\n",
       "\n",
       "    .dataframe thead th {\n",
       "        text-align: right;\n",
       "    }\n",
       "</style>\n",
       "<table border=\"1\" class=\"dataframe\">\n",
       "  <thead>\n",
       "    <tr style=\"text-align: right;\">\n",
       "      <th></th>\n",
       "      <th>country</th>\n",
       "      <th>continent</th>\n",
       "      <th>population</th>\n",
       "      <th>debt</th>\n",
       "      <th>literacy rate</th>\n",
       "    </tr>\n",
       "  </thead>\n",
       "  <tbody>\n",
       "    <tr>\n",
       "      <th>1</th>\n",
       "      <td>India</td>\n",
       "      <td>Asia</td>\n",
       "      <td>120934523</td>\n",
       "      <td>€32m</td>\n",
       "      <td>NaN</td>\n",
       "    </tr>\n",
       "    <tr>\n",
       "      <th>2</th>\n",
       "      <td>Austria</td>\n",
       "      <td>Europe</td>\n",
       "      <td>2398762</td>\n",
       "      <td>€10m</td>\n",
       "      <td>NaN</td>\n",
       "    </tr>\n",
       "    <tr>\n",
       "      <th>3</th>\n",
       "      <td>Usa</td>\n",
       "      <td>North America</td>\n",
       "      <td>15000000</td>\n",
       "      <td>€1.2b</td>\n",
       "      <td>NaN</td>\n",
       "    </tr>\n",
       "    <tr>\n",
       "      <th>4</th>\n",
       "      <td>Iran</td>\n",
       "      <td>Middle East</td>\n",
       "      <td>54637263</td>\n",
       "      <td>€30k</td>\n",
       "      <td>NaN</td>\n",
       "    </tr>\n",
       "    <tr>\n",
       "      <th>5</th>\n",
       "      <td>Tasmania</td>\n",
       "      <td>Australia</td>\n",
       "      <td>309287</td>\n",
       "      <td>€420m</td>\n",
       "      <td>NaN</td>\n",
       "    </tr>\n",
       "    <tr>\n",
       "      <th>6</th>\n",
       "      <td>Angola</td>\n",
       "      <td>Africa</td>\n",
       "      <td>31092832</td>\n",
       "      <td>€88m</td>\n",
       "      <td>NaN</td>\n",
       "    </tr>\n",
       "    <tr>\n",
       "      <th>7</th>\n",
       "      <td>Chile</td>\n",
       "      <td>South America</td>\n",
       "      <td>27894562</td>\n",
       "      <td>€2.3b</td>\n",
       "      <td>NaN</td>\n",
       "    </tr>\n",
       "  </tbody>\n",
       "</table>\n",
       "</div>"
      ],
      "text/plain": [
       "    country      continent  population   debt  literacy rate\n",
       "1     India           Asia   120934523   €32m            NaN\n",
       "2   Austria         Europe     2398762   €10m            NaN\n",
       "3       Usa  North America    15000000  €1.2b            NaN\n",
       "4      Iran    Middle East    54637263   €30k            NaN\n",
       "5  Tasmania      Australia      309287  €420m            NaN\n",
       "6    Angola         Africa    31092832   €88m            NaN\n",
       "7     Chile  South America    27894562  €2.3b            NaN"
      ]
     },
     "execution_count": 174,
     "metadata": {},
     "output_type": "execute_result"
    }
   ],
   "source": [
    "frame3"
   ]
  },
  {
   "cell_type": "code",
   "execution_count": 175,
   "id": "501c6ef7",
   "metadata": {},
   "outputs": [],
   "source": [
    "# can add a series into a dataframe , also specifying index values where data is inserted , leaving others NaN\n",
    "\n",
    "literacy_vals = pd.Series(['62%','90%','42%','87%'], index = [1,2,6,3])"
   ]
  },
  {
   "cell_type": "code",
   "execution_count": 176,
   "id": "ce62d969",
   "metadata": {},
   "outputs": [],
   "source": [
    "frame3['literacy rate'] = literacy_vals # add series data into specified dataframe column"
   ]
  },
  {
   "cell_type": "code",
   "execution_count": 177,
   "id": "d3c7c892",
   "metadata": {},
   "outputs": [
    {
     "data": {
      "text/html": [
       "<div>\n",
       "<style scoped>\n",
       "    .dataframe tbody tr th:only-of-type {\n",
       "        vertical-align: middle;\n",
       "    }\n",
       "\n",
       "    .dataframe tbody tr th {\n",
       "        vertical-align: top;\n",
       "    }\n",
       "\n",
       "    .dataframe thead th {\n",
       "        text-align: right;\n",
       "    }\n",
       "</style>\n",
       "<table border=\"1\" class=\"dataframe\">\n",
       "  <thead>\n",
       "    <tr style=\"text-align: right;\">\n",
       "      <th></th>\n",
       "      <th>country</th>\n",
       "      <th>continent</th>\n",
       "      <th>population</th>\n",
       "      <th>debt</th>\n",
       "      <th>literacy rate</th>\n",
       "    </tr>\n",
       "  </thead>\n",
       "  <tbody>\n",
       "    <tr>\n",
       "      <th>1</th>\n",
       "      <td>India</td>\n",
       "      <td>Asia</td>\n",
       "      <td>120934523</td>\n",
       "      <td>€32m</td>\n",
       "      <td>62%</td>\n",
       "    </tr>\n",
       "    <tr>\n",
       "      <th>2</th>\n",
       "      <td>Austria</td>\n",
       "      <td>Europe</td>\n",
       "      <td>2398762</td>\n",
       "      <td>€10m</td>\n",
       "      <td>90%</td>\n",
       "    </tr>\n",
       "    <tr>\n",
       "      <th>3</th>\n",
       "      <td>Usa</td>\n",
       "      <td>North America</td>\n",
       "      <td>15000000</td>\n",
       "      <td>€1.2b</td>\n",
       "      <td>87%</td>\n",
       "    </tr>\n",
       "    <tr>\n",
       "      <th>4</th>\n",
       "      <td>Iran</td>\n",
       "      <td>Middle East</td>\n",
       "      <td>54637263</td>\n",
       "      <td>€30k</td>\n",
       "      <td>NaN</td>\n",
       "    </tr>\n",
       "    <tr>\n",
       "      <th>5</th>\n",
       "      <td>Tasmania</td>\n",
       "      <td>Australia</td>\n",
       "      <td>309287</td>\n",
       "      <td>€420m</td>\n",
       "      <td>NaN</td>\n",
       "    </tr>\n",
       "    <tr>\n",
       "      <th>6</th>\n",
       "      <td>Angola</td>\n",
       "      <td>Africa</td>\n",
       "      <td>31092832</td>\n",
       "      <td>€88m</td>\n",
       "      <td>42%</td>\n",
       "    </tr>\n",
       "    <tr>\n",
       "      <th>7</th>\n",
       "      <td>Chile</td>\n",
       "      <td>South America</td>\n",
       "      <td>27894562</td>\n",
       "      <td>€2.3b</td>\n",
       "      <td>NaN</td>\n",
       "    </tr>\n",
       "  </tbody>\n",
       "</table>\n",
       "</div>"
      ],
      "text/plain": [
       "    country      continent  population   debt literacy rate\n",
       "1     India           Asia   120934523   €32m           62%\n",
       "2   Austria         Europe     2398762   €10m           90%\n",
       "3       Usa  North America    15000000  €1.2b           87%\n",
       "4      Iran    Middle East    54637263   €30k           NaN\n",
       "5  Tasmania      Australia      309287  €420m           NaN\n",
       "6    Angola         Africa    31092832   €88m           42%\n",
       "7     Chile  South America    27894562  €2.3b           NaN"
      ]
     },
     "execution_count": 177,
     "metadata": {},
     "output_type": "execute_result"
    }
   ],
   "source": [
    "frame3"
   ]
  },
  {
   "cell_type": "code",
   "execution_count": 178,
   "id": "0f9d0bd5",
   "metadata": {},
   "outputs": [
    {
     "data": {
      "text/html": [
       "<div>\n",
       "<style scoped>\n",
       "    .dataframe tbody tr th:only-of-type {\n",
       "        vertical-align: middle;\n",
       "    }\n",
       "\n",
       "    .dataframe tbody tr th {\n",
       "        vertical-align: top;\n",
       "    }\n",
       "\n",
       "    .dataframe thead th {\n",
       "        text-align: right;\n",
       "    }\n",
       "</style>\n",
       "<table border=\"1\" class=\"dataframe\">\n",
       "  <thead>\n",
       "    <tr style=\"text-align: right;\">\n",
       "      <th></th>\n",
       "      <th>country</th>\n",
       "      <th>continent</th>\n",
       "      <th>population</th>\n",
       "      <th>debt</th>\n",
       "      <th>literacy rate</th>\n",
       "      <th>landlocked</th>\n",
       "    </tr>\n",
       "  </thead>\n",
       "  <tbody>\n",
       "    <tr>\n",
       "      <th>1</th>\n",
       "      <td>India</td>\n",
       "      <td>Asia</td>\n",
       "      <td>120934523</td>\n",
       "      <td>€32m</td>\n",
       "      <td>62%</td>\n",
       "      <td>no</td>\n",
       "    </tr>\n",
       "    <tr>\n",
       "      <th>2</th>\n",
       "      <td>Austria</td>\n",
       "      <td>Europe</td>\n",
       "      <td>2398762</td>\n",
       "      <td>€10m</td>\n",
       "      <td>90%</td>\n",
       "      <td>yes</td>\n",
       "    </tr>\n",
       "    <tr>\n",
       "      <th>3</th>\n",
       "      <td>Usa</td>\n",
       "      <td>North America</td>\n",
       "      <td>15000000</td>\n",
       "      <td>€1.2b</td>\n",
       "      <td>87%</td>\n",
       "      <td>no</td>\n",
       "    </tr>\n",
       "    <tr>\n",
       "      <th>4</th>\n",
       "      <td>Iran</td>\n",
       "      <td>Middle East</td>\n",
       "      <td>54637263</td>\n",
       "      <td>€30k</td>\n",
       "      <td>NaN</td>\n",
       "      <td>yes</td>\n",
       "    </tr>\n",
       "    <tr>\n",
       "      <th>5</th>\n",
       "      <td>Tasmania</td>\n",
       "      <td>Australia</td>\n",
       "      <td>309287</td>\n",
       "      <td>€420m</td>\n",
       "      <td>NaN</td>\n",
       "      <td>no</td>\n",
       "    </tr>\n",
       "    <tr>\n",
       "      <th>6</th>\n",
       "      <td>Angola</td>\n",
       "      <td>Africa</td>\n",
       "      <td>31092832</td>\n",
       "      <td>€88m</td>\n",
       "      <td>42%</td>\n",
       "      <td>yes</td>\n",
       "    </tr>\n",
       "    <tr>\n",
       "      <th>7</th>\n",
       "      <td>Chile</td>\n",
       "      <td>South America</td>\n",
       "      <td>27894562</td>\n",
       "      <td>€2.3b</td>\n",
       "      <td>NaN</td>\n",
       "      <td>no</td>\n",
       "    </tr>\n",
       "  </tbody>\n",
       "</table>\n",
       "</div>"
      ],
      "text/plain": [
       "    country      continent  population   debt literacy rate landlocked\n",
       "1     India           Asia   120934523   €32m           62%         no\n",
       "2   Austria         Europe     2398762   €10m           90%        yes\n",
       "3       Usa  North America    15000000  €1.2b           87%         no\n",
       "4      Iran    Middle East    54637263   €30k           NaN        yes\n",
       "5  Tasmania      Australia      309287  €420m           NaN         no\n",
       "6    Angola         Africa    31092832   €88m           42%        yes\n",
       "7     Chile  South America    27894562  €2.3b           NaN         no"
      ]
     },
     "execution_count": 178,
     "metadata": {},
     "output_type": "execute_result"
    }
   ],
   "source": [
    "# delete columns by using del attribute \n",
    "\n",
    "# create a new column\n",
    "frame3['landlocked'] = frame2.country.index = ['no','yes','no','yes','no','yes','no']\n",
    "frame3"
   ]
  },
  {
   "cell_type": "code",
   "execution_count": 179,
   "id": "9baa75a2",
   "metadata": {},
   "outputs": [
    {
     "data": {
      "text/plain": [
       "Index(['country', 'continent', 'population', 'debt', 'literacy rate'], dtype='object')"
      ]
     },
     "execution_count": 179,
     "metadata": {},
     "output_type": "execute_result"
    }
   ],
   "source": [
    "# delete columns by using del attribute \n",
    "\n",
    "del frame3['landlocked']\n",
    "\n",
    "frame3.columns"
   ]
  },
  {
   "cell_type": "code",
   "execution_count": 180,
   "id": "cb305c55",
   "metadata": {},
   "outputs": [
    {
     "data": {
      "text/html": [
       "<div>\n",
       "<style scoped>\n",
       "    .dataframe tbody tr th:only-of-type {\n",
       "        vertical-align: middle;\n",
       "    }\n",
       "\n",
       "    .dataframe tbody tr th {\n",
       "        vertical-align: top;\n",
       "    }\n",
       "\n",
       "    .dataframe thead th {\n",
       "        text-align: right;\n",
       "    }\n",
       "</style>\n",
       "<table border=\"1\" class=\"dataframe\">\n",
       "  <thead>\n",
       "    <tr style=\"text-align: right;\">\n",
       "      <th></th>\n",
       "      <th>country</th>\n",
       "      <th>continent</th>\n",
       "      <th>population</th>\n",
       "      <th>debt</th>\n",
       "      <th>literacy rate</th>\n",
       "    </tr>\n",
       "  </thead>\n",
       "  <tbody>\n",
       "    <tr>\n",
       "      <th>1</th>\n",
       "      <td>India</td>\n",
       "      <td>Asia</td>\n",
       "      <td>120934523</td>\n",
       "      <td>€32m</td>\n",
       "      <td>62%</td>\n",
       "    </tr>\n",
       "    <tr>\n",
       "      <th>2</th>\n",
       "      <td>Austria</td>\n",
       "      <td>Europe</td>\n",
       "      <td>2398762</td>\n",
       "      <td>€10m</td>\n",
       "      <td>90%</td>\n",
       "    </tr>\n",
       "    <tr>\n",
       "      <th>3</th>\n",
       "      <td>Usa</td>\n",
       "      <td>North America</td>\n",
       "      <td>15000000</td>\n",
       "      <td>€1.2b</td>\n",
       "      <td>87%</td>\n",
       "    </tr>\n",
       "    <tr>\n",
       "      <th>4</th>\n",
       "      <td>Iran</td>\n",
       "      <td>Middle East</td>\n",
       "      <td>54637263</td>\n",
       "      <td>€30k</td>\n",
       "      <td>NaN</td>\n",
       "    </tr>\n",
       "    <tr>\n",
       "      <th>5</th>\n",
       "      <td>Tasmania</td>\n",
       "      <td>Australia</td>\n",
       "      <td>309287</td>\n",
       "      <td>€420m</td>\n",
       "      <td>NaN</td>\n",
       "    </tr>\n",
       "    <tr>\n",
       "      <th>6</th>\n",
       "      <td>Angola</td>\n",
       "      <td>Africa</td>\n",
       "      <td>31092832</td>\n",
       "      <td>€88m</td>\n",
       "      <td>42%</td>\n",
       "    </tr>\n",
       "    <tr>\n",
       "      <th>7</th>\n",
       "      <td>Chile</td>\n",
       "      <td>South America</td>\n",
       "      <td>27894562</td>\n",
       "      <td>€2.3b</td>\n",
       "      <td>NaN</td>\n",
       "    </tr>\n",
       "  </tbody>\n",
       "</table>\n",
       "</div>"
      ],
      "text/plain": [
       "    country      continent  population   debt literacy rate\n",
       "1     India           Asia   120934523   €32m           62%\n",
       "2   Austria         Europe     2398762   €10m           90%\n",
       "3       Usa  North America    15000000  €1.2b           87%\n",
       "4      Iran    Middle East    54637263   €30k           NaN\n",
       "5  Tasmania      Australia      309287  €420m           NaN\n",
       "6    Angola         Africa    31092832   €88m           42%\n",
       "7     Chile  South America    27894562  €2.3b           NaN"
      ]
     },
     "execution_count": 180,
     "metadata": {},
     "output_type": "execute_result"
    }
   ],
   "source": [
    "frame3"
   ]
  },
  {
   "cell_type": "markdown",
   "id": "e010a716",
   "metadata": {},
   "source": [
    "Another common form of data in DataFrame is nested dictionary of dictionaries "
   ]
  },
  {
   "cell_type": "code",
   "execution_count": 181,
   "id": "14e1c476",
   "metadata": {},
   "outputs": [
    {
     "data": {
      "text/html": [
       "<div>\n",
       "<style scoped>\n",
       "    .dataframe tbody tr th:only-of-type {\n",
       "        vertical-align: middle;\n",
       "    }\n",
       "\n",
       "    .dataframe tbody tr th {\n",
       "        vertical-align: top;\n",
       "    }\n",
       "\n",
       "    .dataframe thead th {\n",
       "        text-align: right;\n",
       "    }\n",
       "</style>\n",
       "<table border=\"1\" class=\"dataframe\">\n",
       "  <thead>\n",
       "    <tr style=\"text-align: right;\">\n",
       "      <th></th>\n",
       "      <th>India</th>\n",
       "      <th>North Korea</th>\n",
       "    </tr>\n",
       "  </thead>\n",
       "  <tbody>\n",
       "    <tr>\n",
       "      <th>leader</th>\n",
       "      <td>modi</td>\n",
       "      <td>kim jung un</td>\n",
       "    </tr>\n",
       "    <tr>\n",
       "      <th>gov</th>\n",
       "      <td>democratic</td>\n",
       "      <td>dictator</td>\n",
       "    </tr>\n",
       "    <tr>\n",
       "      <th>nuke</th>\n",
       "      <td>NaN</td>\n",
       "      <td>active</td>\n",
       "    </tr>\n",
       "  </tbody>\n",
       "</table>\n",
       "</div>"
      ],
      "text/plain": [
       "             India  North Korea\n",
       "leader        modi  kim jung un\n",
       "gov     democratic     dictator\n",
       "nuke           NaN       active"
      ]
     },
     "execution_count": 181,
     "metadata": {},
     "output_type": "execute_result"
    }
   ],
   "source": [
    "nested = {'India':{'leader':'modi', 'gov':'democratic'},\n",
    "         'North Korea': {'leader':'kim jung un', 'gov':'dictator', 'nuke':'active'}\n",
    "         }\n",
    "\n",
    "# outer dict keys becomes columns , inner dict keys beacome row indices \n",
    "\n",
    "nested_data = pd.DataFrame(nested)\n",
    "\n",
    "nested_data"
   ]
  },
  {
   "cell_type": "code",
   "execution_count": 182,
   "id": "b52062ad",
   "metadata": {},
   "outputs": [
    {
     "data": {
      "text/html": [
       "<div>\n",
       "<style scoped>\n",
       "    .dataframe tbody tr th:only-of-type {\n",
       "        vertical-align: middle;\n",
       "    }\n",
       "\n",
       "    .dataframe tbody tr th {\n",
       "        vertical-align: top;\n",
       "    }\n",
       "\n",
       "    .dataframe thead th {\n",
       "        text-align: right;\n",
       "    }\n",
       "</style>\n",
       "<table border=\"1\" class=\"dataframe\">\n",
       "  <thead>\n",
       "    <tr style=\"text-align: right;\">\n",
       "      <th></th>\n",
       "      <th>leader</th>\n",
       "      <th>gov</th>\n",
       "      <th>nuke</th>\n",
       "    </tr>\n",
       "  </thead>\n",
       "  <tbody>\n",
       "    <tr>\n",
       "      <th>India</th>\n",
       "      <td>modi</td>\n",
       "      <td>democratic</td>\n",
       "      <td>NaN</td>\n",
       "    </tr>\n",
       "    <tr>\n",
       "      <th>North Korea</th>\n",
       "      <td>kim jung un</td>\n",
       "      <td>dictator</td>\n",
       "      <td>active</td>\n",
       "    </tr>\n",
       "  </tbody>\n",
       "</table>\n",
       "</div>"
      ],
      "text/plain": [
       "                  leader         gov    nuke\n",
       "India               modi  democratic     NaN\n",
       "North Korea  kim jung un    dictator  active"
      ]
     },
     "execution_count": 182,
     "metadata": {},
     "output_type": "execute_result"
    }
   ],
   "source": [
    "nested_data.T # transpose attribute changes the columns into rows and rows into columns and vice versa"
   ]
  },
  {
   "cell_type": "code",
   "execution_count": 183,
   "id": "bb8e7a92",
   "metadata": {},
   "outputs": [
    {
     "data": {
      "text/html": [
       "<div>\n",
       "<style scoped>\n",
       "    .dataframe tbody tr th:only-of-type {\n",
       "        vertical-align: middle;\n",
       "    }\n",
       "\n",
       "    .dataframe tbody tr th {\n",
       "        vertical-align: top;\n",
       "    }\n",
       "\n",
       "    .dataframe thead th {\n",
       "        text-align: right;\n",
       "    }\n",
       "</style>\n",
       "<table border=\"1\" class=\"dataframe\">\n",
       "  <thead>\n",
       "    <tr style=\"text-align: right;\">\n",
       "      <th></th>\n",
       "      <th>1</th>\n",
       "      <th>2</th>\n",
       "      <th>3</th>\n",
       "    </tr>\n",
       "  </thead>\n",
       "  <tbody>\n",
       "    <tr>\n",
       "      <th>1</th>\n",
       "      <td>10</td>\n",
       "      <td>11</td>\n",
       "      <td>12</td>\n",
       "    </tr>\n",
       "    <tr>\n",
       "      <th>2</th>\n",
       "      <td>20</td>\n",
       "      <td>22</td>\n",
       "      <td>24</td>\n",
       "    </tr>\n",
       "    <tr>\n",
       "      <th>3</th>\n",
       "      <td>30</td>\n",
       "      <td>33</td>\n",
       "      <td>36</td>\n",
       "    </tr>\n",
       "    <tr>\n",
       "      <th>4</th>\n",
       "      <td>40</td>\n",
       "      <td>44</td>\n",
       "      <td>48</td>\n",
       "    </tr>\n",
       "    <tr>\n",
       "      <th>5</th>\n",
       "      <td>50</td>\n",
       "      <td>55</td>\n",
       "      <td>60</td>\n",
       "    </tr>\n",
       "  </tbody>\n",
       "</table>\n",
       "</div>"
      ],
      "text/plain": [
       "    1   2   3\n",
       "1  10  11  12\n",
       "2  20  22  24\n",
       "3  30  33  36\n",
       "4  40  44  48\n",
       "5  50  55  60"
      ]
     },
     "execution_count": 183,
     "metadata": {},
     "output_type": "execute_result"
    }
   ],
   "source": [
    "new = {1:{1:10,2:20,3:30,4:40,5:50},\n",
    "      2:{1:11,2:22,3:33,4:44,5:55},\n",
    "      3:{1:12,2:24,3:36,4:48,5:60}}\n",
    "\n",
    "newer = pd.DataFrame(new)\n",
    "\n",
    "newer"
   ]
  },
  {
   "cell_type": "code",
   "execution_count": 184,
   "id": "2ae241f6",
   "metadata": {},
   "outputs": [
    {
     "data": {
      "text/html": [
       "<div>\n",
       "<style scoped>\n",
       "    .dataframe tbody tr th:only-of-type {\n",
       "        vertical-align: middle;\n",
       "    }\n",
       "\n",
       "    .dataframe tbody tr th {\n",
       "        vertical-align: top;\n",
       "    }\n",
       "\n",
       "    .dataframe thead th {\n",
       "        text-align: right;\n",
       "    }\n",
       "</style>\n",
       "<table border=\"1\" class=\"dataframe\">\n",
       "  <thead>\n",
       "    <tr style=\"text-align: right;\">\n",
       "      <th></th>\n",
       "      <th>x10</th>\n",
       "      <th>x12</th>\n",
       "    </tr>\n",
       "  </thead>\n",
       "  <tbody>\n",
       "    <tr>\n",
       "      <th>1</th>\n",
       "      <td>10</td>\n",
       "      <td>12.0</td>\n",
       "    </tr>\n",
       "    <tr>\n",
       "      <th>2</th>\n",
       "      <td>20</td>\n",
       "      <td>24.0</td>\n",
       "    </tr>\n",
       "    <tr>\n",
       "      <th>3</th>\n",
       "      <td>30</td>\n",
       "      <td>NaN</td>\n",
       "    </tr>\n",
       "    <tr>\n",
       "      <th>4</th>\n",
       "      <td>40</td>\n",
       "      <td>NaN</td>\n",
       "    </tr>\n",
       "  </tbody>\n",
       "</table>\n",
       "</div>"
      ],
      "text/plain": [
       "   x10   x12\n",
       "1   10  12.0\n",
       "2   20  24.0\n",
       "3   30   NaN\n",
       "4   40   NaN"
      ]
     },
     "execution_count": 184,
     "metadata": {},
     "output_type": "execute_result"
    }
   ],
   "source": [
    "pdata = {'x10': newer[1][:-1],  #slicing off chunks of newer dataframe, and writing it onto a pd_frame dataframe\n",
    "        'x12': newer[3][:2]}\n",
    "\n",
    "pd_frame = pd.DataFrame(pdata)\n",
    "\n",
    "pd_frame"
   ]
  },
  {
   "cell_type": "code",
   "execution_count": 185,
   "id": "d5f8b58b",
   "metadata": {},
   "outputs": [],
   "source": [
    "# set cloumn name and index name\n",
    "\n",
    "pd_frame.index.name = 'nums'; pd_frame.columns.name = 'multiplied by'  "
   ]
  },
  {
   "cell_type": "code",
   "execution_count": 186,
   "id": "021f1f9c",
   "metadata": {},
   "outputs": [
    {
     "data": {
      "text/html": [
       "<div>\n",
       "<style scoped>\n",
       "    .dataframe tbody tr th:only-of-type {\n",
       "        vertical-align: middle;\n",
       "    }\n",
       "\n",
       "    .dataframe tbody tr th {\n",
       "        vertical-align: top;\n",
       "    }\n",
       "\n",
       "    .dataframe thead th {\n",
       "        text-align: right;\n",
       "    }\n",
       "</style>\n",
       "<table border=\"1\" class=\"dataframe\">\n",
       "  <thead>\n",
       "    <tr style=\"text-align: right;\">\n",
       "      <th>multiplied by</th>\n",
       "      <th>x10</th>\n",
       "      <th>x12</th>\n",
       "    </tr>\n",
       "    <tr>\n",
       "      <th>nums</th>\n",
       "      <th></th>\n",
       "      <th></th>\n",
       "    </tr>\n",
       "  </thead>\n",
       "  <tbody>\n",
       "    <tr>\n",
       "      <th>1</th>\n",
       "      <td>10</td>\n",
       "      <td>12.0</td>\n",
       "    </tr>\n",
       "    <tr>\n",
       "      <th>2</th>\n",
       "      <td>20</td>\n",
       "      <td>24.0</td>\n",
       "    </tr>\n",
       "    <tr>\n",
       "      <th>3</th>\n",
       "      <td>30</td>\n",
       "      <td>NaN</td>\n",
       "    </tr>\n",
       "    <tr>\n",
       "      <th>4</th>\n",
       "      <td>40</td>\n",
       "      <td>NaN</td>\n",
       "    </tr>\n",
       "  </tbody>\n",
       "</table>\n",
       "</div>"
      ],
      "text/plain": [
       "multiplied by  x10   x12\n",
       "nums                    \n",
       "1               10  12.0\n",
       "2               20  24.0\n",
       "3               30   NaN\n",
       "4               40   NaN"
      ]
     },
     "execution_count": 186,
     "metadata": {},
     "output_type": "execute_result"
    }
   ],
   "source": [
    "pd_frame"
   ]
  },
  {
   "cell_type": "code",
   "execution_count": 187,
   "id": "456902ca",
   "metadata": {},
   "outputs": [
    {
     "data": {
      "text/plain": [
       "array([[10., 12.],\n",
       "       [20., 24.],\n",
       "       [30., nan],\n",
       "       [40., nan]])"
      ]
     },
     "execution_count": 187,
     "metadata": {},
     "output_type": "execute_result"
    }
   ],
   "source": [
    "pd_frame.values # .values returns a 2d array of values "
   ]
  },
  {
   "cell_type": "code",
   "execution_count": 188,
   "id": "3d8140a7",
   "metadata": {},
   "outputs": [
    {
     "data": {
      "text/plain": [
       "numpy.ndarray"
      ]
     },
     "execution_count": 188,
     "metadata": {},
     "output_type": "execute_result"
    }
   ],
   "source": [
    "type(pd_frame.values)"
   ]
  },
  {
   "cell_type": "code",
   "execution_count": 189,
   "id": "bbad9ae0",
   "metadata": {},
   "outputs": [
    {
     "data": {
      "text/plain": [
       "array([['India', 'Asia', 120934523, '€32m', '62%'],\n",
       "       ['Austria', 'Europe', 2398762, '€10m', '90%'],\n",
       "       ['Usa', 'North America', 15000000, '€1.2b', '87%'],\n",
       "       ['Iran', 'Middle East', 54637263, '€30k', nan],\n",
       "       ['Tasmania', 'Australia', 309287, '€420m', nan],\n",
       "       ['Angola', 'Africa', 31092832, '€88m', '42%'],\n",
       "       ['Chile', 'South America', 27894562, '€2.3b', nan]], dtype=object)"
      ]
     },
     "execution_count": 189,
     "metadata": {},
     "output_type": "execute_result"
    }
   ],
   "source": [
    "frame3.values"
   ]
  },
  {
   "cell_type": "markdown",
   "id": "37608202",
   "metadata": {},
   "source": [
    "### Index Objects "
   ]
  },
  {
   "cell_type": "markdown",
   "id": "9f88dad4",
   "metadata": {},
   "source": [
    "Pandas index objects are responsible for holiding the axis labels and other metadata. Any array or sequence of labels constructed in series or dataframe is internally converted into an index"
   ]
  },
  {
   "cell_type": "code",
   "execution_count": 190,
   "id": "80ee64c6",
   "metadata": {},
   "outputs": [],
   "source": [
    "ss = pd.Series(range(3), index=['a','b','c'])"
   ]
  },
  {
   "cell_type": "code",
   "execution_count": 191,
   "id": "18f5ffdb",
   "metadata": {},
   "outputs": [],
   "source": [
    "index = ss.index"
   ]
  },
  {
   "cell_type": "code",
   "execution_count": 192,
   "id": "aed60153",
   "metadata": {},
   "outputs": [
    {
     "data": {
      "text/plain": [
       "Index(['a', 'b', 'c'], dtype='object')"
      ]
     },
     "execution_count": 192,
     "metadata": {},
     "output_type": "execute_result"
    }
   ],
   "source": [
    "index"
   ]
  },
  {
   "cell_type": "code",
   "execution_count": 193,
   "id": "959d4e45",
   "metadata": {},
   "outputs": [
    {
     "data": {
      "text/plain": [
       "'c'"
      ]
     },
     "execution_count": 193,
     "metadata": {},
     "output_type": "execute_result"
    }
   ],
   "source": [
    "index[-1]"
   ]
  },
  {
   "cell_type": "code",
   "execution_count": 194,
   "id": "17bafd6b",
   "metadata": {},
   "outputs": [
    {
     "data": {
      "text/plain": [
       "Index(['a', 'b'], dtype='object')"
      ]
     },
     "execution_count": 194,
     "metadata": {},
     "output_type": "execute_result"
    }
   ],
   "source": [
    "index[:-1]"
   ]
  },
  {
   "cell_type": "code",
   "execution_count": 195,
   "id": "aae5514e",
   "metadata": {},
   "outputs": [],
   "source": [
    "# index objects are immutable "
   ]
  },
  {
   "cell_type": "code",
   "execution_count": 196,
   "id": "3fa53f08",
   "metadata": {},
   "outputs": [],
   "source": [
    "labels = pd.Index(np.arange(5)) #index functionality is very useful and should be taken advantage off "
   ]
  },
  {
   "cell_type": "code",
   "execution_count": 197,
   "id": "5313d196",
   "metadata": {},
   "outputs": [
    {
     "data": {
      "text/plain": [
       "Int64Index([0, 1, 2, 3, 4], dtype='int64')"
      ]
     },
     "execution_count": 197,
     "metadata": {},
     "output_type": "execute_result"
    }
   ],
   "source": [
    "labels"
   ]
  },
  {
   "cell_type": "code",
   "execution_count": 198,
   "id": "b335b43d",
   "metadata": {},
   "outputs": [
    {
     "data": {
      "text/plain": [
       "0          selector\n",
       "1          director\n",
       "2        management\n",
       "3    coaching staff\n",
       "4           captain\n",
       "dtype: object"
      ]
     },
     "execution_count": 198,
     "metadata": {},
     "output_type": "execute_result"
    }
   ],
   "source": [
    "labelled_data = pd.Series(['selector','director','management','coaching staff','captain'], index=labels)\n",
    "\n",
    "labelled_data"
   ]
  },
  {
   "cell_type": "code",
   "execution_count": 199,
   "id": "743c15bb",
   "metadata": {},
   "outputs": [
    {
     "data": {
      "text/html": [
       "<div>\n",
       "<style scoped>\n",
       "    .dataframe tbody tr th:only-of-type {\n",
       "        vertical-align: middle;\n",
       "    }\n",
       "\n",
       "    .dataframe tbody tr th {\n",
       "        vertical-align: top;\n",
       "    }\n",
       "\n",
       "    .dataframe thead th {\n",
       "        text-align: right;\n",
       "    }\n",
       "</style>\n",
       "<table border=\"1\" class=\"dataframe\">\n",
       "  <thead>\n",
       "    <tr style=\"text-align: right;\">\n",
       "      <th></th>\n",
       "      <th>country</th>\n",
       "      <th>continent</th>\n",
       "      <th>population</th>\n",
       "      <th>debt</th>\n",
       "      <th>literacy rate</th>\n",
       "    </tr>\n",
       "  </thead>\n",
       "  <tbody>\n",
       "    <tr>\n",
       "      <th>1</th>\n",
       "      <td>India</td>\n",
       "      <td>Asia</td>\n",
       "      <td>120934523</td>\n",
       "      <td>€32m</td>\n",
       "      <td>62%</td>\n",
       "    </tr>\n",
       "    <tr>\n",
       "      <th>2</th>\n",
       "      <td>Austria</td>\n",
       "      <td>Europe</td>\n",
       "      <td>2398762</td>\n",
       "      <td>€10m</td>\n",
       "      <td>90%</td>\n",
       "    </tr>\n",
       "    <tr>\n",
       "      <th>3</th>\n",
       "      <td>Usa</td>\n",
       "      <td>North America</td>\n",
       "      <td>15000000</td>\n",
       "      <td>€1.2b</td>\n",
       "      <td>87%</td>\n",
       "    </tr>\n",
       "    <tr>\n",
       "      <th>4</th>\n",
       "      <td>Iran</td>\n",
       "      <td>Middle East</td>\n",
       "      <td>54637263</td>\n",
       "      <td>€30k</td>\n",
       "      <td>NaN</td>\n",
       "    </tr>\n",
       "    <tr>\n",
       "      <th>5</th>\n",
       "      <td>Tasmania</td>\n",
       "      <td>Australia</td>\n",
       "      <td>309287</td>\n",
       "      <td>€420m</td>\n",
       "      <td>NaN</td>\n",
       "    </tr>\n",
       "    <tr>\n",
       "      <th>6</th>\n",
       "      <td>Angola</td>\n",
       "      <td>Africa</td>\n",
       "      <td>31092832</td>\n",
       "      <td>€88m</td>\n",
       "      <td>42%</td>\n",
       "    </tr>\n",
       "    <tr>\n",
       "      <th>7</th>\n",
       "      <td>Chile</td>\n",
       "      <td>South America</td>\n",
       "      <td>27894562</td>\n",
       "      <td>€2.3b</td>\n",
       "      <td>NaN</td>\n",
       "    </tr>\n",
       "  </tbody>\n",
       "</table>\n",
       "</div>"
      ],
      "text/plain": [
       "    country      continent  population   debt literacy rate\n",
       "1     India           Asia   120934523   €32m           62%\n",
       "2   Austria         Europe     2398762   €10m           90%\n",
       "3       Usa  North America    15000000  €1.2b           87%\n",
       "4      Iran    Middle East    54637263   €30k           NaN\n",
       "5  Tasmania      Australia      309287  €420m           NaN\n",
       "6    Angola         Africa    31092832   €88m           42%\n",
       "7     Chile  South America    27894562  €2.3b           NaN"
      ]
     },
     "execution_count": 199,
     "metadata": {},
     "output_type": "execute_result"
    }
   ],
   "source": [
    "frame3"
   ]
  },
  {
   "cell_type": "code",
   "execution_count": 200,
   "id": "583c5801",
   "metadata": {},
   "outputs": [
    {
     "data": {
      "text/plain": [
       "Index(['country', 'continent', 'population', 'debt', 'literacy rate'], dtype='object')"
      ]
     },
     "execution_count": 200,
     "metadata": {},
     "output_type": "execute_result"
    }
   ],
   "source": [
    "frame3.columns"
   ]
  },
  {
   "cell_type": "code",
   "execution_count": 201,
   "id": "f33b1ffb",
   "metadata": {},
   "outputs": [
    {
     "data": {
      "text/plain": [
       "True"
      ]
     },
     "execution_count": 201,
     "metadata": {},
     "output_type": "execute_result"
    }
   ],
   "source": [
    "'debt' in frame3.columns"
   ]
  },
  {
   "cell_type": "code",
   "execution_count": 202,
   "id": "2ff766e9",
   "metadata": {},
   "outputs": [
    {
     "data": {
      "text/plain": [
       "True"
      ]
     },
     "execution_count": 202,
     "metadata": {},
     "output_type": "execute_result"
    }
   ],
   "source": [
    "4 in frame3.index"
   ]
  },
  {
   "cell_type": "code",
   "execution_count": null,
   "id": "3a5ebd1e",
   "metadata": {},
   "outputs": [],
   "source": [
    "#using the reindex() method, we can conform the data to the new index sequence and add missing values when necessry"
   ]
  },
  {
   "cell_type": "code",
   "execution_count": 214,
   "id": "15924f7a",
   "metadata": {},
   "outputs": [
    {
     "data": {
      "text/plain": [
       "1        senior\n",
       "2        keeper\n",
       "3       captain\n",
       "4    gun player\n",
       "5          vice\n",
       "dtype: object"
      ]
     },
     "execution_count": 214,
     "metadata": {},
     "output_type": "execute_result"
    }
   ],
   "source": [
    "team_structure = pd.Series(['senior','keeper','captain','gun player','vice'], index=[1,2,3,4,5])\n",
    "team_structure"
   ]
  },
  {
   "cell_type": "code",
   "execution_count": 218,
   "id": "5be3ba56",
   "metadata": {},
   "outputs": [
    {
     "data": {
      "text/plain": [
       "3       captain\n",
       "5          vice\n",
       "1        senior\n",
       "4    gun player\n",
       "2        keeper\n",
       "6          vice\n",
       "dtype: object"
      ]
     },
     "execution_count": 218,
     "metadata": {},
     "output_type": "execute_result"
    }
   ],
   "source": [
    "updated_structure = team_structure.reindex([3,5,1,4,2,6], method='ffill') \n",
    "\n",
    "updated_structure"
   ]
  },
  {
   "cell_type": "code",
   "execution_count": 222,
   "id": "77284d9a",
   "metadata": {},
   "outputs": [
    {
     "data": {
      "text/plain": [
       "1    orange\n",
       "2    yellow\n",
       "3      blue\n",
       "4    purple\n",
       "5       red\n",
       "6     green\n",
       "dtype: object"
      ]
     },
     "execution_count": 222,
     "metadata": {},
     "output_type": "execute_result"
    }
   ],
   "source": [
    "#method = 'ffill' forward fills missing values\n",
    "\n",
    "colours = pd.Series(['orange','yellow','blue','purple','red','green'], index=[1,2,3,4,5,6])\n",
    "\n",
    "colours"
   ]
  },
  {
   "cell_type": "code",
   "execution_count": 224,
   "id": "80d1d083",
   "metadata": {},
   "outputs": [
    {
     "data": {
      "text/plain": [
       "1    orange\n",
       "2    yellow\n",
       "3      blue\n",
       "4    purple\n",
       "5       red\n",
       "6     green\n",
       "7     green\n",
       "8     green\n",
       "9     green\n",
       "dtype: object"
      ]
     },
     "execution_count": 224,
     "metadata": {},
     "output_type": "execute_result"
    }
   ],
   "source": [
    "colours_2 = colours.reindex([1,2,3,4,5,6,7,8,9], method='ffill')\n",
    "\n",
    "colours_2"
   ]
  },
  {
   "cell_type": "code",
   "execution_count": 225,
   "id": "c3abdc94",
   "metadata": {},
   "outputs": [
    {
     "data": {
      "text/html": [
       "<div>\n",
       "<style scoped>\n",
       "    .dataframe tbody tr th:only-of-type {\n",
       "        vertical-align: middle;\n",
       "    }\n",
       "\n",
       "    .dataframe tbody tr th {\n",
       "        vertical-align: top;\n",
       "    }\n",
       "\n",
       "    .dataframe thead th {\n",
       "        text-align: right;\n",
       "    }\n",
       "</style>\n",
       "<table border=\"1\" class=\"dataframe\">\n",
       "  <thead>\n",
       "    <tr style=\"text-align: right;\">\n",
       "      <th></th>\n",
       "      <th>delhi</th>\n",
       "      <th>pune</th>\n",
       "      <th>kota</th>\n",
       "    </tr>\n",
       "  </thead>\n",
       "  <tbody>\n",
       "    <tr>\n",
       "      <th>a</th>\n",
       "      <td>0</td>\n",
       "      <td>1</td>\n",
       "      <td>2</td>\n",
       "    </tr>\n",
       "    <tr>\n",
       "      <th>c</th>\n",
       "      <td>3</td>\n",
       "      <td>4</td>\n",
       "      <td>5</td>\n",
       "    </tr>\n",
       "    <tr>\n",
       "      <th>d</th>\n",
       "      <td>6</td>\n",
       "      <td>7</td>\n",
       "      <td>8</td>\n",
       "    </tr>\n",
       "  </tbody>\n",
       "</table>\n",
       "</div>"
      ],
      "text/plain": [
       "   delhi  pune  kota\n",
       "a      0     1     2\n",
       "c      3     4     5\n",
       "d      6     7     8"
      ]
     },
     "execution_count": 225,
     "metadata": {},
     "output_type": "execute_result"
    }
   ],
   "source": [
    "# reindex() can also alter row , columns or both \n",
    "\n",
    "\n",
    "frame = pd.DataFrame(np.arange(9).reshape(3,3), index=['a','c','d'], columns=['delhi','pune','kota'])\n",
    "\n",
    "frame"
   ]
  },
  {
   "cell_type": "code",
   "execution_count": 238,
   "id": "9ea59484",
   "metadata": {},
   "outputs": [
    {
     "data": {
      "text/html": [
       "<div>\n",
       "<style scoped>\n",
       "    .dataframe tbody tr th:only-of-type {\n",
       "        vertical-align: middle;\n",
       "    }\n",
       "\n",
       "    .dataframe tbody tr th {\n",
       "        vertical-align: top;\n",
       "    }\n",
       "\n",
       "    .dataframe thead th {\n",
       "        text-align: right;\n",
       "    }\n",
       "</style>\n",
       "<table border=\"1\" class=\"dataframe\">\n",
       "  <thead>\n",
       "    <tr style=\"text-align: right;\">\n",
       "      <th></th>\n",
       "      <th>delhi</th>\n",
       "      <th>pune</th>\n",
       "      <th>kota</th>\n",
       "    </tr>\n",
       "  </thead>\n",
       "  <tbody>\n",
       "    <tr>\n",
       "      <th>a</th>\n",
       "      <td>0.0</td>\n",
       "      <td>1.0</td>\n",
       "      <td>2.0</td>\n",
       "    </tr>\n",
       "    <tr>\n",
       "      <th>b</th>\n",
       "      <td>NaN</td>\n",
       "      <td>NaN</td>\n",
       "      <td>NaN</td>\n",
       "    </tr>\n",
       "    <tr>\n",
       "      <th>c</th>\n",
       "      <td>3.0</td>\n",
       "      <td>4.0</td>\n",
       "      <td>5.0</td>\n",
       "    </tr>\n",
       "    <tr>\n",
       "      <th>d</th>\n",
       "      <td>6.0</td>\n",
       "      <td>7.0</td>\n",
       "      <td>8.0</td>\n",
       "    </tr>\n",
       "  </tbody>\n",
       "</table>\n",
       "</div>"
      ],
      "text/plain": [
       "   delhi  pune  kota\n",
       "a    0.0   1.0   2.0\n",
       "b    NaN   NaN   NaN\n",
       "c    3.0   4.0   5.0\n",
       "d    6.0   7.0   8.0"
      ]
     },
     "execution_count": 238,
     "metadata": {},
     "output_type": "execute_result"
    }
   ],
   "source": [
    "framed = frame.reindex(['a','b','c','d'])\n",
    "framed"
   ]
  },
  {
   "cell_type": "code",
   "execution_count": 239,
   "id": "eedd44d2",
   "metadata": {},
   "outputs": [
    {
     "data": {
      "text/html": [
       "<div>\n",
       "<style scoped>\n",
       "    .dataframe tbody tr th:only-of-type {\n",
       "        vertical-align: middle;\n",
       "    }\n",
       "\n",
       "    .dataframe tbody tr th {\n",
       "        vertical-align: top;\n",
       "    }\n",
       "\n",
       "    .dataframe thead th {\n",
       "        text-align: right;\n",
       "    }\n",
       "</style>\n",
       "<table border=\"1\" class=\"dataframe\">\n",
       "  <thead>\n",
       "    <tr style=\"text-align: right;\">\n",
       "      <th></th>\n",
       "      <th>delhi</th>\n",
       "      <th>kota</th>\n",
       "      <th>pune</th>\n",
       "    </tr>\n",
       "  </thead>\n",
       "  <tbody>\n",
       "    <tr>\n",
       "      <th>a</th>\n",
       "      <td>0.0</td>\n",
       "      <td>2.0</td>\n",
       "      <td>1.0</td>\n",
       "    </tr>\n",
       "    <tr>\n",
       "      <th>b</th>\n",
       "      <td>NaN</td>\n",
       "      <td>NaN</td>\n",
       "      <td>NaN</td>\n",
       "    </tr>\n",
       "    <tr>\n",
       "      <th>c</th>\n",
       "      <td>3.0</td>\n",
       "      <td>5.0</td>\n",
       "      <td>4.0</td>\n",
       "    </tr>\n",
       "    <tr>\n",
       "      <th>d</th>\n",
       "      <td>6.0</td>\n",
       "      <td>8.0</td>\n",
       "      <td>7.0</td>\n",
       "    </tr>\n",
       "  </tbody>\n",
       "</table>\n",
       "</div>"
      ],
      "text/plain": [
       "   delhi  kota  pune\n",
       "a    0.0   2.0   1.0\n",
       "b    NaN   NaN   NaN\n",
       "c    3.0   5.0   4.0\n",
       "d    6.0   8.0   7.0"
      ]
     },
     "execution_count": 239,
     "metadata": {},
     "output_type": "execute_result"
    }
   ],
   "source": [
    "cities = ['delhi', 'kota', 'pune']\n",
    "\n",
    "framed.reindex(columns = cities)"
   ]
  },
  {
   "cell_type": "code",
   "execution_count": 246,
   "id": "83fe91f7",
   "metadata": {},
   "outputs": [
    {
     "data": {
      "text/html": [
       "<div>\n",
       "<style scoped>\n",
       "    .dataframe tbody tr th:only-of-type {\n",
       "        vertical-align: middle;\n",
       "    }\n",
       "\n",
       "    .dataframe tbody tr th {\n",
       "        vertical-align: top;\n",
       "    }\n",
       "\n",
       "    .dataframe thead th {\n",
       "        text-align: right;\n",
       "    }\n",
       "</style>\n",
       "<table border=\"1\" class=\"dataframe\">\n",
       "  <thead>\n",
       "    <tr style=\"text-align: right;\">\n",
       "      <th></th>\n",
       "      <th>delhi</th>\n",
       "      <th>kota</th>\n",
       "      <th>pune</th>\n",
       "    </tr>\n",
       "  </thead>\n",
       "  <tbody>\n",
       "    <tr>\n",
       "      <th>b</th>\n",
       "      <td>NaN</td>\n",
       "      <td>NaN</td>\n",
       "      <td>NaN</td>\n",
       "    </tr>\n",
       "    <tr>\n",
       "      <th>a</th>\n",
       "      <td>0.0</td>\n",
       "      <td>2.0</td>\n",
       "      <td>1.0</td>\n",
       "    </tr>\n",
       "    <tr>\n",
       "      <th>d</th>\n",
       "      <td>6.0</td>\n",
       "      <td>8.0</td>\n",
       "      <td>7.0</td>\n",
       "    </tr>\n",
       "    <tr>\n",
       "      <th>c</th>\n",
       "      <td>3.0</td>\n",
       "      <td>5.0</td>\n",
       "      <td>4.0</td>\n",
       "    </tr>\n",
       "  </tbody>\n",
       "</table>\n",
       "</div>"
      ],
      "text/plain": [
       "   delhi  kota  pune\n",
       "b    NaN   NaN   NaN\n",
       "a    0.0   2.0   1.0\n",
       "d    6.0   8.0   7.0\n",
       "c    3.0   5.0   4.0"
      ]
     },
     "execution_count": 246,
     "metadata": {},
     "output_type": "execute_result"
    }
   ],
   "source": [
    "#simpler way to do reindexing using .loc[rows,columns] \n",
    "\n",
    "framed.loc[['b','a','d','c'], cities]"
   ]
  },
  {
   "cell_type": "code",
   "execution_count": 291,
   "id": "c238ff71",
   "metadata": {},
   "outputs": [
    {
     "data": {
      "text/html": [
       "<div>\n",
       "<style scoped>\n",
       "    .dataframe tbody tr th:only-of-type {\n",
       "        vertical-align: middle;\n",
       "    }\n",
       "\n",
       "    .dataframe tbody tr th {\n",
       "        vertical-align: top;\n",
       "    }\n",
       "\n",
       "    .dataframe thead th {\n",
       "        text-align: right;\n",
       "    }\n",
       "</style>\n",
       "<table border=\"1\" class=\"dataframe\">\n",
       "  <thead>\n",
       "    <tr style=\"text-align: right;\">\n",
       "      <th></th>\n",
       "      <th>Capital</th>\n",
       "      <th>Country</th>\n",
       "      <th>Icon food</th>\n",
       "      <th>Language</th>\n",
       "      <th>Covid vaccine</th>\n",
       "      <th>People vaccinated %</th>\n",
       "      <th>Average salary (k)</th>\n",
       "    </tr>\n",
       "  </thead>\n",
       "  <tbody>\n",
       "    <tr>\n",
       "      <th>1</th>\n",
       "      <td>Dublin</td>\n",
       "      <td>Ireland</td>\n",
       "      <td>Spuds</td>\n",
       "      <td>English</td>\n",
       "      <td>Pfizer</td>\n",
       "      <td>75</td>\n",
       "      <td>47</td>\n",
       "    </tr>\n",
       "    <tr>\n",
       "      <th>2</th>\n",
       "      <td>London</td>\n",
       "      <td>UK</td>\n",
       "      <td>Crumpets</td>\n",
       "      <td>English</td>\n",
       "      <td>Pfizer</td>\n",
       "      <td>88</td>\n",
       "      <td>55</td>\n",
       "    </tr>\n",
       "    <tr>\n",
       "      <th>3</th>\n",
       "      <td>Berlin</td>\n",
       "      <td>Germany</td>\n",
       "      <td>Pretzels</td>\n",
       "      <td>German</td>\n",
       "      <td>Moderna</td>\n",
       "      <td>73</td>\n",
       "      <td>50</td>\n",
       "    </tr>\n",
       "    <tr>\n",
       "      <th>4</th>\n",
       "      <td>Paris</td>\n",
       "      <td>France</td>\n",
       "      <td>Croissants</td>\n",
       "      <td>French</td>\n",
       "      <td>Moderna</td>\n",
       "      <td>71</td>\n",
       "      <td>45</td>\n",
       "    </tr>\n",
       "    <tr>\n",
       "      <th>5</th>\n",
       "      <td>Madrid</td>\n",
       "      <td>Spain</td>\n",
       "      <td>Paella</td>\n",
       "      <td>Spanish</td>\n",
       "      <td>Astra</td>\n",
       "      <td>80</td>\n",
       "      <td>44</td>\n",
       "    </tr>\n",
       "    <tr>\n",
       "      <th>6</th>\n",
       "      <td>Rome</td>\n",
       "      <td>Italy</td>\n",
       "      <td>Pizza</td>\n",
       "      <td>Italian</td>\n",
       "      <td>Moderna</td>\n",
       "      <td>69</td>\n",
       "      <td>39</td>\n",
       "    </tr>\n",
       "    <tr>\n",
       "      <th>7</th>\n",
       "      <td>Amsterdam</td>\n",
       "      <td>Netherlands</td>\n",
       "      <td>Cheese</td>\n",
       "      <td>Dutch</td>\n",
       "      <td>Pfizer</td>\n",
       "      <td>73</td>\n",
       "      <td>47</td>\n",
       "    </tr>\n",
       "  </tbody>\n",
       "</table>\n",
       "</div>"
      ],
      "text/plain": [
       "     Capital      Country   Icon food Language Covid vaccine  \\\n",
       "1     Dublin      Ireland       Spuds  English        Pfizer   \n",
       "2     London           UK    Crumpets  English        Pfizer   \n",
       "3     Berlin      Germany    Pretzels   German       Moderna   \n",
       "4      Paris       France  Croissants   French       Moderna   \n",
       "5     Madrid        Spain      Paella  Spanish         Astra   \n",
       "6       Rome        Italy       Pizza  Italian       Moderna   \n",
       "7  Amsterdam  Netherlands      Cheese    Dutch        Pfizer   \n",
       "\n",
       "   People vaccinated %  Average salary (k)  \n",
       "1                   75                  47  \n",
       "2                   88                  55  \n",
       "3                   73                  50  \n",
       "4                   71                  45  \n",
       "5                   80                  44  \n",
       "6                   69                  39  \n",
       "7                   73                  47  "
      ]
     },
     "execution_count": 291,
     "metadata": {},
     "output_type": "execute_result"
    }
   ],
   "source": [
    "p_data = {'Capital':['Dublin', 'London', 'Berlin', 'Paris', 'Madrid', 'Rome', 'Amsterdam'],\n",
    "          'Country':['Ireland', 'UK', 'Germany', 'France', 'Spain', 'Italy', 'Netherlands'],\n",
    "          'Icon food':['Spuds', 'Crumpets', 'Pretzels', 'Croissants', 'Paella', 'Pizza', 'Cheese'],\n",
    "          'Language':['English', 'English', 'German', 'French', 'Spanish', 'Italian', 'Dutch'],\n",
    "          'Covid vaccine':['Pfizer', 'Pfizer', 'Moderna', 'Moderna', 'Astra', 'Moderna', 'Pfizer'],\n",
    "          'People vaccinated %':[75, 88, 73, 71, 80, 69, 73],\n",
    "          'Average salary (k)':[47, 55, 50, 45, 44, 39, 47]\n",
    "         }\n",
    "\n",
    "p_frame = pd.DataFrame(p_data)\n",
    "\n",
    "p_frame.index = [1,2,3,4,5,6,7]  # changed the index of dataframe \n",
    "\n",
    "p_frame"
   ]
  },
  {
   "cell_type": "code",
   "execution_count": 292,
   "id": "b7f7e942",
   "metadata": {},
   "outputs": [
    {
     "data": {
      "text/html": [
       "<div>\n",
       "<style scoped>\n",
       "    .dataframe tbody tr th:only-of-type {\n",
       "        vertical-align: middle;\n",
       "    }\n",
       "\n",
       "    .dataframe tbody tr th {\n",
       "        vertical-align: top;\n",
       "    }\n",
       "\n",
       "    .dataframe thead th {\n",
       "        text-align: right;\n",
       "    }\n",
       "</style>\n",
       "<table border=\"1\" class=\"dataframe\">\n",
       "  <thead>\n",
       "    <tr style=\"text-align: right;\">\n",
       "      <th></th>\n",
       "      <th>Country</th>\n",
       "      <th>Capital</th>\n",
       "      <th>Language</th>\n",
       "      <th>Icon food</th>\n",
       "      <th>Average salary (k)</th>\n",
       "      <th>Covid vaccine</th>\n",
       "      <th>People vaccinated %</th>\n",
       "    </tr>\n",
       "  </thead>\n",
       "  <tbody>\n",
       "    <tr>\n",
       "      <th>2</th>\n",
       "      <td>UK</td>\n",
       "      <td>London</td>\n",
       "      <td>English</td>\n",
       "      <td>Crumpets</td>\n",
       "      <td>55</td>\n",
       "      <td>Pfizer</td>\n",
       "      <td>88</td>\n",
       "    </tr>\n",
       "    <tr>\n",
       "      <th>5</th>\n",
       "      <td>Spain</td>\n",
       "      <td>Madrid</td>\n",
       "      <td>Spanish</td>\n",
       "      <td>Paella</td>\n",
       "      <td>44</td>\n",
       "      <td>Astra</td>\n",
       "      <td>80</td>\n",
       "    </tr>\n",
       "    <tr>\n",
       "      <th>1</th>\n",
       "      <td>Ireland</td>\n",
       "      <td>Dublin</td>\n",
       "      <td>English</td>\n",
       "      <td>Spuds</td>\n",
       "      <td>47</td>\n",
       "      <td>Pfizer</td>\n",
       "      <td>75</td>\n",
       "    </tr>\n",
       "    <tr>\n",
       "      <th>7</th>\n",
       "      <td>Netherlands</td>\n",
       "      <td>Amsterdam</td>\n",
       "      <td>Dutch</td>\n",
       "      <td>Cheese</td>\n",
       "      <td>47</td>\n",
       "      <td>Pfizer</td>\n",
       "      <td>73</td>\n",
       "    </tr>\n",
       "    <tr>\n",
       "      <th>3</th>\n",
       "      <td>Germany</td>\n",
       "      <td>Berlin</td>\n",
       "      <td>German</td>\n",
       "      <td>Pretzels</td>\n",
       "      <td>50</td>\n",
       "      <td>Moderna</td>\n",
       "      <td>73</td>\n",
       "    </tr>\n",
       "    <tr>\n",
       "      <th>4</th>\n",
       "      <td>France</td>\n",
       "      <td>Paris</td>\n",
       "      <td>French</td>\n",
       "      <td>Croissants</td>\n",
       "      <td>45</td>\n",
       "      <td>Moderna</td>\n",
       "      <td>71</td>\n",
       "    </tr>\n",
       "    <tr>\n",
       "      <th>6</th>\n",
       "      <td>Italy</td>\n",
       "      <td>Rome</td>\n",
       "      <td>Italian</td>\n",
       "      <td>Pizza</td>\n",
       "      <td>39</td>\n",
       "      <td>Moderna</td>\n",
       "      <td>69</td>\n",
       "    </tr>\n",
       "  </tbody>\n",
       "</table>\n",
       "</div>"
      ],
      "text/plain": [
       "       Country    Capital Language   Icon food  Average salary (k)  \\\n",
       "2           UK     London  English    Crumpets                  55   \n",
       "5        Spain     Madrid  Spanish      Paella                  44   \n",
       "1      Ireland     Dublin  English       Spuds                  47   \n",
       "7  Netherlands  Amsterdam    Dutch      Cheese                  47   \n",
       "3      Germany     Berlin   German    Pretzels                  50   \n",
       "4       France      Paris   French  Croissants                  45   \n",
       "6        Italy       Rome  Italian       Pizza                  39   \n",
       "\n",
       "  Covid vaccine  People vaccinated %  \n",
       "2        Pfizer                   88  \n",
       "5         Astra                   80  \n",
       "1        Pfizer                   75  \n",
       "7        Pfizer                   73  \n",
       "3       Moderna                   73  \n",
       "4       Moderna                   71  \n",
       "6       Moderna                   69  "
      ]
     },
     "execution_count": 292,
     "metadata": {},
     "output_type": "execute_result"
    }
   ],
   "source": [
    "# reindex p_frame dataframe using .loc , make a new variable pd_frame to make it work \n",
    "\n",
    "pd_frame = p_frame.loc[[2,5,1,7,3,4,6],['Country','Capital','Language','Icon food','Average salary (k)',\n",
    "                                        'Covid vaccine', 'People vaccinated %']]\n",
    "\n",
    "pd_frame"
   ]
  },
  {
   "cell_type": "code",
   "execution_count": 293,
   "id": "164ca7a1",
   "metadata": {},
   "outputs": [
    {
     "data": {
      "text/html": [
       "<div>\n",
       "<style scoped>\n",
       "    .dataframe tbody tr th:only-of-type {\n",
       "        vertical-align: middle;\n",
       "    }\n",
       "\n",
       "    .dataframe tbody tr th {\n",
       "        vertical-align: top;\n",
       "    }\n",
       "\n",
       "    .dataframe thead th {\n",
       "        text-align: right;\n",
       "    }\n",
       "</style>\n",
       "<table border=\"1\" class=\"dataframe\">\n",
       "  <thead>\n",
       "    <tr style=\"text-align: right;\">\n",
       "      <th></th>\n",
       "      <th>Country</th>\n",
       "      <th>Capital</th>\n",
       "      <th>Language</th>\n",
       "      <th>Icon food</th>\n",
       "      <th>Average salary (k)</th>\n",
       "      <th>Covid vaccine</th>\n",
       "      <th>People vaccinated %</th>\n",
       "    </tr>\n",
       "  </thead>\n",
       "  <tbody>\n",
       "    <tr>\n",
       "      <th>1</th>\n",
       "      <td>Ireland</td>\n",
       "      <td>Dublin</td>\n",
       "      <td>English</td>\n",
       "      <td>Spuds</td>\n",
       "      <td>47</td>\n",
       "      <td>Pfizer</td>\n",
       "      <td>75</td>\n",
       "    </tr>\n",
       "    <tr>\n",
       "      <th>2</th>\n",
       "      <td>UK</td>\n",
       "      <td>London</td>\n",
       "      <td>English</td>\n",
       "      <td>Crumpets</td>\n",
       "      <td>55</td>\n",
       "      <td>Pfizer</td>\n",
       "      <td>88</td>\n",
       "    </tr>\n",
       "    <tr>\n",
       "      <th>3</th>\n",
       "      <td>Germany</td>\n",
       "      <td>Berlin</td>\n",
       "      <td>German</td>\n",
       "      <td>Pretzels</td>\n",
       "      <td>50</td>\n",
       "      <td>Moderna</td>\n",
       "      <td>73</td>\n",
       "    </tr>\n",
       "    <tr>\n",
       "      <th>4</th>\n",
       "      <td>France</td>\n",
       "      <td>Paris</td>\n",
       "      <td>French</td>\n",
       "      <td>Croissants</td>\n",
       "      <td>45</td>\n",
       "      <td>Moderna</td>\n",
       "      <td>71</td>\n",
       "    </tr>\n",
       "    <tr>\n",
       "      <th>5</th>\n",
       "      <td>Spain</td>\n",
       "      <td>Madrid</td>\n",
       "      <td>Spanish</td>\n",
       "      <td>Paella</td>\n",
       "      <td>44</td>\n",
       "      <td>Astra</td>\n",
       "      <td>80</td>\n",
       "    </tr>\n",
       "    <tr>\n",
       "      <th>6</th>\n",
       "      <td>Italy</td>\n",
       "      <td>Rome</td>\n",
       "      <td>Italian</td>\n",
       "      <td>Pizza</td>\n",
       "      <td>39</td>\n",
       "      <td>Moderna</td>\n",
       "      <td>69</td>\n",
       "    </tr>\n",
       "    <tr>\n",
       "      <th>7</th>\n",
       "      <td>Netherlands</td>\n",
       "      <td>Amsterdam</td>\n",
       "      <td>Dutch</td>\n",
       "      <td>Cheese</td>\n",
       "      <td>47</td>\n",
       "      <td>Pfizer</td>\n",
       "      <td>73</td>\n",
       "    </tr>\n",
       "  </tbody>\n",
       "</table>\n",
       "</div>"
      ],
      "text/plain": [
       "       Country    Capital Language   Icon food  Average salary (k)  \\\n",
       "1      Ireland     Dublin  English       Spuds                  47   \n",
       "2           UK     London  English    Crumpets                  55   \n",
       "3      Germany     Berlin   German    Pretzels                  50   \n",
       "4       France      Paris   French  Croissants                  45   \n",
       "5        Spain     Madrid  Spanish      Paella                  44   \n",
       "6        Italy       Rome  Italian       Pizza                  39   \n",
       "7  Netherlands  Amsterdam    Dutch      Cheese                  47   \n",
       "\n",
       "  Covid vaccine  People vaccinated %  \n",
       "1        Pfizer                   75  \n",
       "2        Pfizer                   88  \n",
       "3       Moderna                   73  \n",
       "4       Moderna                   71  \n",
       "5         Astra                   80  \n",
       "6       Moderna                   69  \n",
       "7        Pfizer                   73  "
      ]
     },
     "execution_count": 293,
     "metadata": {},
     "output_type": "execute_result"
    }
   ],
   "source": [
    "# ^^^^^^ is the same as \n",
    "\n",
    "reindex_index_frame = p_frame.reindex([2,5,1,7,3,4,6]) \n",
    "#print(reindex_index_frame)\n",
    "\n",
    "reorder_column_frame = p_frame.reindex(columns=['Country','Capital','Language','Icon food','Average salary (k)',\n",
    "                                        'Covid vaccine', 'People vaccinated %'])\n",
    "reorder_column_frame"
   ]
  },
  {
   "cell_type": "code",
   "execution_count": 294,
   "id": "05af186a",
   "metadata": {},
   "outputs": [
    {
     "data": {
      "text/html": [
       "<div>\n",
       "<style scoped>\n",
       "    .dataframe tbody tr th:only-of-type {\n",
       "        vertical-align: middle;\n",
       "    }\n",
       "\n",
       "    .dataframe tbody tr th {\n",
       "        vertical-align: top;\n",
       "    }\n",
       "\n",
       "    .dataframe thead th {\n",
       "        text-align: right;\n",
       "    }\n",
       "</style>\n",
       "<table border=\"1\" class=\"dataframe\">\n",
       "  <thead>\n",
       "    <tr style=\"text-align: right;\">\n",
       "      <th></th>\n",
       "      <th>Country</th>\n",
       "      <th>Capital</th>\n",
       "      <th>Language</th>\n",
       "      <th>Average salary (k)</th>\n",
       "      <th>Covid vaccine</th>\n",
       "      <th>People vaccinated %</th>\n",
       "    </tr>\n",
       "  </thead>\n",
       "  <tbody>\n",
       "    <tr>\n",
       "      <th>1</th>\n",
       "      <td>Ireland</td>\n",
       "      <td>Dublin</td>\n",
       "      <td>English</td>\n",
       "      <td>47</td>\n",
       "      <td>Pfizer</td>\n",
       "      <td>75</td>\n",
       "    </tr>\n",
       "    <tr>\n",
       "      <th>2</th>\n",
       "      <td>UK</td>\n",
       "      <td>London</td>\n",
       "      <td>English</td>\n",
       "      <td>55</td>\n",
       "      <td>Pfizer</td>\n",
       "      <td>88</td>\n",
       "    </tr>\n",
       "    <tr>\n",
       "      <th>3</th>\n",
       "      <td>Germany</td>\n",
       "      <td>Berlin</td>\n",
       "      <td>German</td>\n",
       "      <td>50</td>\n",
       "      <td>Moderna</td>\n",
       "      <td>73</td>\n",
       "    </tr>\n",
       "    <tr>\n",
       "      <th>4</th>\n",
       "      <td>France</td>\n",
       "      <td>Paris</td>\n",
       "      <td>French</td>\n",
       "      <td>45</td>\n",
       "      <td>Moderna</td>\n",
       "      <td>71</td>\n",
       "    </tr>\n",
       "    <tr>\n",
       "      <th>5</th>\n",
       "      <td>Spain</td>\n",
       "      <td>Madrid</td>\n",
       "      <td>Spanish</td>\n",
       "      <td>44</td>\n",
       "      <td>Astra</td>\n",
       "      <td>80</td>\n",
       "    </tr>\n",
       "    <tr>\n",
       "      <th>6</th>\n",
       "      <td>Italy</td>\n",
       "      <td>Rome</td>\n",
       "      <td>Italian</td>\n",
       "      <td>39</td>\n",
       "      <td>Moderna</td>\n",
       "      <td>69</td>\n",
       "    </tr>\n",
       "    <tr>\n",
       "      <th>7</th>\n",
       "      <td>Netherlands</td>\n",
       "      <td>Amsterdam</td>\n",
       "      <td>Dutch</td>\n",
       "      <td>47</td>\n",
       "      <td>Pfizer</td>\n",
       "      <td>73</td>\n",
       "    </tr>\n",
       "  </tbody>\n",
       "</table>\n",
       "</div>"
      ],
      "text/plain": [
       "       Country    Capital Language  Average salary (k) Covid vaccine  \\\n",
       "1      Ireland     Dublin  English                  47        Pfizer   \n",
       "2           UK     London  English                  55        Pfizer   \n",
       "3      Germany     Berlin   German                  50       Moderna   \n",
       "4       France      Paris   French                  45       Moderna   \n",
       "5        Spain     Madrid  Spanish                  44         Astra   \n",
       "6        Italy       Rome  Italian                  39       Moderna   \n",
       "7  Netherlands  Amsterdam    Dutch                  47        Pfizer   \n",
       "\n",
       "   People vaccinated %  \n",
       "1                   75  \n",
       "2                   88  \n",
       "3                   73  \n",
       "4                   71  \n",
       "5                   80  \n",
       "6                   69  \n",
       "7                   73  "
      ]
     },
     "execution_count": 294,
     "metadata": {},
     "output_type": "execute_result"
    }
   ],
   "source": [
    "# delete the Icon food column \n",
    "\n",
    "del reorder_column_frame['Icon food']\n",
    "\n",
    "reorder_column_frame \n",
    "\n",
    "#dont run this cell again, as it ll produce an error because 'Icon food' is deleted , it no longer exists in memory"
   ]
  },
  {
   "cell_type": "markdown",
   "id": "c2387057",
   "metadata": {},
   "source": [
    "### To locate specific rows within a dataframe , use the loc attribute"
   ]
  },
  {
   "cell_type": "code",
   "execution_count": 203,
   "id": "cf03d6a9",
   "metadata": {},
   "outputs": [
    {
     "data": {
      "text/plain": [
       "India                 modi\n",
       "North Korea    kim jung un\n",
       "Name: leader, dtype: object"
      ]
     },
     "execution_count": 203,
     "metadata": {},
     "output_type": "execute_result"
    }
   ],
   "source": [
    "nested_data.loc['leader'] # locates row with named index 'leader'. if index not named , use [0],[1] etc !!"
   ]
  },
  {
   "cell_type": "code",
   "execution_count": 204,
   "id": "173d4dd6",
   "metadata": {},
   "outputs": [
    {
     "data": {
      "text/html": [
       "<div>\n",
       "<style scoped>\n",
       "    .dataframe tbody tr th:only-of-type {\n",
       "        vertical-align: middle;\n",
       "    }\n",
       "\n",
       "    .dataframe tbody tr th {\n",
       "        vertical-align: top;\n",
       "    }\n",
       "\n",
       "    .dataframe thead th {\n",
       "        text-align: right;\n",
       "    }\n",
       "</style>\n",
       "<table border=\"1\" class=\"dataframe\">\n",
       "  <thead>\n",
       "    <tr style=\"text-align: right;\">\n",
       "      <th></th>\n",
       "      <th>India</th>\n",
       "      <th>North Korea</th>\n",
       "    </tr>\n",
       "  </thead>\n",
       "  <tbody>\n",
       "    <tr>\n",
       "      <th>leader</th>\n",
       "      <td>modi</td>\n",
       "      <td>kim jung un</td>\n",
       "    </tr>\n",
       "    <tr>\n",
       "      <th>gov</th>\n",
       "      <td>democratic</td>\n",
       "      <td>dictator</td>\n",
       "    </tr>\n",
       "  </tbody>\n",
       "</table>\n",
       "</div>"
      ],
      "text/plain": [
       "             India  North Korea\n",
       "leader        modi  kim jung un\n",
       "gov     democratic     dictator"
      ]
     },
     "execution_count": 204,
     "metadata": {},
     "output_type": "execute_result"
    }
   ],
   "source": [
    "nested_data.loc[['leader','gov']]"
   ]
  },
  {
   "cell_type": "code",
   "execution_count": 205,
   "id": "1f6d410b",
   "metadata": {},
   "outputs": [
    {
     "data": {
      "text/plain": [
       "'             India  North Korea\\nleader        modi  kim jung un\\ngov     democratic     dictator\\nnuke           NaN       active'"
      ]
     },
     "execution_count": 205,
     "metadata": {},
     "output_type": "execute_result"
    }
   ],
   "source": [
    "# return entire dataframe use .to_string() converts all data into a string \n",
    "\n",
    "nested_data.to_string()"
   ]
  },
  {
   "cell_type": "markdown",
   "id": "d6e87e9f",
   "metadata": {},
   "source": [
    "### To get a quick overview of the data use .head( ) ; view the top rows of data . To view the bottom rows of data use .tail( ). By default the number of rows set to view is 5"
   ]
  },
  {
   "cell_type": "code",
   "execution_count": 206,
   "id": "55c770dc",
   "metadata": {},
   "outputs": [
    {
     "data": {
      "text/html": [
       "<div>\n",
       "<style scoped>\n",
       "    .dataframe tbody tr th:only-of-type {\n",
       "        vertical-align: middle;\n",
       "    }\n",
       "\n",
       "    .dataframe tbody tr th {\n",
       "        vertical-align: top;\n",
       "    }\n",
       "\n",
       "    .dataframe thead th {\n",
       "        text-align: right;\n",
       "    }\n",
       "</style>\n",
       "<table border=\"1\" class=\"dataframe\">\n",
       "  <thead>\n",
       "    <tr style=\"text-align: right;\">\n",
       "      <th></th>\n",
       "      <th>country</th>\n",
       "      <th>continent</th>\n",
       "      <th>population</th>\n",
       "      <th>debt</th>\n",
       "      <th>literacy rate</th>\n",
       "    </tr>\n",
       "  </thead>\n",
       "  <tbody>\n",
       "    <tr>\n",
       "      <th>1</th>\n",
       "      <td>India</td>\n",
       "      <td>Asia</td>\n",
       "      <td>120934523</td>\n",
       "      <td>€32m</td>\n",
       "      <td>62%</td>\n",
       "    </tr>\n",
       "    <tr>\n",
       "      <th>2</th>\n",
       "      <td>Austria</td>\n",
       "      <td>Europe</td>\n",
       "      <td>2398762</td>\n",
       "      <td>€10m</td>\n",
       "      <td>90%</td>\n",
       "    </tr>\n",
       "    <tr>\n",
       "      <th>3</th>\n",
       "      <td>Usa</td>\n",
       "      <td>North America</td>\n",
       "      <td>15000000</td>\n",
       "      <td>€1.2b</td>\n",
       "      <td>87%</td>\n",
       "    </tr>\n",
       "    <tr>\n",
       "      <th>4</th>\n",
       "      <td>Iran</td>\n",
       "      <td>Middle East</td>\n",
       "      <td>54637263</td>\n",
       "      <td>€30k</td>\n",
       "      <td>NaN</td>\n",
       "    </tr>\n",
       "    <tr>\n",
       "      <th>5</th>\n",
       "      <td>Tasmania</td>\n",
       "      <td>Australia</td>\n",
       "      <td>309287</td>\n",
       "      <td>€420m</td>\n",
       "      <td>NaN</td>\n",
       "    </tr>\n",
       "  </tbody>\n",
       "</table>\n",
       "</div>"
      ],
      "text/plain": [
       "    country      continent  population   debt literacy rate\n",
       "1     India           Asia   120934523   €32m           62%\n",
       "2   Austria         Europe     2398762   €10m           90%\n",
       "3       Usa  North America    15000000  €1.2b           87%\n",
       "4      Iran    Middle East    54637263   €30k           NaN\n",
       "5  Tasmania      Australia      309287  €420m           NaN"
      ]
     },
     "execution_count": 206,
     "metadata": {},
     "output_type": "execute_result"
    }
   ],
   "source": [
    "frame3.head()"
   ]
  },
  {
   "cell_type": "markdown",
   "id": "e5c4d70c",
   "metadata": {},
   "source": [
    "### To get general info about DataFrame , use .info( )"
   ]
  },
  {
   "cell_type": "code",
   "execution_count": 207,
   "id": "1071c376",
   "metadata": {},
   "outputs": [
    {
     "name": "stdout",
     "output_type": "stream",
     "text": [
      "<class 'pandas.core.frame.DataFrame'>\n",
      "Index: 3 entries, leader to nuke\n",
      "Data columns (total 2 columns):\n",
      " #   Column       Non-Null Count  Dtype \n",
      "---  ------       --------------  ----- \n",
      " 0   India        2 non-null      object\n",
      " 1   North Korea  3 non-null      object\n",
      "dtypes: object(2)\n",
      "memory usage: 180.0+ bytes\n"
     ]
    }
   ],
   "source": [
    "nested_data.info()"
   ]
  },
  {
   "cell_type": "code",
   "execution_count": 208,
   "id": "32a1d3e7",
   "metadata": {},
   "outputs": [
    {
     "name": "stdout",
     "output_type": "stream",
     "text": [
      "<class 'pandas.core.frame.DataFrame'>\n",
      "Int64Index: 7 entries, 1 to 7\n",
      "Data columns (total 5 columns):\n",
      " #   Column         Non-Null Count  Dtype \n",
      "---  ------         --------------  ----- \n",
      " 0   country        7 non-null      object\n",
      " 1   continent      7 non-null      object\n",
      " 2   population     7 non-null      int64 \n",
      " 3   debt           7 non-null      object\n",
      " 4   literacy rate  4 non-null      object\n",
      "dtypes: int64(1), object(4)\n",
      "memory usage: 636.0+ bytes\n"
     ]
    }
   ],
   "source": [
    "frame3.info()"
   ]
  },
  {
   "cell_type": "code",
   "execution_count": 295,
   "id": "1779a6bb",
   "metadata": {},
   "outputs": [
    {
     "data": {
      "text/plain": [
       "a    0.0\n",
       "b    1.0\n",
       "c    2.0\n",
       "d    3.0\n",
       "e    4.0\n",
       "dtype: float64"
      ]
     },
     "execution_count": 295,
     "metadata": {},
     "output_type": "execute_result"
    }
   ],
   "source": [
    "example_data = pd.Series(np.arange(5.), index=['a','b','c','d','e'])\n",
    "\n",
    "example_data"
   ]
  },
  {
   "cell_type": "code",
   "execution_count": 297,
   "id": "16b04e1f",
   "metadata": {},
   "outputs": [
    {
     "data": {
      "text/plain": [
       "a    0.0\n",
       "b    1.0\n",
       "d    3.0\n",
       "e    4.0\n",
       "dtype: float64"
      ]
     },
     "execution_count": 297,
     "metadata": {},
     "output_type": "execute_result"
    }
   ],
   "source": [
    "# use .drop() to drop rows from data \n",
    "\n",
    "new_obj = example_data.drop('c')\n",
    "\n",
    "new_obj"
   ]
  },
  {
   "cell_type": "code",
   "execution_count": 298,
   "id": "397437cc",
   "metadata": {},
   "outputs": [
    {
     "data": {
      "text/plain": [
       "b    1.0\n",
       "d    3.0\n",
       "dtype: float64"
      ]
     },
     "execution_count": 298,
     "metadata": {},
     "output_type": "execute_result"
    }
   ],
   "source": [
    "newer_obj = new_obj.drop(['a','e'])\n",
    "\n",
    "newer_obj"
   ]
  },
  {
   "cell_type": "code",
   "execution_count": 300,
   "id": "0f7de9bb",
   "metadata": {},
   "outputs": [
    {
     "data": {
      "text/html": [
       "<div>\n",
       "<style scoped>\n",
       "    .dataframe tbody tr th:only-of-type {\n",
       "        vertical-align: middle;\n",
       "    }\n",
       "\n",
       "    .dataframe tbody tr th {\n",
       "        vertical-align: top;\n",
       "    }\n",
       "\n",
       "    .dataframe thead th {\n",
       "        text-align: right;\n",
       "    }\n",
       "</style>\n",
       "<table border=\"1\" class=\"dataframe\">\n",
       "  <thead>\n",
       "    <tr style=\"text-align: right;\">\n",
       "      <th></th>\n",
       "      <th>dice1</th>\n",
       "      <th>dice2</th>\n",
       "      <th>dice3</th>\n",
       "      <th>dice4</th>\n",
       "    </tr>\n",
       "  </thead>\n",
       "  <tbody>\n",
       "    <tr>\n",
       "      <th>Galway</th>\n",
       "      <td>0</td>\n",
       "      <td>1</td>\n",
       "      <td>2</td>\n",
       "      <td>3</td>\n",
       "    </tr>\n",
       "    <tr>\n",
       "      <th>Limerick</th>\n",
       "      <td>4</td>\n",
       "      <td>5</td>\n",
       "      <td>6</td>\n",
       "      <td>7</td>\n",
       "    </tr>\n",
       "    <tr>\n",
       "      <th>Cork</th>\n",
       "      <td>8</td>\n",
       "      <td>9</td>\n",
       "      <td>10</td>\n",
       "      <td>11</td>\n",
       "    </tr>\n",
       "    <tr>\n",
       "      <th>Dublin</th>\n",
       "      <td>12</td>\n",
       "      <td>13</td>\n",
       "      <td>14</td>\n",
       "      <td>15</td>\n",
       "    </tr>\n",
       "  </tbody>\n",
       "</table>\n",
       "</div>"
      ],
      "text/plain": [
       "          dice1  dice2  dice3  dice4\n",
       "Galway        0      1      2      3\n",
       "Limerick      4      5      6      7\n",
       "Cork          8      9     10     11\n",
       "Dublin       12     13     14     15"
      ]
     },
     "execution_count": 300,
     "metadata": {},
     "output_type": "execute_result"
    }
   ],
   "source": [
    "state_data = pd.DataFrame(np.arange(16).reshape(4,4), index=['Galway', 'Limerick', 'Cork', 'Dublin'],\n",
    "                         columns = ['dice1', 'dice2', 'dice3', 'dice4'])\n",
    "\n",
    "state_data"
   ]
  },
  {
   "cell_type": "code",
   "execution_count": 301,
   "id": "f3a1c176",
   "metadata": {},
   "outputs": [
    {
     "data": {
      "text/html": [
       "<div>\n",
       "<style scoped>\n",
       "    .dataframe tbody tr th:only-of-type {\n",
       "        vertical-align: middle;\n",
       "    }\n",
       "\n",
       "    .dataframe tbody tr th {\n",
       "        vertical-align: top;\n",
       "    }\n",
       "\n",
       "    .dataframe thead th {\n",
       "        text-align: right;\n",
       "    }\n",
       "</style>\n",
       "<table border=\"1\" class=\"dataframe\">\n",
       "  <thead>\n",
       "    <tr style=\"text-align: right;\">\n",
       "      <th></th>\n",
       "      <th>dice1</th>\n",
       "      <th>dice2</th>\n",
       "      <th>dice4</th>\n",
       "    </tr>\n",
       "  </thead>\n",
       "  <tbody>\n",
       "    <tr>\n",
       "      <th>Galway</th>\n",
       "      <td>0</td>\n",
       "      <td>1</td>\n",
       "      <td>3</td>\n",
       "    </tr>\n",
       "    <tr>\n",
       "      <th>Limerick</th>\n",
       "      <td>4</td>\n",
       "      <td>5</td>\n",
       "      <td>7</td>\n",
       "    </tr>\n",
       "    <tr>\n",
       "      <th>Cork</th>\n",
       "      <td>8</td>\n",
       "      <td>9</td>\n",
       "      <td>11</td>\n",
       "    </tr>\n",
       "    <tr>\n",
       "      <th>Dublin</th>\n",
       "      <td>12</td>\n",
       "      <td>13</td>\n",
       "      <td>15</td>\n",
       "    </tr>\n",
       "  </tbody>\n",
       "</table>\n",
       "</div>"
      ],
      "text/plain": [
       "          dice1  dice2  dice4\n",
       "Galway        0      1      3\n",
       "Limerick      4      5      7\n",
       "Cork          8      9     11\n",
       "Dublin       12     13     15"
      ]
     },
     "execution_count": 301,
     "metadata": {},
     "output_type": "execute_result"
    }
   ],
   "source": [
    "# using .drop() can also remove columns by mentioning the relative axis\n",
    "# in a 2d array of data , axis=1 or axis='columns'\n",
    "\n",
    "removed_state_data = state_data.drop('dice3', axis=1)\n",
    "\n",
    "removed_state_data"
   ]
  },
  {
   "cell_type": "code",
   "execution_count": 302,
   "id": "4f798abd",
   "metadata": {},
   "outputs": [
    {
     "data": {
      "text/html": [
       "<div>\n",
       "<style scoped>\n",
       "    .dataframe tbody tr th:only-of-type {\n",
       "        vertical-align: middle;\n",
       "    }\n",
       "\n",
       "    .dataframe tbody tr th {\n",
       "        vertical-align: top;\n",
       "    }\n",
       "\n",
       "    .dataframe thead th {\n",
       "        text-align: right;\n",
       "    }\n",
       "</style>\n",
       "<table border=\"1\" class=\"dataframe\">\n",
       "  <thead>\n",
       "    <tr style=\"text-align: right;\">\n",
       "      <th></th>\n",
       "      <th>dice4</th>\n",
       "    </tr>\n",
       "  </thead>\n",
       "  <tbody>\n",
       "    <tr>\n",
       "      <th>Galway</th>\n",
       "      <td>3</td>\n",
       "    </tr>\n",
       "    <tr>\n",
       "      <th>Limerick</th>\n",
       "      <td>7</td>\n",
       "    </tr>\n",
       "    <tr>\n",
       "      <th>Cork</th>\n",
       "      <td>11</td>\n",
       "    </tr>\n",
       "    <tr>\n",
       "      <th>Dublin</th>\n",
       "      <td>15</td>\n",
       "    </tr>\n",
       "  </tbody>\n",
       "</table>\n",
       "</div>"
      ],
      "text/plain": [
       "          dice4\n",
       "Galway        3\n",
       "Limerick      7\n",
       "Cork         11\n",
       "Dublin       15"
      ]
     },
     "execution_count": 302,
     "metadata": {},
     "output_type": "execute_result"
    }
   ],
   "source": [
    "removed = removed_state_data.drop(['dice1', 'dice2'], axis='columns')\n",
    "\n",
    "removed"
   ]
  },
  {
   "cell_type": "markdown",
   "id": "e549086b",
   "metadata": {},
   "source": [
    "### Indexing , Selection , Filtering\n",
    "Series indexing works very similar to numpy array indexing, except you can use series index values instead of just integers. "
   ]
  },
  {
   "cell_type": "code",
   "execution_count": 307,
   "id": "82fcb59b",
   "metadata": {},
   "outputs": [
    {
     "data": {
      "text/plain": [
       "a    0.0\n",
       "b    1.0\n",
       "c    2.0\n",
       "d    3.0\n",
       "e    4.0\n",
       "dtype: float64"
      ]
     },
     "execution_count": 307,
     "metadata": {},
     "output_type": "execute_result"
    }
   ],
   "source": [
    "# Indexing a series\n",
    "\n",
    "nums_ray = pd.Series(np.arange(5.), index=['a','b','c','d','e'])\n",
    "\n",
    "nums_ray"
   ]
  },
  {
   "cell_type": "code",
   "execution_count": 308,
   "id": "70942f06",
   "metadata": {},
   "outputs": [
    {
     "data": {
      "text/plain": [
       "1.0"
      ]
     },
     "execution_count": 308,
     "metadata": {},
     "output_type": "execute_result"
    }
   ],
   "source": [
    "nums_ray['b'] #used the series index "
   ]
  },
  {
   "cell_type": "code",
   "execution_count": 306,
   "id": "fb71440f",
   "metadata": {},
   "outputs": [
    {
     "data": {
      "text/plain": [
       "1.0"
      ]
     },
     "execution_count": 306,
     "metadata": {},
     "output_type": "execute_result"
    }
   ],
   "source": [
    "nums_ray[1] #used the integer index "
   ]
  },
  {
   "cell_type": "code",
   "execution_count": 310,
   "id": "1b21a4d9",
   "metadata": {},
   "outputs": [
    {
     "data": {
      "text/plain": [
       "b    1.0\n",
       "e    4.0\n",
       "a    0.0\n",
       "dtype: float64"
      ]
     },
     "execution_count": 310,
     "metadata": {},
     "output_type": "execute_result"
    }
   ],
   "source": [
    "nums_ray[['b','e','a']]"
   ]
  },
  {
   "cell_type": "code",
   "execution_count": 311,
   "id": "063c2f8a",
   "metadata": {},
   "outputs": [
    {
     "data": {
      "text/plain": [
       "c    2.0\n",
       "d    3.0\n",
       "dtype: float64"
      ]
     },
     "execution_count": 311,
     "metadata": {},
     "output_type": "execute_result"
    }
   ],
   "source": [
    "nums_ray[2:-1]"
   ]
  },
  {
   "cell_type": "code",
   "execution_count": 312,
   "id": "b544e78c",
   "metadata": {},
   "outputs": [
    {
     "data": {
      "text/plain": [
       "b    1.0\n",
       "d    3.0\n",
       "dtype: float64"
      ]
     },
     "execution_count": 312,
     "metadata": {},
     "output_type": "execute_result"
    }
   ],
   "source": [
    "nums_ray[[1,3]]"
   ]
  },
  {
   "cell_type": "code",
   "execution_count": 314,
   "id": "b3d5defc",
   "metadata": {},
   "outputs": [
    {
     "data": {
      "text/plain": [
       "d    3.0\n",
       "e    4.0\n",
       "dtype: float64"
      ]
     },
     "execution_count": 314,
     "metadata": {},
     "output_type": "execute_result"
    }
   ],
   "source": [
    "nums_ray[nums_ray > 2]"
   ]
  },
  {
   "cell_type": "code",
   "execution_count": 315,
   "id": "4edfe62e",
   "metadata": {},
   "outputs": [
    {
     "data": {
      "text/plain": [
       "a    0.0\n",
       "c    2.0\n",
       "e    4.0\n",
       "dtype: float64"
      ]
     },
     "execution_count": 315,
     "metadata": {},
     "output_type": "execute_result"
    }
   ],
   "source": [
    "nums_ray[nums_ray %2 == 0]"
   ]
  },
  {
   "cell_type": "code",
   "execution_count": 316,
   "id": "1e22998b",
   "metadata": {},
   "outputs": [
    {
     "data": {
      "text/plain": [
       "a    0.0\n",
       "b    1.0\n",
       "c    2.0\n",
       "dtype: float64"
      ]
     },
     "execution_count": 316,
     "metadata": {},
     "output_type": "execute_result"
    }
   ],
   "source": [
    "nums_ray['a':'c']"
   ]
  },
  {
   "cell_type": "code",
   "execution_count": 317,
   "id": "00007606",
   "metadata": {},
   "outputs": [],
   "source": [
    "nums_ray['a':'c'] = 4"
   ]
  },
  {
   "cell_type": "code",
   "execution_count": 318,
   "id": "6c6c5861",
   "metadata": {},
   "outputs": [
    {
     "data": {
      "text/plain": [
       "a    4.0\n",
       "b    4.0\n",
       "c    4.0\n",
       "d    3.0\n",
       "e    4.0\n",
       "dtype: float64"
      ]
     },
     "execution_count": 318,
     "metadata": {},
     "output_type": "execute_result"
    }
   ],
   "source": [
    "nums_ray"
   ]
  },
  {
   "cell_type": "code",
   "execution_count": 319,
   "id": "25e79aea",
   "metadata": {},
   "outputs": [],
   "source": [
    "nums_ray[['a','b','c']] = 0.0, 1.0, 2.0"
   ]
  },
  {
   "cell_type": "code",
   "execution_count": 320,
   "id": "74338480",
   "metadata": {},
   "outputs": [
    {
     "data": {
      "text/plain": [
       "a    0.0\n",
       "b    1.0\n",
       "c    2.0\n",
       "d    3.0\n",
       "e    4.0\n",
       "dtype: float64"
      ]
     },
     "execution_count": 320,
     "metadata": {},
     "output_type": "execute_result"
    }
   ],
   "source": [
    "nums_ray"
   ]
  },
  {
   "cell_type": "code",
   "execution_count": 321,
   "id": "86ac3296",
   "metadata": {},
   "outputs": [
    {
     "data": {
      "text/html": [
       "<div>\n",
       "<style scoped>\n",
       "    .dataframe tbody tr th:only-of-type {\n",
       "        vertical-align: middle;\n",
       "    }\n",
       "\n",
       "    .dataframe tbody tr th {\n",
       "        vertical-align: top;\n",
       "    }\n",
       "\n",
       "    .dataframe thead th {\n",
       "        text-align: right;\n",
       "    }\n",
       "</style>\n",
       "<table border=\"1\" class=\"dataframe\">\n",
       "  <thead>\n",
       "    <tr style=\"text-align: right;\">\n",
       "      <th></th>\n",
       "      <th>one</th>\n",
       "      <th>two</th>\n",
       "      <th>three</th>\n",
       "      <th>four</th>\n",
       "    </tr>\n",
       "  </thead>\n",
       "  <tbody>\n",
       "    <tr>\n",
       "      <th>Ohio</th>\n",
       "      <td>0</td>\n",
       "      <td>1</td>\n",
       "      <td>2</td>\n",
       "      <td>3</td>\n",
       "    </tr>\n",
       "    <tr>\n",
       "      <th>Colorado</th>\n",
       "      <td>4</td>\n",
       "      <td>5</td>\n",
       "      <td>6</td>\n",
       "      <td>7</td>\n",
       "    </tr>\n",
       "    <tr>\n",
       "      <th>Utah</th>\n",
       "      <td>8</td>\n",
       "      <td>9</td>\n",
       "      <td>10</td>\n",
       "      <td>11</td>\n",
       "    </tr>\n",
       "    <tr>\n",
       "      <th>New york</th>\n",
       "      <td>12</td>\n",
       "      <td>13</td>\n",
       "      <td>14</td>\n",
       "      <td>15</td>\n",
       "    </tr>\n",
       "  </tbody>\n",
       "</table>\n",
       "</div>"
      ],
      "text/plain": [
       "          one  two  three  four\n",
       "Ohio        0    1      2     3\n",
       "Colorado    4    5      6     7\n",
       "Utah        8    9     10    11\n",
       "New york   12   13     14    15"
      ]
     },
     "execution_count": 321,
     "metadata": {},
     "output_type": "execute_result"
    }
   ],
   "source": [
    "# Indexing a DataFrame ; used to retrieve one or more columns either by a single val or sequence of vals \n",
    "\n",
    "df = pd.DataFrame(np.arange(16).reshape(4,4), index =['Ohio', 'Colorado', 'Utah', 'New york'],\n",
    "                 columns =['one','two','three','four'])\n",
    "\n",
    "df"
   ]
  },
  {
   "cell_type": "code",
   "execution_count": 322,
   "id": "b4e9cbbb",
   "metadata": {},
   "outputs": [
    {
     "data": {
      "text/plain": [
       "Ohio         1\n",
       "Colorado     5\n",
       "Utah         9\n",
       "New york    13\n",
       "Name: two, dtype: int64"
      ]
     },
     "execution_count": 322,
     "metadata": {},
     "output_type": "execute_result"
    }
   ],
   "source": [
    "df['two']"
   ]
  },
  {
   "cell_type": "code",
   "execution_count": 323,
   "id": "14a8800f",
   "metadata": {},
   "outputs": [
    {
     "data": {
      "text/html": [
       "<div>\n",
       "<style scoped>\n",
       "    .dataframe tbody tr th:only-of-type {\n",
       "        vertical-align: middle;\n",
       "    }\n",
       "\n",
       "    .dataframe tbody tr th {\n",
       "        vertical-align: top;\n",
       "    }\n",
       "\n",
       "    .dataframe thead th {\n",
       "        text-align: right;\n",
       "    }\n",
       "</style>\n",
       "<table border=\"1\" class=\"dataframe\">\n",
       "  <thead>\n",
       "    <tr style=\"text-align: right;\">\n",
       "      <th></th>\n",
       "      <th>one</th>\n",
       "      <th>three</th>\n",
       "    </tr>\n",
       "  </thead>\n",
       "  <tbody>\n",
       "    <tr>\n",
       "      <th>Ohio</th>\n",
       "      <td>0</td>\n",
       "      <td>2</td>\n",
       "    </tr>\n",
       "    <tr>\n",
       "      <th>Colorado</th>\n",
       "      <td>4</td>\n",
       "      <td>6</td>\n",
       "    </tr>\n",
       "    <tr>\n",
       "      <th>Utah</th>\n",
       "      <td>8</td>\n",
       "      <td>10</td>\n",
       "    </tr>\n",
       "    <tr>\n",
       "      <th>New york</th>\n",
       "      <td>12</td>\n",
       "      <td>14</td>\n",
       "    </tr>\n",
       "  </tbody>\n",
       "</table>\n",
       "</div>"
      ],
      "text/plain": [
       "          one  three\n",
       "Ohio        0      2\n",
       "Colorado    4      6\n",
       "Utah        8     10\n",
       "New york   12     14"
      ]
     },
     "execution_count": 323,
     "metadata": {},
     "output_type": "execute_result"
    }
   ],
   "source": [
    "df[['one','three']]"
   ]
  },
  {
   "cell_type": "code",
   "execution_count": 328,
   "id": "a416d29d",
   "metadata": {},
   "outputs": [
    {
     "data": {
      "text/html": [
       "<div>\n",
       "<style scoped>\n",
       "    .dataframe tbody tr th:only-of-type {\n",
       "        vertical-align: middle;\n",
       "    }\n",
       "\n",
       "    .dataframe tbody tr th {\n",
       "        vertical-align: top;\n",
       "    }\n",
       "\n",
       "    .dataframe thead th {\n",
       "        text-align: right;\n",
       "    }\n",
       "</style>\n",
       "<table border=\"1\" class=\"dataframe\">\n",
       "  <thead>\n",
       "    <tr style=\"text-align: right;\">\n",
       "      <th></th>\n",
       "      <th>one</th>\n",
       "      <th>two</th>\n",
       "      <th>three</th>\n",
       "      <th>four</th>\n",
       "    </tr>\n",
       "  </thead>\n",
       "  <tbody>\n",
       "    <tr>\n",
       "      <th>Colorado</th>\n",
       "      <td>4</td>\n",
       "      <td>5</td>\n",
       "      <td>6</td>\n",
       "      <td>7</td>\n",
       "    </tr>\n",
       "    <tr>\n",
       "      <th>Utah</th>\n",
       "      <td>8</td>\n",
       "      <td>9</td>\n",
       "      <td>10</td>\n",
       "      <td>11</td>\n",
       "    </tr>\n",
       "  </tbody>\n",
       "</table>\n",
       "</div>"
      ],
      "text/plain": [
       "          one  two  three  four\n",
       "Colorado    4    5      6     7\n",
       "Utah        8    9     10    11"
      ]
     },
     "execution_count": 328,
     "metadata": {},
     "output_type": "execute_result"
    }
   ],
   "source": [
    "df[1:3]"
   ]
  },
  {
   "cell_type": "code",
   "execution_count": 330,
   "id": "f918d844",
   "metadata": {},
   "outputs": [
    {
     "data": {
      "text/html": [
       "<div>\n",
       "<style scoped>\n",
       "    .dataframe tbody tr th:only-of-type {\n",
       "        vertical-align: middle;\n",
       "    }\n",
       "\n",
       "    .dataframe tbody tr th {\n",
       "        vertical-align: top;\n",
       "    }\n",
       "\n",
       "    .dataframe thead th {\n",
       "        text-align: right;\n",
       "    }\n",
       "</style>\n",
       "<table border=\"1\" class=\"dataframe\">\n",
       "  <thead>\n",
       "    <tr style=\"text-align: right;\">\n",
       "      <th></th>\n",
       "      <th>one</th>\n",
       "      <th>two</th>\n",
       "      <th>three</th>\n",
       "      <th>four</th>\n",
       "    </tr>\n",
       "  </thead>\n",
       "  <tbody>\n",
       "    <tr>\n",
       "      <th>Utah</th>\n",
       "      <td>8</td>\n",
       "      <td>9</td>\n",
       "      <td>10</td>\n",
       "      <td>11</td>\n",
       "    </tr>\n",
       "    <tr>\n",
       "      <th>New york</th>\n",
       "      <td>12</td>\n",
       "      <td>13</td>\n",
       "      <td>14</td>\n",
       "      <td>15</td>\n",
       "    </tr>\n",
       "  </tbody>\n",
       "</table>\n",
       "</div>"
      ],
      "text/plain": [
       "          one  two  three  four\n",
       "Utah        8    9     10    11\n",
       "New york   12   13     14    15"
      ]
     },
     "execution_count": 330,
     "metadata": {},
     "output_type": "execute_result"
    }
   ],
   "source": [
    "df[df['four'] > 7]"
   ]
  },
  {
   "cell_type": "code",
   "execution_count": 334,
   "id": "d3a6f5d6",
   "metadata": {},
   "outputs": [
    {
     "data": {
      "text/plain": [
       "Ohio         3\n",
       "Colorado     7\n",
       "Utah        11\n",
       "New york    15\n",
       "Name: four, dtype: int64"
      ]
     },
     "execution_count": 334,
     "metadata": {},
     "output_type": "execute_result"
    }
   ],
   "source": [
    "four = df['four']          #returns the column 'four'\n",
    "\n",
    "four"
   ]
  },
  {
   "cell_type": "code",
   "execution_count": 336,
   "id": "6e3e01e4",
   "metadata": {},
   "outputs": [
    {
     "data": {
      "text/plain": [
       "Utah        11\n",
       "New york    15\n",
       "Name: four, dtype: int64"
      ]
     },
     "execution_count": 336,
     "metadata": {},
     "output_type": "execute_result"
    }
   ],
   "source": [
    "four[four > 7]            # able to slice the column based on certain value"
   ]
  },
  {
   "cell_type": "code",
   "execution_count": 337,
   "id": "a3abf38d",
   "metadata": {},
   "outputs": [
    {
     "data": {
      "text/html": [
       "<div>\n",
       "<style scoped>\n",
       "    .dataframe tbody tr th:only-of-type {\n",
       "        vertical-align: middle;\n",
       "    }\n",
       "\n",
       "    .dataframe tbody tr th {\n",
       "        vertical-align: top;\n",
       "    }\n",
       "\n",
       "    .dataframe thead th {\n",
       "        text-align: right;\n",
       "    }\n",
       "</style>\n",
       "<table border=\"1\" class=\"dataframe\">\n",
       "  <thead>\n",
       "    <tr style=\"text-align: right;\">\n",
       "      <th></th>\n",
       "      <th>one</th>\n",
       "      <th>two</th>\n",
       "      <th>three</th>\n",
       "      <th>four</th>\n",
       "    </tr>\n",
       "  </thead>\n",
       "  <tbody>\n",
       "    <tr>\n",
       "      <th>Ohio</th>\n",
       "      <td>False</td>\n",
       "      <td>False</td>\n",
       "      <td>False</td>\n",
       "      <td>False</td>\n",
       "    </tr>\n",
       "    <tr>\n",
       "      <th>Colorado</th>\n",
       "      <td>True</td>\n",
       "      <td>True</td>\n",
       "      <td>True</td>\n",
       "      <td>True</td>\n",
       "    </tr>\n",
       "    <tr>\n",
       "      <th>Utah</th>\n",
       "      <td>True</td>\n",
       "      <td>True</td>\n",
       "      <td>True</td>\n",
       "      <td>True</td>\n",
       "    </tr>\n",
       "    <tr>\n",
       "      <th>New york</th>\n",
       "      <td>True</td>\n",
       "      <td>True</td>\n",
       "      <td>True</td>\n",
       "      <td>True</td>\n",
       "    </tr>\n",
       "  </tbody>\n",
       "</table>\n",
       "</div>"
      ],
      "text/plain": [
       "            one    two  three   four\n",
       "Ohio      False  False  False  False\n",
       "Colorado   True   True   True   True\n",
       "Utah       True   True   True   True\n",
       "New york   True   True   True   True"
      ]
     },
     "execution_count": 337,
     "metadata": {},
     "output_type": "execute_result"
    }
   ],
   "source": [
    "df > 3"
   ]
  },
  {
   "cell_type": "code",
   "execution_count": 338,
   "id": "ea53f312",
   "metadata": {},
   "outputs": [],
   "source": [
    "df[df < 2] = 'zero'"
   ]
  },
  {
   "cell_type": "code",
   "execution_count": 339,
   "id": "93ac5a46",
   "metadata": {},
   "outputs": [
    {
     "data": {
      "text/html": [
       "<div>\n",
       "<style scoped>\n",
       "    .dataframe tbody tr th:only-of-type {\n",
       "        vertical-align: middle;\n",
       "    }\n",
       "\n",
       "    .dataframe tbody tr th {\n",
       "        vertical-align: top;\n",
       "    }\n",
       "\n",
       "    .dataframe thead th {\n",
       "        text-align: right;\n",
       "    }\n",
       "</style>\n",
       "<table border=\"1\" class=\"dataframe\">\n",
       "  <thead>\n",
       "    <tr style=\"text-align: right;\">\n",
       "      <th></th>\n",
       "      <th>one</th>\n",
       "      <th>two</th>\n",
       "      <th>three</th>\n",
       "      <th>four</th>\n",
       "    </tr>\n",
       "  </thead>\n",
       "  <tbody>\n",
       "    <tr>\n",
       "      <th>Ohio</th>\n",
       "      <td>zero</td>\n",
       "      <td>zero</td>\n",
       "      <td>2</td>\n",
       "      <td>3</td>\n",
       "    </tr>\n",
       "    <tr>\n",
       "      <th>Colorado</th>\n",
       "      <td>4</td>\n",
       "      <td>5</td>\n",
       "      <td>6</td>\n",
       "      <td>7</td>\n",
       "    </tr>\n",
       "    <tr>\n",
       "      <th>Utah</th>\n",
       "      <td>8</td>\n",
       "      <td>9</td>\n",
       "      <td>10</td>\n",
       "      <td>11</td>\n",
       "    </tr>\n",
       "    <tr>\n",
       "      <th>New york</th>\n",
       "      <td>12</td>\n",
       "      <td>13</td>\n",
       "      <td>14</td>\n",
       "      <td>15</td>\n",
       "    </tr>\n",
       "  </tbody>\n",
       "</table>\n",
       "</div>"
      ],
      "text/plain": [
       "           one   two  three  four\n",
       "Ohio      zero  zero      2     3\n",
       "Colorado     4     5      6     7\n",
       "Utah         8     9     10    11\n",
       "New york    12    13     14    15"
      ]
     },
     "execution_count": 339,
     "metadata": {},
     "output_type": "execute_result"
    }
   ],
   "source": [
    "df"
   ]
  },
  {
   "cell_type": "markdown",
   "id": "032387c5",
   "metadata": {},
   "source": [
    "#### DataFrame is syntactically more like 2D numpy arrays  "
   ]
  },
  {
   "cell_type": "markdown",
   "id": "1c393865",
   "metadata": {},
   "source": [
    "\n",
    "\n",
    "\n",
    "## Selecting with loc and iloc "
   ]
  },
  {
   "cell_type": "markdown",
   "id": "18ec1202",
   "metadata": {},
   "source": [
    "For DataFrame label indexing on rows and columns use loc and iloc. They enable you to select a subset of the rows and columns from a DataFrame with numpy-like notation using either axis labels (loc) or integers (iloc)"
   ]
  },
  {
   "cell_type": "code",
   "execution_count": 342,
   "id": "fa1d6215",
   "metadata": {},
   "outputs": [
    {
     "data": {
      "text/html": [
       "<div>\n",
       "<style scoped>\n",
       "    .dataframe tbody tr th:only-of-type {\n",
       "        vertical-align: middle;\n",
       "    }\n",
       "\n",
       "    .dataframe tbody tr th {\n",
       "        vertical-align: top;\n",
       "    }\n",
       "\n",
       "    .dataframe thead th {\n",
       "        text-align: right;\n",
       "    }\n",
       "</style>\n",
       "<table border=\"1\" class=\"dataframe\">\n",
       "  <thead>\n",
       "    <tr style=\"text-align: right;\">\n",
       "      <th></th>\n",
       "      <th>one</th>\n",
       "      <th>two</th>\n",
       "      <th>three</th>\n",
       "      <th>four</th>\n",
       "    </tr>\n",
       "  </thead>\n",
       "  <tbody>\n",
       "    <tr>\n",
       "      <th>Ohio</th>\n",
       "      <td>zero</td>\n",
       "      <td>zero</td>\n",
       "      <td>2</td>\n",
       "      <td>3</td>\n",
       "    </tr>\n",
       "    <tr>\n",
       "      <th>Colorado</th>\n",
       "      <td>4</td>\n",
       "      <td>5</td>\n",
       "      <td>6</td>\n",
       "      <td>7</td>\n",
       "    </tr>\n",
       "    <tr>\n",
       "      <th>Utah</th>\n",
       "      <td>8</td>\n",
       "      <td>9</td>\n",
       "      <td>10</td>\n",
       "      <td>11</td>\n",
       "    </tr>\n",
       "    <tr>\n",
       "      <th>New york</th>\n",
       "      <td>12</td>\n",
       "      <td>13</td>\n",
       "      <td>14</td>\n",
       "      <td>15</td>\n",
       "    </tr>\n",
       "  </tbody>\n",
       "</table>\n",
       "</div>"
      ],
      "text/plain": [
       "           one   two  three  four\n",
       "Ohio      zero  zero      2     3\n",
       "Colorado     4     5      6     7\n",
       "Utah         8     9     10    11\n",
       "New york    12    13     14    15"
      ]
     },
     "execution_count": 342,
     "metadata": {},
     "output_type": "execute_result"
    }
   ],
   "source": [
    "df"
   ]
  },
  {
   "cell_type": "code",
   "execution_count": 343,
   "id": "9386b76c",
   "metadata": {},
   "outputs": [
    {
     "data": {
      "text/plain": [
       "two      5\n",
       "three    6\n",
       "Name: Colorado, dtype: object"
      ]
     },
     "execution_count": 343,
     "metadata": {},
     "output_type": "execute_result"
    }
   ],
   "source": [
    "df.loc['Colorado',['two','three']]               # 'colorado' is the row , and ['two', 'three'] are columns "
   ]
  },
  {
   "cell_type": "code",
   "execution_count": 350,
   "id": "462870df",
   "metadata": {},
   "outputs": [
    {
     "data": {
      "text/plain": [
       "two      5\n",
       "three    6\n",
       "Name: Colorado, dtype: object"
      ]
     },
     "execution_count": 350,
     "metadata": {},
     "output_type": "execute_result"
    }
   ],
   "source": [
    "# iloc is the same , except it uses the integer index values \n",
    "\n",
    "df.iloc[1,[1,2]]"
   ]
  },
  {
   "cell_type": "code",
   "execution_count": 351,
   "id": "b4e4bcbf",
   "metadata": {},
   "outputs": [
    {
     "data": {
      "text/plain": [
       "one       8\n",
       "two       9\n",
       "three    10\n",
       "four     11\n",
       "Name: Utah, dtype: object"
      ]
     },
     "execution_count": 351,
     "metadata": {},
     "output_type": "execute_result"
    }
   ],
   "source": [
    "df.iloc[2] #returns row 2 -----> 'Utah'"
   ]
  },
  {
   "cell_type": "code",
   "execution_count": 357,
   "id": "7c872147",
   "metadata": {},
   "outputs": [
    {
     "data": {
      "text/html": [
       "<div>\n",
       "<style scoped>\n",
       "    .dataframe tbody tr th:only-of-type {\n",
       "        vertical-align: middle;\n",
       "    }\n",
       "\n",
       "    .dataframe tbody tr th {\n",
       "        vertical-align: top;\n",
       "    }\n",
       "\n",
       "    .dataframe thead th {\n",
       "        text-align: right;\n",
       "    }\n",
       "</style>\n",
       "<table border=\"1\" class=\"dataframe\">\n",
       "  <thead>\n",
       "    <tr style=\"text-align: right;\">\n",
       "      <th></th>\n",
       "      <th>three</th>\n",
       "    </tr>\n",
       "  </thead>\n",
       "  <tbody>\n",
       "    <tr>\n",
       "      <th>Ohio</th>\n",
       "      <td>2</td>\n",
       "    </tr>\n",
       "    <tr>\n",
       "      <th>Colorado</th>\n",
       "      <td>6</td>\n",
       "    </tr>\n",
       "    <tr>\n",
       "      <th>Utah</th>\n",
       "      <td>10</td>\n",
       "    </tr>\n",
       "    <tr>\n",
       "      <th>New york</th>\n",
       "      <td>14</td>\n",
       "    </tr>\n",
       "  </tbody>\n",
       "</table>\n",
       "</div>"
      ],
      "text/plain": [
       "          three\n",
       "Ohio          2\n",
       "Colorado      6\n",
       "Utah         10\n",
       "New york     14"
      ]
     },
     "execution_count": 357,
     "metadata": {},
     "output_type": "execute_result"
    }
   ],
   "source": [
    "df.loc[:,['three']] #returns all data from column 'three' "
   ]
  },
  {
   "cell_type": "code",
   "execution_count": 358,
   "id": "1f3c1965",
   "metadata": {},
   "outputs": [
    {
     "data": {
      "text/plain": [
       "Ohio         2\n",
       "Colorado     6\n",
       "Utah        10\n",
       "New york    14\n",
       "Name: three, dtype: int64"
      ]
     },
     "execution_count": 358,
     "metadata": {},
     "output_type": "execute_result"
    }
   ],
   "source": [
    "df.iloc[:,2] # same as above but used int index values "
   ]
  },
  {
   "cell_type": "code",
   "execution_count": 359,
   "id": "550b75dc",
   "metadata": {},
   "outputs": [
    {
     "data": {
      "text/html": [
       "<div>\n",
       "<style scoped>\n",
       "    .dataframe tbody tr th:only-of-type {\n",
       "        vertical-align: middle;\n",
       "    }\n",
       "\n",
       "    .dataframe tbody tr th {\n",
       "        vertical-align: top;\n",
       "    }\n",
       "\n",
       "    .dataframe thead th {\n",
       "        text-align: right;\n",
       "    }\n",
       "</style>\n",
       "<table border=\"1\" class=\"dataframe\">\n",
       "  <thead>\n",
       "    <tr style=\"text-align: right;\">\n",
       "      <th></th>\n",
       "      <th>four</th>\n",
       "      <th>one</th>\n",
       "      <th>two</th>\n",
       "    </tr>\n",
       "  </thead>\n",
       "  <tbody>\n",
       "    <tr>\n",
       "      <th>Colorado</th>\n",
       "      <td>7</td>\n",
       "      <td>4</td>\n",
       "      <td>5</td>\n",
       "    </tr>\n",
       "    <tr>\n",
       "      <th>Utah</th>\n",
       "      <td>11</td>\n",
       "      <td>8</td>\n",
       "      <td>9</td>\n",
       "    </tr>\n",
       "  </tbody>\n",
       "</table>\n",
       "</div>"
      ],
      "text/plain": [
       "          four one two\n",
       "Colorado     7   4   5\n",
       "Utah        11   8   9"
      ]
     },
     "execution_count": 359,
     "metadata": {},
     "output_type": "execute_result"
    }
   ],
   "source": [
    "df.iloc[[1,2],[3,0,1]]"
   ]
  },
  {
   "cell_type": "code",
   "execution_count": 361,
   "id": "01ac131b",
   "metadata": {},
   "outputs": [
    {
     "data": {
      "text/html": [
       "<div>\n",
       "<style scoped>\n",
       "    .dataframe tbody tr th:only-of-type {\n",
       "        vertical-align: middle;\n",
       "    }\n",
       "\n",
       "    .dataframe tbody tr th {\n",
       "        vertical-align: top;\n",
       "    }\n",
       "\n",
       "    .dataframe thead th {\n",
       "        text-align: right;\n",
       "    }\n",
       "</style>\n",
       "<table border=\"1\" class=\"dataframe\">\n",
       "  <thead>\n",
       "    <tr style=\"text-align: right;\">\n",
       "      <th></th>\n",
       "      <th>one</th>\n",
       "      <th>two</th>\n",
       "    </tr>\n",
       "  </thead>\n",
       "  <tbody>\n",
       "    <tr>\n",
       "      <th>Ohio</th>\n",
       "      <td>zero</td>\n",
       "      <td>zero</td>\n",
       "    </tr>\n",
       "    <tr>\n",
       "      <th>Colorado</th>\n",
       "      <td>4</td>\n",
       "      <td>5</td>\n",
       "    </tr>\n",
       "    <tr>\n",
       "      <th>Utah</th>\n",
       "      <td>8</td>\n",
       "      <td>9</td>\n",
       "    </tr>\n",
       "  </tbody>\n",
       "</table>\n",
       "</div>"
      ],
      "text/plain": [
       "           one   two\n",
       "Ohio      zero  zero\n",
       "Colorado     4     5\n",
       "Utah         8     9"
      ]
     },
     "execution_count": 361,
     "metadata": {},
     "output_type": "execute_result"
    }
   ],
   "source": [
    "df.loc[:'Utah', ['one','two']]"
   ]
  },
  {
   "cell_type": "code",
   "execution_count": 362,
   "id": "a1782e33",
   "metadata": {},
   "outputs": [
    {
     "data": {
      "text/html": [
       "<div>\n",
       "<style scoped>\n",
       "    .dataframe tbody tr th:only-of-type {\n",
       "        vertical-align: middle;\n",
       "    }\n",
       "\n",
       "    .dataframe tbody tr th {\n",
       "        vertical-align: top;\n",
       "    }\n",
       "\n",
       "    .dataframe thead th {\n",
       "        text-align: right;\n",
       "    }\n",
       "</style>\n",
       "<table border=\"1\" class=\"dataframe\">\n",
       "  <thead>\n",
       "    <tr style=\"text-align: right;\">\n",
       "      <th></th>\n",
       "      <th>one</th>\n",
       "      <th>two</th>\n",
       "      <th>three</th>\n",
       "    </tr>\n",
       "  </thead>\n",
       "  <tbody>\n",
       "    <tr>\n",
       "      <th>Ohio</th>\n",
       "      <td>zero</td>\n",
       "      <td>zero</td>\n",
       "      <td>2</td>\n",
       "    </tr>\n",
       "    <tr>\n",
       "      <th>Colorado</th>\n",
       "      <td>4</td>\n",
       "      <td>5</td>\n",
       "      <td>6</td>\n",
       "    </tr>\n",
       "    <tr>\n",
       "      <th>Utah</th>\n",
       "      <td>8</td>\n",
       "      <td>9</td>\n",
       "      <td>10</td>\n",
       "    </tr>\n",
       "    <tr>\n",
       "      <th>New york</th>\n",
       "      <td>12</td>\n",
       "      <td>13</td>\n",
       "      <td>14</td>\n",
       "    </tr>\n",
       "  </tbody>\n",
       "</table>\n",
       "</div>"
      ],
      "text/plain": [
       "           one   two  three\n",
       "Ohio      zero  zero      2\n",
       "Colorado     4     5      6\n",
       "Utah         8     9     10\n",
       "New york    12    13     14"
      ]
     },
     "execution_count": 362,
     "metadata": {},
     "output_type": "execute_result"
    }
   ],
   "source": [
    "df.iloc[:, :3]"
   ]
  },
  {
   "cell_type": "code",
   "execution_count": 363,
   "id": "bec78860",
   "metadata": {},
   "outputs": [
    {
     "data": {
      "text/html": [
       "<div>\n",
       "<style scoped>\n",
       "    .dataframe tbody tr th:only-of-type {\n",
       "        vertical-align: middle;\n",
       "    }\n",
       "\n",
       "    .dataframe tbody tr th {\n",
       "        vertical-align: top;\n",
       "    }\n",
       "\n",
       "    .dataframe thead th {\n",
       "        text-align: right;\n",
       "    }\n",
       "</style>\n",
       "<table border=\"1\" class=\"dataframe\">\n",
       "  <thead>\n",
       "    <tr style=\"text-align: right;\">\n",
       "      <th></th>\n",
       "      <th>one</th>\n",
       "      <th>two</th>\n",
       "      <th>three</th>\n",
       "    </tr>\n",
       "  </thead>\n",
       "  <tbody>\n",
       "    <tr>\n",
       "      <th>Utah</th>\n",
       "      <td>8</td>\n",
       "      <td>9</td>\n",
       "      <td>10</td>\n",
       "    </tr>\n",
       "    <tr>\n",
       "      <th>New york</th>\n",
       "      <td>12</td>\n",
       "      <td>13</td>\n",
       "      <td>14</td>\n",
       "    </tr>\n",
       "  </tbody>\n",
       "</table>\n",
       "</div>"
      ],
      "text/plain": [
       "         one two  three\n",
       "Utah       8   9     10\n",
       "New york  12  13     14"
      ]
     },
     "execution_count": 363,
     "metadata": {},
     "output_type": "execute_result"
    }
   ],
   "source": [
    "df.iloc[:, :3][df.three > 6]"
   ]
  },
  {
   "cell_type": "code",
   "execution_count": null,
   "id": "dfd88f75",
   "metadata": {},
   "outputs": [],
   "source": []
  }
 ],
 "metadata": {
  "kernelspec": {
   "display_name": "Python 3 (ipykernel)",
   "language": "python",
   "name": "python3"
  },
  "language_info": {
   "codemirror_mode": {
    "name": "ipython",
    "version": 3
   },
   "file_extension": ".py",
   "mimetype": "text/x-python",
   "name": "python",
   "nbconvert_exporter": "python",
   "pygments_lexer": "ipython3",
   "version": "3.9.7"
  }
 },
 "nbformat": 4,
 "nbformat_minor": 5
}
