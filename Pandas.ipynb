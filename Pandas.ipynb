{
 "cells": [
  {
   "cell_type": "markdown",
   "id": "b2aae71f",
   "metadata": {},
   "source": [
    "# PANDAS"
   ]
  },
  {
   "cell_type": "markdown",
   "id": "3d802294",
   "metadata": {},
   "source": [
    "#### Designed to make data cleaning and analysis fast and easy in python. Designed to work with tabular and heterogenous data , unlike numpy which uses homogenous numerical data. \n"
   ]
  },
  {
   "cell_type": "code",
   "execution_count": 1,
   "id": "498e9e3a",
   "metadata": {},
   "outputs": [],
   "source": [
    "import numpy as np\n",
    "\n",
    "import pandas as pd\n",
    "\n",
    "from pandas import Series, DataFrame"
   ]
  },
  {
   "cell_type": "markdown",
   "id": "fada786b",
   "metadata": {},
   "source": [
    "Pandas has two main datastructures : \n",
    "1. Series\n",
    "2. Dataframe\n"
   ]
  },
  {
   "cell_type": "markdown",
   "id": "b1249f06",
   "metadata": {},
   "source": [
    "### Series  "
   ]
  },
  {
   "cell_type": "markdown",
   "id": "dc8852e6",
   "metadata": {},
   "source": [
    "A series is a one dimensional array like object containing a sequence of values , and its associated data labels called its index. "
   ]
  },
  {
   "cell_type": "code",
   "execution_count": 2,
   "id": "d76d8e28",
   "metadata": {},
   "outputs": [
    {
     "name": "stdout",
     "output_type": "stream",
     "text": [
      "0    1\n",
      "1    2\n",
      "2    3\n",
      "3    4\n",
      "4    5\n",
      "5    6\n",
      "6   -7\n",
      "dtype: int64\n"
     ]
    }
   ],
   "source": [
    "obj = pd.Series([1,2,3,4,5,6,-7]) # series is case sensitive , so whenever called its .Series()\n",
    "print(obj)"
   ]
  },
  {
   "cell_type": "code",
   "execution_count": 3,
   "id": "3efaba01",
   "metadata": {},
   "outputs": [
    {
     "data": {
      "text/plain": [
       "array([ 1,  2,  3,  4,  5,  6, -7])"
      ]
     },
     "execution_count": 3,
     "metadata": {},
     "output_type": "execute_result"
    }
   ],
   "source": [
    "obj.values # .values gets array representation"
   ]
  },
  {
   "cell_type": "code",
   "execution_count": 4,
   "id": "17daa6fd",
   "metadata": {},
   "outputs": [
    {
     "data": {
      "text/plain": [
       "RangeIndex(start=0, stop=7, step=1)"
      ]
     },
     "execution_count": 4,
     "metadata": {},
     "output_type": "execute_result"
    }
   ],
   "source": [
    "obj.index # .index gets the index object"
   ]
  },
  {
   "cell_type": "code",
   "execution_count": 5,
   "id": "39b20e09",
   "metadata": {},
   "outputs": [
    {
     "data": {
      "text/plain": [
       "b    1\n",
       "d    2\n",
       "e    3\n",
       "a    4\n",
       "c    5\n",
       "dtype: int64"
      ]
     },
     "execution_count": 5,
     "metadata": {},
     "output_type": "execute_result"
    }
   ],
   "source": [
    "# create a series with unique index \n",
    "\n",
    "obj2 = pd.Series([1,2,3,4,5], index = ['b','d','e','a','c'])\n",
    "obj2"
   ]
  },
  {
   "cell_type": "code",
   "execution_count": 6,
   "id": "731d0146",
   "metadata": {},
   "outputs": [
    {
     "data": {
      "text/plain": [
       "Index(['b', 'd', 'e', 'a', 'c'], dtype='object')"
      ]
     },
     "execution_count": 6,
     "metadata": {},
     "output_type": "execute_result"
    }
   ],
   "source": [
    "obj2.index"
   ]
  },
  {
   "cell_type": "code",
   "execution_count": 7,
   "id": "f9730677",
   "metadata": {},
   "outputs": [
    {
     "data": {
      "text/plain": [
       "3"
      ]
     },
     "execution_count": 7,
     "metadata": {},
     "output_type": "execute_result"
    }
   ],
   "source": [
    "#get values by calling out index\n",
    "\n",
    "obj2['e']\n"
   ]
  },
  {
   "cell_type": "code",
   "execution_count": 8,
   "id": "95a34b15",
   "metadata": {},
   "outputs": [
    {
     "data": {
      "text/plain": [
       "c    5\n",
       "a    4\n",
       "d    2\n",
       "dtype: int64"
      ]
     },
     "execution_count": 8,
     "metadata": {},
     "output_type": "execute_result"
    }
   ],
   "source": [
    "obj2[['c', 'a', 'd']]"
   ]
  },
  {
   "cell_type": "code",
   "execution_count": 9,
   "id": "4948f9ed",
   "metadata": {},
   "outputs": [
    {
     "data": {
      "text/plain": [
       "e    3\n",
       "a    4\n",
       "c    5\n",
       "dtype: int64"
      ]
     },
     "execution_count": 9,
     "metadata": {},
     "output_type": "execute_result"
    }
   ],
   "source": [
    "# Can perform maths on series , and boolean filtering ; preserving index values link\n",
    "\n",
    "obj2[obj2 > 2]"
   ]
  },
  {
   "cell_type": "code",
   "execution_count": 10,
   "id": "d240c3d1",
   "metadata": {},
   "outputs": [
    {
     "data": {
      "text/plain": [
       "b     2\n",
       "d     4\n",
       "e     6\n",
       "a     8\n",
       "c    10\n",
       "dtype: int64"
      ]
     },
     "execution_count": 10,
     "metadata": {},
     "output_type": "execute_result"
    }
   ],
   "source": [
    "obj2 * 2 "
   ]
  },
  {
   "cell_type": "code",
   "execution_count": 11,
   "id": "2ee30460",
   "metadata": {},
   "outputs": [
    {
     "data": {
      "text/plain": [
       "5"
      ]
     },
     "execution_count": 11,
     "metadata": {},
     "output_type": "execute_result"
    }
   ],
   "source": [
    "np.max(obj2)"
   ]
  },
  {
   "cell_type": "code",
   "execution_count": 12,
   "id": "6bcec469",
   "metadata": {},
   "outputs": [
    {
     "data": {
      "text/plain": [
       "b      2.718282\n",
       "d      7.389056\n",
       "e     20.085537\n",
       "a     54.598150\n",
       "c    148.413159\n",
       "dtype: float64"
      ]
     },
     "execution_count": 12,
     "metadata": {},
     "output_type": "execute_result"
    }
   ],
   "source": [
    "np.exp(obj2)"
   ]
  },
  {
   "cell_type": "code",
   "execution_count": 13,
   "id": "0c64921c",
   "metadata": {},
   "outputs": [
    {
     "data": {
      "text/plain": [
       "True"
      ]
     },
     "execution_count": 13,
     "metadata": {},
     "output_type": "execute_result"
    }
   ],
   "source": [
    "'a' in obj2"
   ]
  },
  {
   "cell_type": "code",
   "execution_count": 14,
   "id": "08cca517",
   "metadata": {},
   "outputs": [
    {
     "data": {
      "text/plain": [
       "False"
      ]
     },
     "execution_count": 14,
     "metadata": {},
     "output_type": "execute_result"
    }
   ],
   "source": [
    "2 in obj2"
   ]
  },
  {
   "cell_type": "markdown",
   "id": "054616d5",
   "metadata": {},
   "source": [
    "## Another way of thinking about series is , that it is a fixed length ordered dictionary , mapping the index values to data values !!"
   ]
  },
  {
   "cell_type": "markdown",
   "id": "c539b60a",
   "metadata": {},
   "source": [
    "### can also pass in a dict into a series "
   ]
  },
  {
   "cell_type": "code",
   "execution_count": 15,
   "id": "622ac3ff",
   "metadata": {},
   "outputs": [],
   "source": [
    "player_data = {'kohli': 'batsmen', 'bumrah':'bowler', 'pant':'keeper', 'chahal':'spinner', 'hardik':'all-rounder'}"
   ]
  },
  {
   "cell_type": "code",
   "execution_count": 16,
   "id": "e42b6c7c",
   "metadata": {},
   "outputs": [],
   "source": [
    "series_data = pd.Series(player_data)"
   ]
  },
  {
   "cell_type": "code",
   "execution_count": 17,
   "id": "371782da",
   "metadata": {},
   "outputs": [
    {
     "data": {
      "text/plain": [
       "kohli         batsmen\n",
       "bumrah         bowler\n",
       "pant           keeper\n",
       "chahal        spinner\n",
       "hardik    all-rounder\n",
       "dtype: object"
      ]
     },
     "execution_count": 17,
     "metadata": {},
     "output_type": "execute_result"
    }
   ],
   "source": [
    "series_data"
   ]
  },
  {
   "cell_type": "code",
   "execution_count": 18,
   "id": "8a592462",
   "metadata": {},
   "outputs": [],
   "source": [
    "# change the order of index , by choosing key order  \n",
    "\n",
    "my_index = ['kohli', 'pant', 'hardik', 'chahal', 'bumrah', 'shami']\n",
    "\n",
    "updated_data = pd.Series(player_data, index=my_index)"
   ]
  },
  {
   "cell_type": "code",
   "execution_count": 19,
   "id": "1208f7d4",
   "metadata": {},
   "outputs": [
    {
     "data": {
      "text/plain": [
       "kohli         batsmen\n",
       "pant           keeper\n",
       "hardik    all-rounder\n",
       "chahal        spinner\n",
       "bumrah         bowler\n",
       "shami             NaN\n",
       "dtype: object"
      ]
     },
     "execution_count": 19,
     "metadata": {},
     "output_type": "execute_result"
    }
   ],
   "source": [
    "updated_data"
   ]
  },
  {
   "cell_type": "code",
   "execution_count": 20,
   "id": "e9b4b787",
   "metadata": {},
   "outputs": [
    {
     "data": {
      "text/plain": [
       "kohli     False\n",
       "pant      False\n",
       "hardik    False\n",
       "chahal    False\n",
       "bumrah    False\n",
       "shami      True\n",
       "dtype: bool"
      ]
     },
     "execution_count": 20,
     "metadata": {},
     "output_type": "execute_result"
    }
   ],
   "source": [
    "pd.isnull(updated_data) #check for any missing values   "
   ]
  },
  {
   "cell_type": "code",
   "execution_count": 21,
   "id": "caacee1c",
   "metadata": {},
   "outputs": [
    {
     "data": {
      "text/plain": [
       "kohli      True\n",
       "pant       True\n",
       "hardik     True\n",
       "chahal     True\n",
       "bumrah     True\n",
       "shami     False\n",
       "dtype: bool"
      ]
     },
     "execution_count": 21,
     "metadata": {},
     "output_type": "execute_result"
    }
   ],
   "source": [
    "pd.notnull(updated_data) #check for no missing data "
   ]
  },
  {
   "cell_type": "code",
   "execution_count": 22,
   "id": "2176cedf",
   "metadata": {},
   "outputs": [
    {
     "data": {
      "text/plain": [
       "kohli     False\n",
       "pant      False\n",
       "hardik    False\n",
       "chahal    False\n",
       "bumrah    False\n",
       "shami      True\n",
       "dtype: bool"
      ]
     },
     "execution_count": 22,
     "metadata": {},
     "output_type": "execute_result"
    }
   ],
   "source": [
    "# isnull and notnull can be used as attributes or methods \n",
    "\n",
    "updated_data.isnull()"
   ]
  },
  {
   "cell_type": "code",
   "execution_count": 23,
   "id": "122d3f58",
   "metadata": {},
   "outputs": [
    {
     "data": {
      "text/plain": [
       "a    21\n",
       "c    33\n",
       "e     1\n",
       "f    61\n",
       "b    12\n",
       "d    99\n",
       "dtype: int64"
      ]
     },
     "execution_count": 23,
     "metadata": {},
     "output_type": "execute_result"
    }
   ],
   "source": [
    "sample_dict = {'a':21, 'c':33, 'e':1, 'f':61, 'b':12, 'd':99}\n",
    "\n",
    "sample_series = pd.Series(sample_dict)\n",
    "\n",
    "sample_series"
   ]
  },
  {
   "cell_type": "markdown",
   "id": "63ed4100",
   "metadata": {},
   "source": [
    "index and data values have an attribute name , useful in identifying variable names"
   ]
  },
  {
   "cell_type": "code",
   "execution_count": 24,
   "id": "cf032f31",
   "metadata": {},
   "outputs": [
    {
     "data": {
      "text/plain": [
       "key1    21\n",
       "key2    33\n",
       "key3     1\n",
       "key4    61\n",
       "key5    12\n",
       "key6    99\n",
       "dtype: int64"
      ]
     },
     "execution_count": 24,
     "metadata": {},
     "output_type": "execute_result"
    }
   ],
   "source": [
    "sample_series.index = ['key1','key2','key3','key4','key5','key6']\n",
    "\n",
    "sample_series"
   ]
  },
  {
   "cell_type": "markdown",
   "id": "a47ef2c3",
   "metadata": {},
   "source": [
    "### DataFrame"
   ]
  },
  {
   "cell_type": "markdown",
   "id": "ecc6df7a",
   "metadata": {},
   "source": [
    "A DataFrame represents a rectangular table of data and contains an order collection of columns each of which \n",
    "can be a different type(numeric, string, boolean). The DataFrame has both row and column index.\n",
    "DataFrame can be thought of as a dict of Series all sharing the same index."
   ]
  },
  {
   "cell_type": "code",
   "execution_count": 25,
   "id": "2de6166a",
   "metadata": {},
   "outputs": [
    {
     "data": {
      "text/html": [
       "<div>\n",
       "<style scoped>\n",
       "    .dataframe tbody tr th:only-of-type {\n",
       "        vertical-align: middle;\n",
       "    }\n",
       "\n",
       "    .dataframe tbody tr th {\n",
       "        vertical-align: top;\n",
       "    }\n",
       "\n",
       "    .dataframe thead th {\n",
       "        text-align: right;\n",
       "    }\n",
       "</style>\n",
       "<table border=\"1\" class=\"dataframe\">\n",
       "  <thead>\n",
       "    <tr style=\"text-align: right;\">\n",
       "      <th></th>\n",
       "      <th>country</th>\n",
       "      <th>continent</th>\n",
       "      <th>population</th>\n",
       "    </tr>\n",
       "  </thead>\n",
       "  <tbody>\n",
       "    <tr>\n",
       "      <th>0</th>\n",
       "      <td>India</td>\n",
       "      <td>Asia</td>\n",
       "      <td>120934523</td>\n",
       "    </tr>\n",
       "    <tr>\n",
       "      <th>1</th>\n",
       "      <td>Austria</td>\n",
       "      <td>Europe</td>\n",
       "      <td>2398762</td>\n",
       "    </tr>\n",
       "    <tr>\n",
       "      <th>2</th>\n",
       "      <td>Usa</td>\n",
       "      <td>North America</td>\n",
       "      <td>15000000</td>\n",
       "    </tr>\n",
       "    <tr>\n",
       "      <th>3</th>\n",
       "      <td>Iran</td>\n",
       "      <td>Middle East</td>\n",
       "      <td>54637263</td>\n",
       "    </tr>\n",
       "    <tr>\n",
       "      <th>4</th>\n",
       "      <td>Tasmania</td>\n",
       "      <td>Australia</td>\n",
       "      <td>309287</td>\n",
       "    </tr>\n",
       "    <tr>\n",
       "      <th>5</th>\n",
       "      <td>Angola</td>\n",
       "      <td>Africa</td>\n",
       "      <td>31092832</td>\n",
       "    </tr>\n",
       "    <tr>\n",
       "      <th>6</th>\n",
       "      <td>Chile</td>\n",
       "      <td>South America</td>\n",
       "      <td>27894562</td>\n",
       "    </tr>\n",
       "  </tbody>\n",
       "</table>\n",
       "</div>"
      ],
      "text/plain": [
       "    country      continent  population\n",
       "0     India           Asia   120934523\n",
       "1   Austria         Europe     2398762\n",
       "2       Usa  North America    15000000\n",
       "3      Iran    Middle East    54637263\n",
       "4  Tasmania      Australia      309287\n",
       "5    Angola         Africa    31092832\n",
       "6     Chile  South America    27894562"
      ]
     },
     "execution_count": 25,
     "metadata": {},
     "output_type": "execute_result"
    }
   ],
   "source": [
    "data = {'country': ['India', 'Austria', 'Usa', 'Iran', 'Tasmania', 'Angola', 'Chile'],\n",
    "        'continent': ['Asia', 'Europe', 'North America', 'Middle East', 'Australia', 'Africa', 'South America'],\n",
    "        'population':[120934523, 2398762, 15000000, 54637263, 309287, 31092832, 27894562]\n",
    "       }\n",
    "\n",
    "dataframe = pd.DataFrame(data)\n",
    "\n",
    "dataframe"
   ]
  },
  {
   "cell_type": "code",
   "execution_count": 26,
   "id": "59de9bf3",
   "metadata": {},
   "outputs": [
    {
     "data": {
      "text/html": [
       "<div>\n",
       "<style scoped>\n",
       "    .dataframe tbody tr th:only-of-type {\n",
       "        vertical-align: middle;\n",
       "    }\n",
       "\n",
       "    .dataframe tbody tr th {\n",
       "        vertical-align: top;\n",
       "    }\n",
       "\n",
       "    .dataframe thead th {\n",
       "        text-align: right;\n",
       "    }\n",
       "</style>\n",
       "<table border=\"1\" class=\"dataframe\">\n",
       "  <thead>\n",
       "    <tr style=\"text-align: right;\">\n",
       "      <th></th>\n",
       "      <th>continent</th>\n",
       "      <th>country</th>\n",
       "      <th>population</th>\n",
       "    </tr>\n",
       "  </thead>\n",
       "  <tbody>\n",
       "    <tr>\n",
       "      <th>0</th>\n",
       "      <td>Asia</td>\n",
       "      <td>India</td>\n",
       "      <td>120934523</td>\n",
       "    </tr>\n",
       "    <tr>\n",
       "      <th>1</th>\n",
       "      <td>Europe</td>\n",
       "      <td>Austria</td>\n",
       "      <td>2398762</td>\n",
       "    </tr>\n",
       "    <tr>\n",
       "      <th>2</th>\n",
       "      <td>North America</td>\n",
       "      <td>Usa</td>\n",
       "      <td>15000000</td>\n",
       "    </tr>\n",
       "    <tr>\n",
       "      <th>3</th>\n",
       "      <td>Middle East</td>\n",
       "      <td>Iran</td>\n",
       "      <td>54637263</td>\n",
       "    </tr>\n",
       "    <tr>\n",
       "      <th>4</th>\n",
       "      <td>Australia</td>\n",
       "      <td>Tasmania</td>\n",
       "      <td>309287</td>\n",
       "    </tr>\n",
       "    <tr>\n",
       "      <th>5</th>\n",
       "      <td>Africa</td>\n",
       "      <td>Angola</td>\n",
       "      <td>31092832</td>\n",
       "    </tr>\n",
       "    <tr>\n",
       "      <th>6</th>\n",
       "      <td>South America</td>\n",
       "      <td>Chile</td>\n",
       "      <td>27894562</td>\n",
       "    </tr>\n",
       "  </tbody>\n",
       "</table>\n",
       "</div>"
      ],
      "text/plain": [
       "       continent   country  population\n",
       "0           Asia     India   120934523\n",
       "1         Europe   Austria     2398762\n",
       "2  North America       Usa    15000000\n",
       "3    Middle East      Iran    54637263\n",
       "4      Australia  Tasmania      309287\n",
       "5         Africa    Angola    31092832\n",
       "6  South America     Chile    27894562"
      ]
     },
     "execution_count": 26,
     "metadata": {},
     "output_type": "execute_result"
    }
   ],
   "source": [
    "# can specify a sequence of column\n",
    "\n",
    "pd.DataFrame(data, columns =['continent', 'country', 'population'])"
   ]
  },
  {
   "cell_type": "code",
   "execution_count": 27,
   "id": "f0a920a5",
   "metadata": {},
   "outputs": [
    {
     "data": {
      "text/html": [
       "<div>\n",
       "<style scoped>\n",
       "    .dataframe tbody tr th:only-of-type {\n",
       "        vertical-align: middle;\n",
       "    }\n",
       "\n",
       "    .dataframe tbody tr th {\n",
       "        vertical-align: top;\n",
       "    }\n",
       "\n",
       "    .dataframe thead th {\n",
       "        text-align: right;\n",
       "    }\n",
       "</style>\n",
       "<table border=\"1\" class=\"dataframe\">\n",
       "  <thead>\n",
       "    <tr style=\"text-align: right;\">\n",
       "      <th></th>\n",
       "      <th>country</th>\n",
       "      <th>population</th>\n",
       "    </tr>\n",
       "  </thead>\n",
       "  <tbody>\n",
       "    <tr>\n",
       "      <th>0</th>\n",
       "      <td>India</td>\n",
       "      <td>120934523</td>\n",
       "    </tr>\n",
       "    <tr>\n",
       "      <th>1</th>\n",
       "      <td>Austria</td>\n",
       "      <td>2398762</td>\n",
       "    </tr>\n",
       "    <tr>\n",
       "      <th>2</th>\n",
       "      <td>Usa</td>\n",
       "      <td>15000000</td>\n",
       "    </tr>\n",
       "    <tr>\n",
       "      <th>3</th>\n",
       "      <td>Iran</td>\n",
       "      <td>54637263</td>\n",
       "    </tr>\n",
       "    <tr>\n",
       "      <th>4</th>\n",
       "      <td>Tasmania</td>\n",
       "      <td>309287</td>\n",
       "    </tr>\n",
       "    <tr>\n",
       "      <th>5</th>\n",
       "      <td>Angola</td>\n",
       "      <td>31092832</td>\n",
       "    </tr>\n",
       "    <tr>\n",
       "      <th>6</th>\n",
       "      <td>Chile</td>\n",
       "      <td>27894562</td>\n",
       "    </tr>\n",
       "  </tbody>\n",
       "</table>\n",
       "</div>"
      ],
      "text/plain": [
       "    country  population\n",
       "0     India   120934523\n",
       "1   Austria     2398762\n",
       "2       Usa    15000000\n",
       "3      Iran    54637263\n",
       "4  Tasmania      309287\n",
       "5    Angola    31092832\n",
       "6     Chile    27894562"
      ]
     },
     "execution_count": 27,
     "metadata": {},
     "output_type": "execute_result"
    }
   ],
   "source": [
    "dataframe[['country', 'population']]  # double square brackets if require more than one column"
   ]
  },
  {
   "cell_type": "code",
   "execution_count": 28,
   "id": "0f7eeabc",
   "metadata": {},
   "outputs": [
    {
     "data": {
      "text/html": [
       "<div>\n",
       "<style scoped>\n",
       "    .dataframe tbody tr th:only-of-type {\n",
       "        vertical-align: middle;\n",
       "    }\n",
       "\n",
       "    .dataframe tbody tr th {\n",
       "        vertical-align: top;\n",
       "    }\n",
       "\n",
       "    .dataframe thead th {\n",
       "        text-align: right;\n",
       "    }\n",
       "</style>\n",
       "<table border=\"1\" class=\"dataframe\">\n",
       "  <thead>\n",
       "    <tr style=\"text-align: right;\">\n",
       "      <th></th>\n",
       "      <th>country</th>\n",
       "      <th>continent</th>\n",
       "      <th>population</th>\n",
       "      <th>debt</th>\n",
       "    </tr>\n",
       "  </thead>\n",
       "  <tbody>\n",
       "    <tr>\n",
       "      <th>one</th>\n",
       "      <td>India</td>\n",
       "      <td>Asia</td>\n",
       "      <td>120934523</td>\n",
       "      <td>NaN</td>\n",
       "    </tr>\n",
       "    <tr>\n",
       "      <th>two</th>\n",
       "      <td>Austria</td>\n",
       "      <td>Europe</td>\n",
       "      <td>2398762</td>\n",
       "      <td>NaN</td>\n",
       "    </tr>\n",
       "    <tr>\n",
       "      <th>three</th>\n",
       "      <td>Usa</td>\n",
       "      <td>North America</td>\n",
       "      <td>15000000</td>\n",
       "      <td>NaN</td>\n",
       "    </tr>\n",
       "    <tr>\n",
       "      <th>four</th>\n",
       "      <td>Iran</td>\n",
       "      <td>Middle East</td>\n",
       "      <td>54637263</td>\n",
       "      <td>NaN</td>\n",
       "    </tr>\n",
       "    <tr>\n",
       "      <th>five</th>\n",
       "      <td>Tasmania</td>\n",
       "      <td>Australia</td>\n",
       "      <td>309287</td>\n",
       "      <td>NaN</td>\n",
       "    </tr>\n",
       "    <tr>\n",
       "      <th>six</th>\n",
       "      <td>Angola</td>\n",
       "      <td>Africa</td>\n",
       "      <td>31092832</td>\n",
       "      <td>NaN</td>\n",
       "    </tr>\n",
       "    <tr>\n",
       "      <th>seven</th>\n",
       "      <td>Chile</td>\n",
       "      <td>South America</td>\n",
       "      <td>27894562</td>\n",
       "      <td>NaN</td>\n",
       "    </tr>\n",
       "  </tbody>\n",
       "</table>\n",
       "</div>"
      ],
      "text/plain": [
       "        country      continent  population debt\n",
       "one       India           Asia   120934523  NaN\n",
       "two     Austria         Europe     2398762  NaN\n",
       "three       Usa  North America    15000000  NaN\n",
       "four       Iran    Middle East    54637263  NaN\n",
       "five   Tasmania      Australia      309287  NaN\n",
       "six      Angola         Africa    31092832  NaN\n",
       "seven     Chile  South America    27894562  NaN"
      ]
     },
     "execution_count": 28,
     "metadata": {},
     "output_type": "execute_result"
    }
   ],
   "source": [
    "frame2 = pd.DataFrame(data, columns = ['country', 'continent', 'population', 'debt'], index = ['one','two','three','four','five','six','seven'])\n",
    "\n",
    "frame2  #passed in a empty column will return NaN values in view"
   ]
  },
  {
   "cell_type": "code",
   "execution_count": 29,
   "id": "ca44aeb9",
   "metadata": {},
   "outputs": [
    {
     "data": {
      "text/plain": [
       "one         India\n",
       "two       Austria\n",
       "three         Usa\n",
       "four         Iran\n",
       "five     Tasmania\n",
       "six        Angola\n",
       "seven       Chile\n",
       "Name: country, dtype: object"
      ]
     },
     "execution_count": 29,
     "metadata": {},
     "output_type": "execute_result"
    }
   ],
   "source": [
    "# column data can be retrieved either using dict anotation or as an attribute \n",
    "\n",
    "frame2['country']"
   ]
  },
  {
   "cell_type": "code",
   "execution_count": 30,
   "id": "ad8e4ab1",
   "metadata": {},
   "outputs": [
    {
     "data": {
      "text/plain": [
       "one         India\n",
       "two       Austria\n",
       "three         Usa\n",
       "four         Iran\n",
       "five     Tasmania\n",
       "six        Angola\n",
       "seven       Chile\n",
       "Name: country, dtype: object"
      ]
     },
     "execution_count": 30,
     "metadata": {},
     "output_type": "execute_result"
    }
   ],
   "source": [
    "frame2.country"
   ]
  },
  {
   "cell_type": "code",
   "execution_count": 31,
   "id": "3649ed86",
   "metadata": {},
   "outputs": [
    {
     "data": {
      "text/html": [
       "<div>\n",
       "<style scoped>\n",
       "    .dataframe tbody tr th:only-of-type {\n",
       "        vertical-align: middle;\n",
       "    }\n",
       "\n",
       "    .dataframe tbody tr th {\n",
       "        vertical-align: top;\n",
       "    }\n",
       "\n",
       "    .dataframe thead th {\n",
       "        text-align: right;\n",
       "    }\n",
       "</style>\n",
       "<table border=\"1\" class=\"dataframe\">\n",
       "  <thead>\n",
       "    <tr style=\"text-align: right;\">\n",
       "      <th></th>\n",
       "      <th>country</th>\n",
       "      <th>continent</th>\n",
       "      <th>population</th>\n",
       "      <th>debt</th>\n",
       "    </tr>\n",
       "  </thead>\n",
       "  <tbody>\n",
       "    <tr>\n",
       "      <th>one</th>\n",
       "      <td>False</td>\n",
       "      <td>False</td>\n",
       "      <td>False</td>\n",
       "      <td>True</td>\n",
       "    </tr>\n",
       "    <tr>\n",
       "      <th>two</th>\n",
       "      <td>False</td>\n",
       "      <td>False</td>\n",
       "      <td>False</td>\n",
       "      <td>True</td>\n",
       "    </tr>\n",
       "    <tr>\n",
       "      <th>three</th>\n",
       "      <td>False</td>\n",
       "      <td>False</td>\n",
       "      <td>False</td>\n",
       "      <td>True</td>\n",
       "    </tr>\n",
       "    <tr>\n",
       "      <th>four</th>\n",
       "      <td>False</td>\n",
       "      <td>False</td>\n",
       "      <td>False</td>\n",
       "      <td>True</td>\n",
       "    </tr>\n",
       "    <tr>\n",
       "      <th>five</th>\n",
       "      <td>False</td>\n",
       "      <td>False</td>\n",
       "      <td>False</td>\n",
       "      <td>True</td>\n",
       "    </tr>\n",
       "    <tr>\n",
       "      <th>six</th>\n",
       "      <td>False</td>\n",
       "      <td>False</td>\n",
       "      <td>False</td>\n",
       "      <td>True</td>\n",
       "    </tr>\n",
       "    <tr>\n",
       "      <th>seven</th>\n",
       "      <td>False</td>\n",
       "      <td>False</td>\n",
       "      <td>False</td>\n",
       "      <td>True</td>\n",
       "    </tr>\n",
       "  </tbody>\n",
       "</table>\n",
       "</div>"
      ],
      "text/plain": [
       "       country  continent  population  debt\n",
       "one      False      False       False  True\n",
       "two      False      False       False  True\n",
       "three    False      False       False  True\n",
       "four     False      False       False  True\n",
       "five     False      False       False  True\n",
       "six      False      False       False  True\n",
       "seven    False      False       False  True"
      ]
     },
     "execution_count": 31,
     "metadata": {},
     "output_type": "execute_result"
    }
   ],
   "source": [
    "pd.isnull(frame2)"
   ]
  },
  {
   "cell_type": "code",
   "execution_count": 32,
   "id": "10562be9",
   "metadata": {},
   "outputs": [
    {
     "data": {
      "text/plain": [
       "country       Austria\n",
       "continent      Europe\n",
       "population    2398762\n",
       "debt              NaN\n",
       "Name: two, dtype: object"
      ]
     },
     "execution_count": 32,
     "metadata": {},
     "output_type": "execute_result"
    }
   ],
   "source": [
    "# rows are obtained by using the special loc attribute \n",
    "\n",
    "frame2.loc['two']"
   ]
  },
  {
   "cell_type": "code",
   "execution_count": 33,
   "id": "bf85bed9",
   "metadata": {},
   "outputs": [],
   "source": [
    "# empty columns can be assigned a value or an array of values \n",
    "\n",
    "frame2['debt'] = ['€32m', '€10m', '€1.2b', '€30k', '€420m', '€88m', '€2.3b']"
   ]
  },
  {
   "cell_type": "code",
   "execution_count": 34,
   "id": "3ecceed5",
   "metadata": {},
   "outputs": [
    {
     "data": {
      "text/html": [
       "<div>\n",
       "<style scoped>\n",
       "    .dataframe tbody tr th:only-of-type {\n",
       "        vertical-align: middle;\n",
       "    }\n",
       "\n",
       "    .dataframe tbody tr th {\n",
       "        vertical-align: top;\n",
       "    }\n",
       "\n",
       "    .dataframe thead th {\n",
       "        text-align: right;\n",
       "    }\n",
       "</style>\n",
       "<table border=\"1\" class=\"dataframe\">\n",
       "  <thead>\n",
       "    <tr style=\"text-align: right;\">\n",
       "      <th></th>\n",
       "      <th>country</th>\n",
       "      <th>continent</th>\n",
       "      <th>population</th>\n",
       "      <th>debt</th>\n",
       "    </tr>\n",
       "  </thead>\n",
       "  <tbody>\n",
       "    <tr>\n",
       "      <th>one</th>\n",
       "      <td>India</td>\n",
       "      <td>Asia</td>\n",
       "      <td>120934523</td>\n",
       "      <td>€32m</td>\n",
       "    </tr>\n",
       "    <tr>\n",
       "      <th>two</th>\n",
       "      <td>Austria</td>\n",
       "      <td>Europe</td>\n",
       "      <td>2398762</td>\n",
       "      <td>€10m</td>\n",
       "    </tr>\n",
       "    <tr>\n",
       "      <th>three</th>\n",
       "      <td>Usa</td>\n",
       "      <td>North America</td>\n",
       "      <td>15000000</td>\n",
       "      <td>€1.2b</td>\n",
       "    </tr>\n",
       "    <tr>\n",
       "      <th>four</th>\n",
       "      <td>Iran</td>\n",
       "      <td>Middle East</td>\n",
       "      <td>54637263</td>\n",
       "      <td>€30k</td>\n",
       "    </tr>\n",
       "    <tr>\n",
       "      <th>five</th>\n",
       "      <td>Tasmania</td>\n",
       "      <td>Australia</td>\n",
       "      <td>309287</td>\n",
       "      <td>€420m</td>\n",
       "    </tr>\n",
       "    <tr>\n",
       "      <th>six</th>\n",
       "      <td>Angola</td>\n",
       "      <td>Africa</td>\n",
       "      <td>31092832</td>\n",
       "      <td>€88m</td>\n",
       "    </tr>\n",
       "    <tr>\n",
       "      <th>seven</th>\n",
       "      <td>Chile</td>\n",
       "      <td>South America</td>\n",
       "      <td>27894562</td>\n",
       "      <td>€2.3b</td>\n",
       "    </tr>\n",
       "  </tbody>\n",
       "</table>\n",
       "</div>"
      ],
      "text/plain": [
       "        country      continent  population   debt\n",
       "one       India           Asia   120934523   €32m\n",
       "two     Austria         Europe     2398762   €10m\n",
       "three       Usa  North America    15000000  €1.2b\n",
       "four       Iran    Middle East    54637263   €30k\n",
       "five   Tasmania      Australia      309287  €420m\n",
       "six      Angola         Africa    31092832   €88m\n",
       "seven     Chile  South America    27894562  €2.3b"
      ]
     },
     "execution_count": 34,
     "metadata": {},
     "output_type": "execute_result"
    }
   ],
   "source": [
    "frame2"
   ]
  },
  {
   "cell_type": "code",
   "execution_count": 35,
   "id": "4fa581d3",
   "metadata": {},
   "outputs": [],
   "source": [
    "frame2.index = [1,2,3,4,5,6,7] # changed index values "
   ]
  },
  {
   "cell_type": "code",
   "execution_count": 36,
   "id": "ae902edd",
   "metadata": {},
   "outputs": [
    {
     "data": {
      "text/html": [
       "<div>\n",
       "<style scoped>\n",
       "    .dataframe tbody tr th:only-of-type {\n",
       "        vertical-align: middle;\n",
       "    }\n",
       "\n",
       "    .dataframe tbody tr th {\n",
       "        vertical-align: top;\n",
       "    }\n",
       "\n",
       "    .dataframe thead th {\n",
       "        text-align: right;\n",
       "    }\n",
       "</style>\n",
       "<table border=\"1\" class=\"dataframe\">\n",
       "  <thead>\n",
       "    <tr style=\"text-align: right;\">\n",
       "      <th></th>\n",
       "      <th>country</th>\n",
       "      <th>continent</th>\n",
       "      <th>population</th>\n",
       "      <th>debt</th>\n",
       "    </tr>\n",
       "  </thead>\n",
       "  <tbody>\n",
       "    <tr>\n",
       "      <th>1</th>\n",
       "      <td>India</td>\n",
       "      <td>Asia</td>\n",
       "      <td>120934523</td>\n",
       "      <td>€32m</td>\n",
       "    </tr>\n",
       "    <tr>\n",
       "      <th>2</th>\n",
       "      <td>Austria</td>\n",
       "      <td>Europe</td>\n",
       "      <td>2398762</td>\n",
       "      <td>€10m</td>\n",
       "    </tr>\n",
       "    <tr>\n",
       "      <th>3</th>\n",
       "      <td>Usa</td>\n",
       "      <td>North America</td>\n",
       "      <td>15000000</td>\n",
       "      <td>€1.2b</td>\n",
       "    </tr>\n",
       "    <tr>\n",
       "      <th>4</th>\n",
       "      <td>Iran</td>\n",
       "      <td>Middle East</td>\n",
       "      <td>54637263</td>\n",
       "      <td>€30k</td>\n",
       "    </tr>\n",
       "    <tr>\n",
       "      <th>5</th>\n",
       "      <td>Tasmania</td>\n",
       "      <td>Australia</td>\n",
       "      <td>309287</td>\n",
       "      <td>€420m</td>\n",
       "    </tr>\n",
       "    <tr>\n",
       "      <th>6</th>\n",
       "      <td>Angola</td>\n",
       "      <td>Africa</td>\n",
       "      <td>31092832</td>\n",
       "      <td>€88m</td>\n",
       "    </tr>\n",
       "    <tr>\n",
       "      <th>7</th>\n",
       "      <td>Chile</td>\n",
       "      <td>South America</td>\n",
       "      <td>27894562</td>\n",
       "      <td>€2.3b</td>\n",
       "    </tr>\n",
       "  </tbody>\n",
       "</table>\n",
       "</div>"
      ],
      "text/plain": [
       "    country      continent  population   debt\n",
       "1     India           Asia   120934523   €32m\n",
       "2   Austria         Europe     2398762   €10m\n",
       "3       Usa  North America    15000000  €1.2b\n",
       "4      Iran    Middle East    54637263   €30k\n",
       "5  Tasmania      Australia      309287  €420m\n",
       "6    Angola         Africa    31092832   €88m\n",
       "7     Chile  South America    27894562  €2.3b"
      ]
     },
     "execution_count": 36,
     "metadata": {},
     "output_type": "execute_result"
    }
   ],
   "source": [
    "frame2"
   ]
  },
  {
   "cell_type": "code",
   "execution_count": 37,
   "id": "4484aa4d",
   "metadata": {},
   "outputs": [],
   "source": [
    "frame3 = pd.DataFrame(frame2, columns = ['country', 'continent', 'population','debt','literacy rate'])"
   ]
  },
  {
   "cell_type": "code",
   "execution_count": 38,
   "id": "c9e05c37",
   "metadata": {},
   "outputs": [
    {
     "data": {
      "text/html": [
       "<div>\n",
       "<style scoped>\n",
       "    .dataframe tbody tr th:only-of-type {\n",
       "        vertical-align: middle;\n",
       "    }\n",
       "\n",
       "    .dataframe tbody tr th {\n",
       "        vertical-align: top;\n",
       "    }\n",
       "\n",
       "    .dataframe thead th {\n",
       "        text-align: right;\n",
       "    }\n",
       "</style>\n",
       "<table border=\"1\" class=\"dataframe\">\n",
       "  <thead>\n",
       "    <tr style=\"text-align: right;\">\n",
       "      <th></th>\n",
       "      <th>country</th>\n",
       "      <th>continent</th>\n",
       "      <th>population</th>\n",
       "      <th>debt</th>\n",
       "      <th>literacy rate</th>\n",
       "    </tr>\n",
       "  </thead>\n",
       "  <tbody>\n",
       "    <tr>\n",
       "      <th>1</th>\n",
       "      <td>India</td>\n",
       "      <td>Asia</td>\n",
       "      <td>120934523</td>\n",
       "      <td>€32m</td>\n",
       "      <td>NaN</td>\n",
       "    </tr>\n",
       "    <tr>\n",
       "      <th>2</th>\n",
       "      <td>Austria</td>\n",
       "      <td>Europe</td>\n",
       "      <td>2398762</td>\n",
       "      <td>€10m</td>\n",
       "      <td>NaN</td>\n",
       "    </tr>\n",
       "    <tr>\n",
       "      <th>3</th>\n",
       "      <td>Usa</td>\n",
       "      <td>North America</td>\n",
       "      <td>15000000</td>\n",
       "      <td>€1.2b</td>\n",
       "      <td>NaN</td>\n",
       "    </tr>\n",
       "    <tr>\n",
       "      <th>4</th>\n",
       "      <td>Iran</td>\n",
       "      <td>Middle East</td>\n",
       "      <td>54637263</td>\n",
       "      <td>€30k</td>\n",
       "      <td>NaN</td>\n",
       "    </tr>\n",
       "    <tr>\n",
       "      <th>5</th>\n",
       "      <td>Tasmania</td>\n",
       "      <td>Australia</td>\n",
       "      <td>309287</td>\n",
       "      <td>€420m</td>\n",
       "      <td>NaN</td>\n",
       "    </tr>\n",
       "    <tr>\n",
       "      <th>6</th>\n",
       "      <td>Angola</td>\n",
       "      <td>Africa</td>\n",
       "      <td>31092832</td>\n",
       "      <td>€88m</td>\n",
       "      <td>NaN</td>\n",
       "    </tr>\n",
       "    <tr>\n",
       "      <th>7</th>\n",
       "      <td>Chile</td>\n",
       "      <td>South America</td>\n",
       "      <td>27894562</td>\n",
       "      <td>€2.3b</td>\n",
       "      <td>NaN</td>\n",
       "    </tr>\n",
       "  </tbody>\n",
       "</table>\n",
       "</div>"
      ],
      "text/plain": [
       "    country      continent  population   debt  literacy rate\n",
       "1     India           Asia   120934523   €32m            NaN\n",
       "2   Austria         Europe     2398762   €10m            NaN\n",
       "3       Usa  North America    15000000  €1.2b            NaN\n",
       "4      Iran    Middle East    54637263   €30k            NaN\n",
       "5  Tasmania      Australia      309287  €420m            NaN\n",
       "6    Angola         Africa    31092832   €88m            NaN\n",
       "7     Chile  South America    27894562  €2.3b            NaN"
      ]
     },
     "execution_count": 38,
     "metadata": {},
     "output_type": "execute_result"
    }
   ],
   "source": [
    "frame3"
   ]
  },
  {
   "cell_type": "code",
   "execution_count": 39,
   "id": "501c6ef7",
   "metadata": {},
   "outputs": [],
   "source": [
    "# can add a series into a dataframe , also specifying index values where data is inserted , leaving others NaN\n",
    "\n",
    "literacy_vals = pd.Series(['62%','90%','42%','87%'], index = [1,2,6,3])"
   ]
  },
  {
   "cell_type": "code",
   "execution_count": 40,
   "id": "ce62d969",
   "metadata": {},
   "outputs": [],
   "source": [
    "frame3['literacy rate'] = literacy_vals # add series data into specified dataframe column"
   ]
  },
  {
   "cell_type": "code",
   "execution_count": 41,
   "id": "d3c7c892",
   "metadata": {},
   "outputs": [
    {
     "data": {
      "text/html": [
       "<div>\n",
       "<style scoped>\n",
       "    .dataframe tbody tr th:only-of-type {\n",
       "        vertical-align: middle;\n",
       "    }\n",
       "\n",
       "    .dataframe tbody tr th {\n",
       "        vertical-align: top;\n",
       "    }\n",
       "\n",
       "    .dataframe thead th {\n",
       "        text-align: right;\n",
       "    }\n",
       "</style>\n",
       "<table border=\"1\" class=\"dataframe\">\n",
       "  <thead>\n",
       "    <tr style=\"text-align: right;\">\n",
       "      <th></th>\n",
       "      <th>country</th>\n",
       "      <th>continent</th>\n",
       "      <th>population</th>\n",
       "      <th>debt</th>\n",
       "      <th>literacy rate</th>\n",
       "    </tr>\n",
       "  </thead>\n",
       "  <tbody>\n",
       "    <tr>\n",
       "      <th>1</th>\n",
       "      <td>India</td>\n",
       "      <td>Asia</td>\n",
       "      <td>120934523</td>\n",
       "      <td>€32m</td>\n",
       "      <td>62%</td>\n",
       "    </tr>\n",
       "    <tr>\n",
       "      <th>2</th>\n",
       "      <td>Austria</td>\n",
       "      <td>Europe</td>\n",
       "      <td>2398762</td>\n",
       "      <td>€10m</td>\n",
       "      <td>90%</td>\n",
       "    </tr>\n",
       "    <tr>\n",
       "      <th>3</th>\n",
       "      <td>Usa</td>\n",
       "      <td>North America</td>\n",
       "      <td>15000000</td>\n",
       "      <td>€1.2b</td>\n",
       "      <td>87%</td>\n",
       "    </tr>\n",
       "    <tr>\n",
       "      <th>4</th>\n",
       "      <td>Iran</td>\n",
       "      <td>Middle East</td>\n",
       "      <td>54637263</td>\n",
       "      <td>€30k</td>\n",
       "      <td>NaN</td>\n",
       "    </tr>\n",
       "    <tr>\n",
       "      <th>5</th>\n",
       "      <td>Tasmania</td>\n",
       "      <td>Australia</td>\n",
       "      <td>309287</td>\n",
       "      <td>€420m</td>\n",
       "      <td>NaN</td>\n",
       "    </tr>\n",
       "    <tr>\n",
       "      <th>6</th>\n",
       "      <td>Angola</td>\n",
       "      <td>Africa</td>\n",
       "      <td>31092832</td>\n",
       "      <td>€88m</td>\n",
       "      <td>42%</td>\n",
       "    </tr>\n",
       "    <tr>\n",
       "      <th>7</th>\n",
       "      <td>Chile</td>\n",
       "      <td>South America</td>\n",
       "      <td>27894562</td>\n",
       "      <td>€2.3b</td>\n",
       "      <td>NaN</td>\n",
       "    </tr>\n",
       "  </tbody>\n",
       "</table>\n",
       "</div>"
      ],
      "text/plain": [
       "    country      continent  population   debt literacy rate\n",
       "1     India           Asia   120934523   €32m           62%\n",
       "2   Austria         Europe     2398762   €10m           90%\n",
       "3       Usa  North America    15000000  €1.2b           87%\n",
       "4      Iran    Middle East    54637263   €30k           NaN\n",
       "5  Tasmania      Australia      309287  €420m           NaN\n",
       "6    Angola         Africa    31092832   €88m           42%\n",
       "7     Chile  South America    27894562  €2.3b           NaN"
      ]
     },
     "execution_count": 41,
     "metadata": {},
     "output_type": "execute_result"
    }
   ],
   "source": [
    "frame3"
   ]
  },
  {
   "cell_type": "code",
   "execution_count": 42,
   "id": "0f9d0bd5",
   "metadata": {},
   "outputs": [
    {
     "data": {
      "text/html": [
       "<div>\n",
       "<style scoped>\n",
       "    .dataframe tbody tr th:only-of-type {\n",
       "        vertical-align: middle;\n",
       "    }\n",
       "\n",
       "    .dataframe tbody tr th {\n",
       "        vertical-align: top;\n",
       "    }\n",
       "\n",
       "    .dataframe thead th {\n",
       "        text-align: right;\n",
       "    }\n",
       "</style>\n",
       "<table border=\"1\" class=\"dataframe\">\n",
       "  <thead>\n",
       "    <tr style=\"text-align: right;\">\n",
       "      <th></th>\n",
       "      <th>country</th>\n",
       "      <th>continent</th>\n",
       "      <th>population</th>\n",
       "      <th>debt</th>\n",
       "      <th>literacy rate</th>\n",
       "      <th>landlocked</th>\n",
       "    </tr>\n",
       "  </thead>\n",
       "  <tbody>\n",
       "    <tr>\n",
       "      <th>1</th>\n",
       "      <td>India</td>\n",
       "      <td>Asia</td>\n",
       "      <td>120934523</td>\n",
       "      <td>€32m</td>\n",
       "      <td>62%</td>\n",
       "      <td>no</td>\n",
       "    </tr>\n",
       "    <tr>\n",
       "      <th>2</th>\n",
       "      <td>Austria</td>\n",
       "      <td>Europe</td>\n",
       "      <td>2398762</td>\n",
       "      <td>€10m</td>\n",
       "      <td>90%</td>\n",
       "      <td>yes</td>\n",
       "    </tr>\n",
       "    <tr>\n",
       "      <th>3</th>\n",
       "      <td>Usa</td>\n",
       "      <td>North America</td>\n",
       "      <td>15000000</td>\n",
       "      <td>€1.2b</td>\n",
       "      <td>87%</td>\n",
       "      <td>no</td>\n",
       "    </tr>\n",
       "    <tr>\n",
       "      <th>4</th>\n",
       "      <td>Iran</td>\n",
       "      <td>Middle East</td>\n",
       "      <td>54637263</td>\n",
       "      <td>€30k</td>\n",
       "      <td>NaN</td>\n",
       "      <td>yes</td>\n",
       "    </tr>\n",
       "    <tr>\n",
       "      <th>5</th>\n",
       "      <td>Tasmania</td>\n",
       "      <td>Australia</td>\n",
       "      <td>309287</td>\n",
       "      <td>€420m</td>\n",
       "      <td>NaN</td>\n",
       "      <td>no</td>\n",
       "    </tr>\n",
       "    <tr>\n",
       "      <th>6</th>\n",
       "      <td>Angola</td>\n",
       "      <td>Africa</td>\n",
       "      <td>31092832</td>\n",
       "      <td>€88m</td>\n",
       "      <td>42%</td>\n",
       "      <td>yes</td>\n",
       "    </tr>\n",
       "    <tr>\n",
       "      <th>7</th>\n",
       "      <td>Chile</td>\n",
       "      <td>South America</td>\n",
       "      <td>27894562</td>\n",
       "      <td>€2.3b</td>\n",
       "      <td>NaN</td>\n",
       "      <td>no</td>\n",
       "    </tr>\n",
       "  </tbody>\n",
       "</table>\n",
       "</div>"
      ],
      "text/plain": [
       "    country      continent  population   debt literacy rate landlocked\n",
       "1     India           Asia   120934523   €32m           62%         no\n",
       "2   Austria         Europe     2398762   €10m           90%        yes\n",
       "3       Usa  North America    15000000  €1.2b           87%         no\n",
       "4      Iran    Middle East    54637263   €30k           NaN        yes\n",
       "5  Tasmania      Australia      309287  €420m           NaN         no\n",
       "6    Angola         Africa    31092832   €88m           42%        yes\n",
       "7     Chile  South America    27894562  €2.3b           NaN         no"
      ]
     },
     "execution_count": 42,
     "metadata": {},
     "output_type": "execute_result"
    }
   ],
   "source": [
    "# delete columns by using del attribute \n",
    "\n",
    "# create a new column\n",
    "frame3['landlocked'] = frame2.country.index = ['no','yes','no','yes','no','yes','no']\n",
    "frame3"
   ]
  },
  {
   "cell_type": "code",
   "execution_count": 43,
   "id": "9baa75a2",
   "metadata": {},
   "outputs": [
    {
     "data": {
      "text/plain": [
       "Index(['country', 'continent', 'population', 'debt', 'literacy rate'], dtype='object')"
      ]
     },
     "execution_count": 43,
     "metadata": {},
     "output_type": "execute_result"
    }
   ],
   "source": [
    "# delete columns by using del attribute \n",
    "\n",
    "del frame3['landlocked']\n",
    "\n",
    "frame3.columns"
   ]
  },
  {
   "cell_type": "code",
   "execution_count": 44,
   "id": "cb305c55",
   "metadata": {},
   "outputs": [
    {
     "data": {
      "text/html": [
       "<div>\n",
       "<style scoped>\n",
       "    .dataframe tbody tr th:only-of-type {\n",
       "        vertical-align: middle;\n",
       "    }\n",
       "\n",
       "    .dataframe tbody tr th {\n",
       "        vertical-align: top;\n",
       "    }\n",
       "\n",
       "    .dataframe thead th {\n",
       "        text-align: right;\n",
       "    }\n",
       "</style>\n",
       "<table border=\"1\" class=\"dataframe\">\n",
       "  <thead>\n",
       "    <tr style=\"text-align: right;\">\n",
       "      <th></th>\n",
       "      <th>country</th>\n",
       "      <th>continent</th>\n",
       "      <th>population</th>\n",
       "      <th>debt</th>\n",
       "      <th>literacy rate</th>\n",
       "    </tr>\n",
       "  </thead>\n",
       "  <tbody>\n",
       "    <tr>\n",
       "      <th>1</th>\n",
       "      <td>India</td>\n",
       "      <td>Asia</td>\n",
       "      <td>120934523</td>\n",
       "      <td>€32m</td>\n",
       "      <td>62%</td>\n",
       "    </tr>\n",
       "    <tr>\n",
       "      <th>2</th>\n",
       "      <td>Austria</td>\n",
       "      <td>Europe</td>\n",
       "      <td>2398762</td>\n",
       "      <td>€10m</td>\n",
       "      <td>90%</td>\n",
       "    </tr>\n",
       "    <tr>\n",
       "      <th>3</th>\n",
       "      <td>Usa</td>\n",
       "      <td>North America</td>\n",
       "      <td>15000000</td>\n",
       "      <td>€1.2b</td>\n",
       "      <td>87%</td>\n",
       "    </tr>\n",
       "    <tr>\n",
       "      <th>4</th>\n",
       "      <td>Iran</td>\n",
       "      <td>Middle East</td>\n",
       "      <td>54637263</td>\n",
       "      <td>€30k</td>\n",
       "      <td>NaN</td>\n",
       "    </tr>\n",
       "    <tr>\n",
       "      <th>5</th>\n",
       "      <td>Tasmania</td>\n",
       "      <td>Australia</td>\n",
       "      <td>309287</td>\n",
       "      <td>€420m</td>\n",
       "      <td>NaN</td>\n",
       "    </tr>\n",
       "    <tr>\n",
       "      <th>6</th>\n",
       "      <td>Angola</td>\n",
       "      <td>Africa</td>\n",
       "      <td>31092832</td>\n",
       "      <td>€88m</td>\n",
       "      <td>42%</td>\n",
       "    </tr>\n",
       "    <tr>\n",
       "      <th>7</th>\n",
       "      <td>Chile</td>\n",
       "      <td>South America</td>\n",
       "      <td>27894562</td>\n",
       "      <td>€2.3b</td>\n",
       "      <td>NaN</td>\n",
       "    </tr>\n",
       "  </tbody>\n",
       "</table>\n",
       "</div>"
      ],
      "text/plain": [
       "    country      continent  population   debt literacy rate\n",
       "1     India           Asia   120934523   €32m           62%\n",
       "2   Austria         Europe     2398762   €10m           90%\n",
       "3       Usa  North America    15000000  €1.2b           87%\n",
       "4      Iran    Middle East    54637263   €30k           NaN\n",
       "5  Tasmania      Australia      309287  €420m           NaN\n",
       "6    Angola         Africa    31092832   €88m           42%\n",
       "7     Chile  South America    27894562  €2.3b           NaN"
      ]
     },
     "execution_count": 44,
     "metadata": {},
     "output_type": "execute_result"
    }
   ],
   "source": [
    "frame3"
   ]
  },
  {
   "cell_type": "markdown",
   "id": "e010a716",
   "metadata": {},
   "source": [
    "Another common form of data in DataFrame is nested dictionary of dictionaries "
   ]
  },
  {
   "cell_type": "code",
   "execution_count": 45,
   "id": "14e1c476",
   "metadata": {},
   "outputs": [
    {
     "data": {
      "text/html": [
       "<div>\n",
       "<style scoped>\n",
       "    .dataframe tbody tr th:only-of-type {\n",
       "        vertical-align: middle;\n",
       "    }\n",
       "\n",
       "    .dataframe tbody tr th {\n",
       "        vertical-align: top;\n",
       "    }\n",
       "\n",
       "    .dataframe thead th {\n",
       "        text-align: right;\n",
       "    }\n",
       "</style>\n",
       "<table border=\"1\" class=\"dataframe\">\n",
       "  <thead>\n",
       "    <tr style=\"text-align: right;\">\n",
       "      <th></th>\n",
       "      <th>India</th>\n",
       "      <th>North Korea</th>\n",
       "    </tr>\n",
       "  </thead>\n",
       "  <tbody>\n",
       "    <tr>\n",
       "      <th>leader</th>\n",
       "      <td>modi</td>\n",
       "      <td>kim jung un</td>\n",
       "    </tr>\n",
       "    <tr>\n",
       "      <th>gov</th>\n",
       "      <td>democratic</td>\n",
       "      <td>dictator</td>\n",
       "    </tr>\n",
       "    <tr>\n",
       "      <th>nuke</th>\n",
       "      <td>NaN</td>\n",
       "      <td>active</td>\n",
       "    </tr>\n",
       "  </tbody>\n",
       "</table>\n",
       "</div>"
      ],
      "text/plain": [
       "             India  North Korea\n",
       "leader        modi  kim jung un\n",
       "gov     democratic     dictator\n",
       "nuke           NaN       active"
      ]
     },
     "execution_count": 45,
     "metadata": {},
     "output_type": "execute_result"
    }
   ],
   "source": [
    "nested = {'India':{'leader':'modi', 'gov':'democratic'},\n",
    "         'North Korea': {'leader':'kim jung un', 'gov':'dictator', 'nuke':'active'}\n",
    "         }\n",
    "\n",
    "# outer dict keys becomes columns , inner dict keys beacome row indices \n",
    "\n",
    "nested_data = pd.DataFrame(nested)\n",
    "\n",
    "nested_data"
   ]
  },
  {
   "cell_type": "code",
   "execution_count": 46,
   "id": "b52062ad",
   "metadata": {},
   "outputs": [
    {
     "data": {
      "text/html": [
       "<div>\n",
       "<style scoped>\n",
       "    .dataframe tbody tr th:only-of-type {\n",
       "        vertical-align: middle;\n",
       "    }\n",
       "\n",
       "    .dataframe tbody tr th {\n",
       "        vertical-align: top;\n",
       "    }\n",
       "\n",
       "    .dataframe thead th {\n",
       "        text-align: right;\n",
       "    }\n",
       "</style>\n",
       "<table border=\"1\" class=\"dataframe\">\n",
       "  <thead>\n",
       "    <tr style=\"text-align: right;\">\n",
       "      <th></th>\n",
       "      <th>leader</th>\n",
       "      <th>gov</th>\n",
       "      <th>nuke</th>\n",
       "    </tr>\n",
       "  </thead>\n",
       "  <tbody>\n",
       "    <tr>\n",
       "      <th>India</th>\n",
       "      <td>modi</td>\n",
       "      <td>democratic</td>\n",
       "      <td>NaN</td>\n",
       "    </tr>\n",
       "    <tr>\n",
       "      <th>North Korea</th>\n",
       "      <td>kim jung un</td>\n",
       "      <td>dictator</td>\n",
       "      <td>active</td>\n",
       "    </tr>\n",
       "  </tbody>\n",
       "</table>\n",
       "</div>"
      ],
      "text/plain": [
       "                  leader         gov    nuke\n",
       "India               modi  democratic     NaN\n",
       "North Korea  kim jung un    dictator  active"
      ]
     },
     "execution_count": 46,
     "metadata": {},
     "output_type": "execute_result"
    }
   ],
   "source": [
    "nested_data.T # transpose attribute changes the columns into rows and rows into columns and vice versa"
   ]
  },
  {
   "cell_type": "code",
   "execution_count": 47,
   "id": "bb8e7a92",
   "metadata": {},
   "outputs": [
    {
     "data": {
      "text/html": [
       "<div>\n",
       "<style scoped>\n",
       "    .dataframe tbody tr th:only-of-type {\n",
       "        vertical-align: middle;\n",
       "    }\n",
       "\n",
       "    .dataframe tbody tr th {\n",
       "        vertical-align: top;\n",
       "    }\n",
       "\n",
       "    .dataframe thead th {\n",
       "        text-align: right;\n",
       "    }\n",
       "</style>\n",
       "<table border=\"1\" class=\"dataframe\">\n",
       "  <thead>\n",
       "    <tr style=\"text-align: right;\">\n",
       "      <th></th>\n",
       "      <th>1</th>\n",
       "      <th>2</th>\n",
       "      <th>3</th>\n",
       "    </tr>\n",
       "  </thead>\n",
       "  <tbody>\n",
       "    <tr>\n",
       "      <th>1</th>\n",
       "      <td>10</td>\n",
       "      <td>11</td>\n",
       "      <td>12</td>\n",
       "    </tr>\n",
       "    <tr>\n",
       "      <th>2</th>\n",
       "      <td>20</td>\n",
       "      <td>22</td>\n",
       "      <td>24</td>\n",
       "    </tr>\n",
       "    <tr>\n",
       "      <th>3</th>\n",
       "      <td>30</td>\n",
       "      <td>33</td>\n",
       "      <td>36</td>\n",
       "    </tr>\n",
       "    <tr>\n",
       "      <th>4</th>\n",
       "      <td>40</td>\n",
       "      <td>44</td>\n",
       "      <td>48</td>\n",
       "    </tr>\n",
       "    <tr>\n",
       "      <th>5</th>\n",
       "      <td>50</td>\n",
       "      <td>55</td>\n",
       "      <td>60</td>\n",
       "    </tr>\n",
       "  </tbody>\n",
       "</table>\n",
       "</div>"
      ],
      "text/plain": [
       "    1   2   3\n",
       "1  10  11  12\n",
       "2  20  22  24\n",
       "3  30  33  36\n",
       "4  40  44  48\n",
       "5  50  55  60"
      ]
     },
     "execution_count": 47,
     "metadata": {},
     "output_type": "execute_result"
    }
   ],
   "source": [
    "new = {1:{1:10,2:20,3:30,4:40,5:50},\n",
    "      2:{1:11,2:22,3:33,4:44,5:55},\n",
    "      3:{1:12,2:24,3:36,4:48,5:60}}\n",
    "\n",
    "newer = pd.DataFrame(new)\n",
    "\n",
    "newer"
   ]
  },
  {
   "cell_type": "code",
   "execution_count": 48,
   "id": "2ae241f6",
   "metadata": {},
   "outputs": [
    {
     "data": {
      "text/html": [
       "<div>\n",
       "<style scoped>\n",
       "    .dataframe tbody tr th:only-of-type {\n",
       "        vertical-align: middle;\n",
       "    }\n",
       "\n",
       "    .dataframe tbody tr th {\n",
       "        vertical-align: top;\n",
       "    }\n",
       "\n",
       "    .dataframe thead th {\n",
       "        text-align: right;\n",
       "    }\n",
       "</style>\n",
       "<table border=\"1\" class=\"dataframe\">\n",
       "  <thead>\n",
       "    <tr style=\"text-align: right;\">\n",
       "      <th></th>\n",
       "      <th>x10</th>\n",
       "      <th>x12</th>\n",
       "    </tr>\n",
       "  </thead>\n",
       "  <tbody>\n",
       "    <tr>\n",
       "      <th>1</th>\n",
       "      <td>10</td>\n",
       "      <td>12.0</td>\n",
       "    </tr>\n",
       "    <tr>\n",
       "      <th>2</th>\n",
       "      <td>20</td>\n",
       "      <td>24.0</td>\n",
       "    </tr>\n",
       "    <tr>\n",
       "      <th>3</th>\n",
       "      <td>30</td>\n",
       "      <td>NaN</td>\n",
       "    </tr>\n",
       "    <tr>\n",
       "      <th>4</th>\n",
       "      <td>40</td>\n",
       "      <td>NaN</td>\n",
       "    </tr>\n",
       "  </tbody>\n",
       "</table>\n",
       "</div>"
      ],
      "text/plain": [
       "   x10   x12\n",
       "1   10  12.0\n",
       "2   20  24.0\n",
       "3   30   NaN\n",
       "4   40   NaN"
      ]
     },
     "execution_count": 48,
     "metadata": {},
     "output_type": "execute_result"
    }
   ],
   "source": [
    "pdata = {'x10': newer[1][:-1],  #slicing off chunks of newer dataframe, and writing it onto a pd_frame dataframe\n",
    "        'x12': newer[3][:2]}\n",
    "\n",
    "pd_frame = pd.DataFrame(pdata)\n",
    "\n",
    "pd_frame"
   ]
  },
  {
   "cell_type": "code",
   "execution_count": 49,
   "id": "d5f8b58b",
   "metadata": {},
   "outputs": [],
   "source": [
    "# set cloumn name and index name\n",
    "\n",
    "pd_frame.index.name = 'nums'; pd_frame.columns.name = 'multiplied by'  "
   ]
  },
  {
   "cell_type": "code",
   "execution_count": 50,
   "id": "021f1f9c",
   "metadata": {},
   "outputs": [
    {
     "data": {
      "text/html": [
       "<div>\n",
       "<style scoped>\n",
       "    .dataframe tbody tr th:only-of-type {\n",
       "        vertical-align: middle;\n",
       "    }\n",
       "\n",
       "    .dataframe tbody tr th {\n",
       "        vertical-align: top;\n",
       "    }\n",
       "\n",
       "    .dataframe thead th {\n",
       "        text-align: right;\n",
       "    }\n",
       "</style>\n",
       "<table border=\"1\" class=\"dataframe\">\n",
       "  <thead>\n",
       "    <tr style=\"text-align: right;\">\n",
       "      <th>multiplied by</th>\n",
       "      <th>x10</th>\n",
       "      <th>x12</th>\n",
       "    </tr>\n",
       "    <tr>\n",
       "      <th>nums</th>\n",
       "      <th></th>\n",
       "      <th></th>\n",
       "    </tr>\n",
       "  </thead>\n",
       "  <tbody>\n",
       "    <tr>\n",
       "      <th>1</th>\n",
       "      <td>10</td>\n",
       "      <td>12.0</td>\n",
       "    </tr>\n",
       "    <tr>\n",
       "      <th>2</th>\n",
       "      <td>20</td>\n",
       "      <td>24.0</td>\n",
       "    </tr>\n",
       "    <tr>\n",
       "      <th>3</th>\n",
       "      <td>30</td>\n",
       "      <td>NaN</td>\n",
       "    </tr>\n",
       "    <tr>\n",
       "      <th>4</th>\n",
       "      <td>40</td>\n",
       "      <td>NaN</td>\n",
       "    </tr>\n",
       "  </tbody>\n",
       "</table>\n",
       "</div>"
      ],
      "text/plain": [
       "multiplied by  x10   x12\n",
       "nums                    \n",
       "1               10  12.0\n",
       "2               20  24.0\n",
       "3               30   NaN\n",
       "4               40   NaN"
      ]
     },
     "execution_count": 50,
     "metadata": {},
     "output_type": "execute_result"
    }
   ],
   "source": [
    "pd_frame"
   ]
  },
  {
   "cell_type": "code",
   "execution_count": 51,
   "id": "456902ca",
   "metadata": {},
   "outputs": [
    {
     "data": {
      "text/plain": [
       "array([[10., 12.],\n",
       "       [20., 24.],\n",
       "       [30., nan],\n",
       "       [40., nan]])"
      ]
     },
     "execution_count": 51,
     "metadata": {},
     "output_type": "execute_result"
    }
   ],
   "source": [
    "pd_frame.values # .values returns a 2d array of values "
   ]
  },
  {
   "cell_type": "code",
   "execution_count": 52,
   "id": "3d8140a7",
   "metadata": {},
   "outputs": [
    {
     "data": {
      "text/plain": [
       "numpy.ndarray"
      ]
     },
     "execution_count": 52,
     "metadata": {},
     "output_type": "execute_result"
    }
   ],
   "source": [
    "type(pd_frame.values)"
   ]
  },
  {
   "cell_type": "code",
   "execution_count": 53,
   "id": "bbad9ae0",
   "metadata": {},
   "outputs": [
    {
     "data": {
      "text/plain": [
       "array([['India', 'Asia', 120934523, '€32m', '62%'],\n",
       "       ['Austria', 'Europe', 2398762, '€10m', '90%'],\n",
       "       ['Usa', 'North America', 15000000, '€1.2b', '87%'],\n",
       "       ['Iran', 'Middle East', 54637263, '€30k', nan],\n",
       "       ['Tasmania', 'Australia', 309287, '€420m', nan],\n",
       "       ['Angola', 'Africa', 31092832, '€88m', '42%'],\n",
       "       ['Chile', 'South America', 27894562, '€2.3b', nan]], dtype=object)"
      ]
     },
     "execution_count": 53,
     "metadata": {},
     "output_type": "execute_result"
    }
   ],
   "source": [
    "frame3.values"
   ]
  },
  {
   "cell_type": "markdown",
   "id": "37608202",
   "metadata": {},
   "source": [
    "### Index Objects "
   ]
  },
  {
   "cell_type": "markdown",
   "id": "9f88dad4",
   "metadata": {},
   "source": [
    "Pandas index objects are responsible for holiding the axis labels and other metadata. Any array or sequence of labels constructed in series or dataframe is internally converted into an index"
   ]
  },
  {
   "cell_type": "code",
   "execution_count": 54,
   "id": "80ee64c6",
   "metadata": {},
   "outputs": [],
   "source": [
    "ss = pd.Series(range(3), index=['a','b','c'])"
   ]
  },
  {
   "cell_type": "code",
   "execution_count": 55,
   "id": "18f5ffdb",
   "metadata": {},
   "outputs": [],
   "source": [
    "index = ss.index"
   ]
  },
  {
   "cell_type": "code",
   "execution_count": 56,
   "id": "aed60153",
   "metadata": {},
   "outputs": [
    {
     "data": {
      "text/plain": [
       "Index(['a', 'b', 'c'], dtype='object')"
      ]
     },
     "execution_count": 56,
     "metadata": {},
     "output_type": "execute_result"
    }
   ],
   "source": [
    "index"
   ]
  },
  {
   "cell_type": "code",
   "execution_count": 57,
   "id": "959d4e45",
   "metadata": {},
   "outputs": [
    {
     "data": {
      "text/plain": [
       "'c'"
      ]
     },
     "execution_count": 57,
     "metadata": {},
     "output_type": "execute_result"
    }
   ],
   "source": [
    "index[-1]"
   ]
  },
  {
   "cell_type": "code",
   "execution_count": 58,
   "id": "17bafd6b",
   "metadata": {},
   "outputs": [
    {
     "data": {
      "text/plain": [
       "Index(['a', 'b'], dtype='object')"
      ]
     },
     "execution_count": 58,
     "metadata": {},
     "output_type": "execute_result"
    }
   ],
   "source": [
    "index[:-1]"
   ]
  },
  {
   "cell_type": "code",
   "execution_count": 59,
   "id": "aae5514e",
   "metadata": {},
   "outputs": [],
   "source": [
    "# index objects are immutable "
   ]
  },
  {
   "cell_type": "code",
   "execution_count": null,
   "id": "6aa9faef",
   "metadata": {},
   "outputs": [],
   "source": []
  }
 ],
 "metadata": {
  "kernelspec": {
   "display_name": "Python 3 (ipykernel)",
   "language": "python",
   "name": "python3"
  },
  "language_info": {
   "codemirror_mode": {
    "name": "ipython",
    "version": 3
   },
   "file_extension": ".py",
   "mimetype": "text/x-python",
   "name": "python",
   "nbconvert_exporter": "python",
   "pygments_lexer": "ipython3",
   "version": "3.9.7"
  }
 },
 "nbformat": 4,
 "nbformat_minor": 5
}
